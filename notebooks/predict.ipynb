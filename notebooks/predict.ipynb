{
 "cells": [
  {
   "cell_type": "markdown",
   "metadata": {},
   "source": [
    "# Libraries"
   ]
  },
  {
   "cell_type": "code",
   "execution_count": 1,
   "metadata": {},
   "outputs": [],
   "source": [
    "import  pandas as pd\n",
    "import  numpy as np\n",
    "import  json\n",
    "import  plotly.express as px\n",
    "import  matplotlib.pyplot as plt\n",
    "import  plotly.graph_objs as go\n",
    "from    xgboost         import XGBClassifier\n",
    "from    sklearn.metrics import accuracy_score\n",
    "from    sklearn.metrics import confusion_matrix\n",
    "from    sklearn.metrics import precision_score\n",
    "from    sklearn.metrics import recall_score\n",
    "from    sklearn.metrics import f1_score\n",
    "from    sklearn.metrics import roc_auc_score\n",
    "from    sklearn.metrics import ConfusionMatrixDisplay\n",
    "from    sklearn.metrics import RocCurveDisplay"
   ]
  },
  {
   "cell_type": "code",
   "execution_count": 2,
   "metadata": {},
   "outputs": [],
   "source": [
    "RANDOM_SEED = np.random.seed(0)"
   ]
  },
  {
   "cell_type": "code",
   "execution_count": 3,
   "metadata": {},
   "outputs": [
    {
     "name": "stdout",
     "output_type": "stream",
     "text": [
      "c:\\Users\\victo\\Downloads\\00. Estudo Data Science\\aps_failure_truck_prediction\n"
     ]
    },
    {
     "name": "stderr",
     "output_type": "stream",
     "text": [
      "c:\\Users\\victo\\Downloads\\00. Estudo Data Science\\aps_failure_truck_prediction\\venv\\Lib\\site-packages\\IPython\\core\\magics\\osm.py:417: UserWarning: This is now an optional IPython functionality, setting dhist requires you to install the `pickleshare` library.\n",
      "  self.shell.db['dhist'] = compress_dhist(dhist)[-100:]\n"
     ]
    }
   ],
   "source": [
    "cd ..\\"
   ]
  },
  {
   "cell_type": "markdown",
   "metadata": {},
   "source": [
    "# Test"
   ]
  },
  {
   "cell_type": "code",
   "execution_count": 4,
   "metadata": {},
   "outputs": [
    {
     "data": {
      "text/html": [
       "<div>\n",
       "<style scoped>\n",
       "    .dataframe tbody tr th:only-of-type {\n",
       "        vertical-align: middle;\n",
       "    }\n",
       "\n",
       "    .dataframe tbody tr th {\n",
       "        vertical-align: top;\n",
       "    }\n",
       "\n",
       "    .dataframe thead th {\n",
       "        text-align: right;\n",
       "    }\n",
       "</style>\n",
       "<table border=\"1\" class=\"dataframe\">\n",
       "  <thead>\n",
       "    <tr style=\"text-align: right;\">\n",
       "      <th></th>\n",
       "      <th>class</th>\n",
       "      <th>aa_000</th>\n",
       "      <th>ab_000</th>\n",
       "      <th>ac_000</th>\n",
       "      <th>ad_000</th>\n",
       "      <th>ae_000</th>\n",
       "      <th>af_000</th>\n",
       "      <th>ag_000</th>\n",
       "      <th>ag_001</th>\n",
       "      <th>ag_002</th>\n",
       "      <th>...</th>\n",
       "      <th>ee_002</th>\n",
       "      <th>ee_003</th>\n",
       "      <th>ee_004</th>\n",
       "      <th>ee_005</th>\n",
       "      <th>ee_006</th>\n",
       "      <th>ee_007</th>\n",
       "      <th>ee_008</th>\n",
       "      <th>ee_009</th>\n",
       "      <th>ef_000</th>\n",
       "      <th>eg_000</th>\n",
       "    </tr>\n",
       "  </thead>\n",
       "  <tbody>\n",
       "    <tr>\n",
       "      <th>0</th>\n",
       "      <td>neg</td>\n",
       "      <td>60</td>\n",
       "      <td>0.0</td>\n",
       "      <td>20.0</td>\n",
       "      <td>12.0</td>\n",
       "      <td>0.0</td>\n",
       "      <td>0.0</td>\n",
       "      <td>0.0</td>\n",
       "      <td>0.0</td>\n",
       "      <td>0.0</td>\n",
       "      <td>...</td>\n",
       "      <td>1098.0</td>\n",
       "      <td>138.0</td>\n",
       "      <td>412.0</td>\n",
       "      <td>654.0</td>\n",
       "      <td>78.0</td>\n",
       "      <td>88.0</td>\n",
       "      <td>0.0</td>\n",
       "      <td>0.0</td>\n",
       "      <td>0.0</td>\n",
       "      <td>0.0</td>\n",
       "    </tr>\n",
       "    <tr>\n",
       "      <th>1</th>\n",
       "      <td>neg</td>\n",
       "      <td>82</td>\n",
       "      <td>0.0</td>\n",
       "      <td>68.0</td>\n",
       "      <td>40.0</td>\n",
       "      <td>0.0</td>\n",
       "      <td>0.0</td>\n",
       "      <td>0.0</td>\n",
       "      <td>0.0</td>\n",
       "      <td>0.0</td>\n",
       "      <td>...</td>\n",
       "      <td>1068.0</td>\n",
       "      <td>276.0</td>\n",
       "      <td>1620.0</td>\n",
       "      <td>116.0</td>\n",
       "      <td>86.0</td>\n",
       "      <td>462.0</td>\n",
       "      <td>0.0</td>\n",
       "      <td>0.0</td>\n",
       "      <td>0.0</td>\n",
       "      <td>0.0</td>\n",
       "    </tr>\n",
       "    <tr>\n",
       "      <th>2</th>\n",
       "      <td>neg</td>\n",
       "      <td>66002</td>\n",
       "      <td>2.0</td>\n",
       "      <td>212.0</td>\n",
       "      <td>112.0</td>\n",
       "      <td>0.0</td>\n",
       "      <td>0.0</td>\n",
       "      <td>0.0</td>\n",
       "      <td>0.0</td>\n",
       "      <td>0.0</td>\n",
       "      <td>...</td>\n",
       "      <td>495076.0</td>\n",
       "      <td>380368.0</td>\n",
       "      <td>440134.0</td>\n",
       "      <td>269556.0</td>\n",
       "      <td>1315022.0</td>\n",
       "      <td>153680.0</td>\n",
       "      <td>516.0</td>\n",
       "      <td>0.0</td>\n",
       "      <td>0.0</td>\n",
       "      <td>0.0</td>\n",
       "    </tr>\n",
       "    <tr>\n",
       "      <th>3</th>\n",
       "      <td>neg</td>\n",
       "      <td>59816</td>\n",
       "      <td>NaN</td>\n",
       "      <td>1010.0</td>\n",
       "      <td>936.0</td>\n",
       "      <td>0.0</td>\n",
       "      <td>0.0</td>\n",
       "      <td>0.0</td>\n",
       "      <td>0.0</td>\n",
       "      <td>0.0</td>\n",
       "      <td>...</td>\n",
       "      <td>540820.0</td>\n",
       "      <td>243270.0</td>\n",
       "      <td>483302.0</td>\n",
       "      <td>485332.0</td>\n",
       "      <td>431376.0</td>\n",
       "      <td>210074.0</td>\n",
       "      <td>281662.0</td>\n",
       "      <td>3232.0</td>\n",
       "      <td>0.0</td>\n",
       "      <td>0.0</td>\n",
       "    </tr>\n",
       "    <tr>\n",
       "      <th>4</th>\n",
       "      <td>neg</td>\n",
       "      <td>1814</td>\n",
       "      <td>NaN</td>\n",
       "      <td>156.0</td>\n",
       "      <td>140.0</td>\n",
       "      <td>0.0</td>\n",
       "      <td>0.0</td>\n",
       "      <td>0.0</td>\n",
       "      <td>0.0</td>\n",
       "      <td>0.0</td>\n",
       "      <td>...</td>\n",
       "      <td>7646.0</td>\n",
       "      <td>4144.0</td>\n",
       "      <td>18466.0</td>\n",
       "      <td>49782.0</td>\n",
       "      <td>3176.0</td>\n",
       "      <td>482.0</td>\n",
       "      <td>76.0</td>\n",
       "      <td>0.0</td>\n",
       "      <td>0.0</td>\n",
       "      <td>0.0</td>\n",
       "    </tr>\n",
       "  </tbody>\n",
       "</table>\n",
       "<p>5 rows × 171 columns</p>\n",
       "</div>"
      ],
      "text/plain": [
       "  class  aa_000  ab_000  ac_000  ad_000  ae_000  af_000  ag_000  ag_001  \\\n",
       "0   neg      60     0.0    20.0    12.0     0.0     0.0     0.0     0.0   \n",
       "1   neg      82     0.0    68.0    40.0     0.0     0.0     0.0     0.0   \n",
       "2   neg   66002     2.0   212.0   112.0     0.0     0.0     0.0     0.0   \n",
       "3   neg   59816     NaN  1010.0   936.0     0.0     0.0     0.0     0.0   \n",
       "4   neg    1814     NaN   156.0   140.0     0.0     0.0     0.0     0.0   \n",
       "\n",
       "   ag_002  ...    ee_002    ee_003    ee_004    ee_005     ee_006    ee_007  \\\n",
       "0     0.0  ...    1098.0     138.0     412.0     654.0       78.0      88.0   \n",
       "1     0.0  ...    1068.0     276.0    1620.0     116.0       86.0     462.0   \n",
       "2     0.0  ...  495076.0  380368.0  440134.0  269556.0  1315022.0  153680.0   \n",
       "3     0.0  ...  540820.0  243270.0  483302.0  485332.0   431376.0  210074.0   \n",
       "4     0.0  ...    7646.0    4144.0   18466.0   49782.0     3176.0     482.0   \n",
       "\n",
       "     ee_008  ee_009  ef_000  eg_000  \n",
       "0       0.0     0.0     0.0     0.0  \n",
       "1       0.0     0.0     0.0     0.0  \n",
       "2     516.0     0.0     0.0     0.0  \n",
       "3  281662.0  3232.0     0.0     0.0  \n",
       "4      76.0     0.0     0.0     0.0  \n",
       "\n",
       "[5 rows x 171 columns]"
      ]
     },
     "execution_count": 4,
     "metadata": {},
     "output_type": "execute_result"
    }
   ],
   "source": [
    "df_test = pd.read_csv('data\\\\original\\\\air_system_present_year.csv',\n",
    "                      encoding='utf-8',\n",
    "                      na_values=['na']\n",
    "                      )\n",
    "df_test.head()"
   ]
  },
  {
   "cell_type": "code",
   "execution_count": 5,
   "metadata": {},
   "outputs": [
    {
     "data": {
      "text/plain": [
       "class      object\n",
       "aa_000      int64\n",
       "ab_000    float64\n",
       "ac_000    float64\n",
       "ad_000    float64\n",
       "           ...   \n",
       "ee_007    float64\n",
       "ee_008    float64\n",
       "ee_009    float64\n",
       "ef_000    float64\n",
       "eg_000    float64\n",
       "Length: 171, dtype: object"
      ]
     },
     "execution_count": 5,
     "metadata": {},
     "output_type": "execute_result"
    }
   ],
   "source": [
    "df_test.dtypes"
   ]
  },
  {
   "cell_type": "code",
   "execution_count": 6,
   "metadata": {},
   "outputs": [
    {
     "data": {
      "text/plain": [
       "br_000    13129\n",
       "bq_000    12981\n",
       "bp_000    12721\n",
       "bo_000    12376\n",
       "ab_000    12363\n",
       "          ...  \n",
       "cj_000       86\n",
       "ci_000       86\n",
       "bt_000       28\n",
       "aa_000        0\n",
       "class         0\n",
       "Length: 171, dtype: int64"
      ]
     },
     "execution_count": 6,
     "metadata": {},
     "output_type": "execute_result"
    }
   ],
   "source": [
    "df_test.isna().sum().sort_values(ascending=False)"
   ]
  },
  {
   "cell_type": "code",
   "execution_count": 7,
   "metadata": {},
   "outputs": [
    {
     "data": {
      "text/plain": [
       "class\n",
       "neg    15625\n",
       "pos      375\n",
       "Name: count, dtype: int64"
      ]
     },
     "execution_count": 7,
     "metadata": {},
     "output_type": "execute_result"
    }
   ],
   "source": [
    "df_test['class'].value_counts()"
   ]
  },
  {
   "cell_type": "code",
   "execution_count": 8,
   "metadata": {},
   "outputs": [
    {
     "data": {
      "text/plain": [
       "(97.66, 2.34)"
      ]
     },
     "execution_count": 8,
     "metadata": {},
     "output_type": "execute_result"
    }
   ],
   "source": [
    "# Calculate events proportion\n",
    "total     = df_test.shape[0]\n",
    "non_event = df_test[df_test['class'] == 'neg'].shape[0]\n",
    "event     = df_test[df_test['class'] == 'pos'].shape[0]\n",
    "\n",
    "non_event_percent = round(non_event / total * 100, 2)\n",
    "event_percent     = round(event / total * 100, 2)\n",
    "\n",
    "non_event_percent, event_percent"
   ]
  },
  {
   "cell_type": "code",
   "execution_count": 9,
   "metadata": {},
   "outputs": [],
   "source": [
    "# Change class to int dummies\n",
    "map_class = {'neg': 0, 'pos': 1}\n",
    "df_test['class'] = df_test['class'].map(map_class)\n",
    "\n",
    "# Features to float\n",
    "features = df_test.drop(columns='class').columns\n",
    "df_test[features] = df_test[features].astype(float)"
   ]
  },
  {
   "cell_type": "code",
   "execution_count": 10,
   "metadata": {},
   "outputs": [],
   "source": [
    "# Load features from train dataset processed\n",
    "with open('train_artifacts\\\\top_20_features_xgb_clf.json', 'r', encoding='utf-8') as file:\n",
    "    top_20_features_xgb_clf = json.load(file)"
   ]
  },
  {
   "cell_type": "code",
   "execution_count": 11,
   "metadata": {},
   "outputs": [],
   "source": [
    "X_test = df_test[top_20_features_xgb_clf]\n",
    "y_test = df_test['class']"
   ]
  },
  {
   "cell_type": "markdown",
   "metadata": {},
   "source": [
    "# Predict"
   ]
  },
  {
   "cell_type": "code",
   "execution_count": 12,
   "metadata": {},
   "outputs": [],
   "source": [
    "# Load model trained\n",
    "xgb_clf = XGBClassifier(random_state=RANDOM_SEED, verbosity=0)\n",
    "xgb_clf.load_model(('train_artifacts\\\\xgb_clf.json'))"
   ]
  },
  {
   "cell_type": "code",
   "execution_count": 13,
   "metadata": {},
   "outputs": [
    {
     "data": {
      "text/plain": [
       "array([0.3540612 , 0.57404876, 0.78853816, ..., 0.00410051, 0.3675424 ,\n",
       "       0.7815899 ], dtype=float32)"
      ]
     },
     "execution_count": 13,
     "metadata": {},
     "output_type": "execute_result"
    }
   ],
   "source": [
    "# Predict event probabilities\n",
    "y_predict_proba = xgb_clf.predict_proba(X_test)[:, 1]\n",
    "y_predict_proba"
   ]
  },
  {
   "cell_type": "markdown",
   "metadata": {},
   "source": [
    "# Metrics"
   ]
  },
  {
   "cell_type": "code",
   "execution_count": 14,
   "metadata": {},
   "outputs": [],
   "source": [
    "costs = {\"maintenance_cost\": {\"no_defect_cost\": 10,\n",
    "                              \"preventive_cost\": 25,\n",
    "                              \"corrective_cost\": 500}\n",
    "        }\n",
    "no_defect_cost  = costs.get('maintenance_cost')['no_defect_cost']\n",
    "preventive_cost = costs.get('maintenance_cost')['preventive_cost']\n",
    "corrective_cost = costs.get('maintenance_cost')['corrective_cost']"
   ]
  },
  {
   "cell_type": "code",
   "execution_count": 15,
   "metadata": {},
   "outputs": [],
   "source": [
    "results = []\n",
    "for cutoff in np.arange(0.05, 0.99, 0.01):\n",
    "    y_predict      = np.where(y_predict_proba >= cutoff, 1, 0)\n",
    "    accuracy       = accuracy_score(y_test, y_predict)\n",
    "    precision      = precision_score(y_test, y_predict, zero_division=0)\n",
    "    recall         = recall_score(y_test, y_predict, zero_division=0)\n",
    "    f1score        = f1_score(y_test, y_predict, zero_division=0)\n",
    "    auc_value      = roc_auc_score(y_test, y_predict)\n",
    "    tn, fp, fn, tp = confusion_matrix(y_test, y_predict).ravel()\n",
    "    specificity    = tn / (tn + fp)\n",
    "    no_defect_maintenance_cost  = fp * no_defect_cost\n",
    "    preventive_maintenance_cost = tp * preventive_cost\n",
    "    corrective_maintenance_cost = fn * corrective_cost\n",
    "    total_maintenance_cost = no_defect_maintenance_cost \\\n",
    "                                + preventive_maintenance_cost \\\n",
    "                                    + corrective_maintenance_cost\n",
    "    results.append([cutoff, accuracy, precision,\n",
    "                    recall, f1score,\n",
    "                    auc_value, tn, fp, fn, tp,\n",
    "                    specificity, no_defect_maintenance_cost,\n",
    "                    preventive_maintenance_cost,\n",
    "                    corrective_maintenance_cost,\n",
    "                    total_maintenance_cost]\n",
    "                  )"
   ]
  },
  {
   "cell_type": "code",
   "execution_count": 16,
   "metadata": {},
   "outputs": [
    {
     "data": {
      "text/html": [
       "<div>\n",
       "<style scoped>\n",
       "    .dataframe tbody tr th:only-of-type {\n",
       "        vertical-align: middle;\n",
       "    }\n",
       "\n",
       "    .dataframe tbody tr th {\n",
       "        vertical-align: top;\n",
       "    }\n",
       "\n",
       "    .dataframe thead th {\n",
       "        text-align: right;\n",
       "    }\n",
       "</style>\n",
       "<table border=\"1\" class=\"dataframe\">\n",
       "  <thead>\n",
       "    <tr style=\"text-align: right;\">\n",
       "      <th></th>\n",
       "      <th>cutoff</th>\n",
       "      <th>accuracy</th>\n",
       "      <th>precision</th>\n",
       "      <th>recall</th>\n",
       "      <th>f1score</th>\n",
       "      <th>auc_value</th>\n",
       "      <th>tn</th>\n",
       "      <th>fp</th>\n",
       "      <th>fn</th>\n",
       "      <th>tp</th>\n",
       "      <th>specificity</th>\n",
       "      <th>no_defect_maintenance_cost</th>\n",
       "      <th>preventive_maintenance_cost</th>\n",
       "      <th>corrective_maintenance_cost</th>\n",
       "      <th>total_maintenance_cost</th>\n",
       "    </tr>\n",
       "  </thead>\n",
       "  <tbody>\n",
       "    <tr>\n",
       "      <th>0</th>\n",
       "      <td>0.05</td>\n",
       "      <td>0.335875</td>\n",
       "      <td>0.032558</td>\n",
       "      <td>0.952000</td>\n",
       "      <td>0.062963</td>\n",
       "      <td>0.636544</td>\n",
       "      <td>5017</td>\n",
       "      <td>10608</td>\n",
       "      <td>18</td>\n",
       "      <td>357</td>\n",
       "      <td>0.321088</td>\n",
       "      <td>106080</td>\n",
       "      <td>8925</td>\n",
       "      <td>9000</td>\n",
       "      <td>124005</td>\n",
       "    </tr>\n",
       "    <tr>\n",
       "      <th>1</th>\n",
       "      <td>0.06</td>\n",
       "      <td>0.345438</td>\n",
       "      <td>0.032500</td>\n",
       "      <td>0.936000</td>\n",
       "      <td>0.062819</td>\n",
       "      <td>0.633632</td>\n",
       "      <td>5176</td>\n",
       "      <td>10449</td>\n",
       "      <td>24</td>\n",
       "      <td>351</td>\n",
       "      <td>0.331264</td>\n",
       "      <td>104490</td>\n",
       "      <td>8775</td>\n",
       "      <td>12000</td>\n",
       "      <td>125265</td>\n",
       "    </tr>\n",
       "    <tr>\n",
       "      <th>2</th>\n",
       "      <td>0.07</td>\n",
       "      <td>0.359938</td>\n",
       "      <td>0.032860</td>\n",
       "      <td>0.925333</td>\n",
       "      <td>0.063466</td>\n",
       "      <td>0.635851</td>\n",
       "      <td>5412</td>\n",
       "      <td>10213</td>\n",
       "      <td>28</td>\n",
       "      <td>347</td>\n",
       "      <td>0.346368</td>\n",
       "      <td>102130</td>\n",
       "      <td>8675</td>\n",
       "      <td>14000</td>\n",
       "      <td>124805</td>\n",
       "    </tr>\n",
       "    <tr>\n",
       "      <th>3</th>\n",
       "      <td>0.08</td>\n",
       "      <td>0.375937</td>\n",
       "      <td>0.033314</td>\n",
       "      <td>0.914667</td>\n",
       "      <td>0.064286</td>\n",
       "      <td>0.638837</td>\n",
       "      <td>5672</td>\n",
       "      <td>9953</td>\n",
       "      <td>32</td>\n",
       "      <td>343</td>\n",
       "      <td>0.363008</td>\n",
       "      <td>99530</td>\n",
       "      <td>8575</td>\n",
       "      <td>16000</td>\n",
       "      <td>124105</td>\n",
       "    </tr>\n",
       "    <tr>\n",
       "      <th>4</th>\n",
       "      <td>0.09</td>\n",
       "      <td>0.392000</td>\n",
       "      <td>0.034074</td>\n",
       "      <td>0.912000</td>\n",
       "      <td>0.065693</td>\n",
       "      <td>0.645760</td>\n",
       "      <td>5930</td>\n",
       "      <td>9695</td>\n",
       "      <td>33</td>\n",
       "      <td>342</td>\n",
       "      <td>0.379520</td>\n",
       "      <td>96950</td>\n",
       "      <td>8550</td>\n",
       "      <td>16500</td>\n",
       "      <td>122000</td>\n",
       "    </tr>\n",
       "    <tr>\n",
       "      <th>...</th>\n",
       "      <td>...</td>\n",
       "      <td>...</td>\n",
       "      <td>...</td>\n",
       "      <td>...</td>\n",
       "      <td>...</td>\n",
       "      <td>...</td>\n",
       "      <td>...</td>\n",
       "      <td>...</td>\n",
       "      <td>...</td>\n",
       "      <td>...</td>\n",
       "      <td>...</td>\n",
       "      <td>...</td>\n",
       "      <td>...</td>\n",
       "      <td>...</td>\n",
       "      <td>...</td>\n",
       "    </tr>\n",
       "    <tr>\n",
       "      <th>89</th>\n",
       "      <td>0.94</td>\n",
       "      <td>0.976688</td>\n",
       "      <td>0.510417</td>\n",
       "      <td>0.130667</td>\n",
       "      <td>0.208068</td>\n",
       "      <td>0.563829</td>\n",
       "      <td>15578</td>\n",
       "      <td>47</td>\n",
       "      <td>326</td>\n",
       "      <td>49</td>\n",
       "      <td>0.996992</td>\n",
       "      <td>470</td>\n",
       "      <td>1225</td>\n",
       "      <td>163000</td>\n",
       "      <td>164695</td>\n",
       "    </tr>\n",
       "    <tr>\n",
       "      <th>90</th>\n",
       "      <td>0.95</td>\n",
       "      <td>0.977375</td>\n",
       "      <td>0.589041</td>\n",
       "      <td>0.114667</td>\n",
       "      <td>0.191964</td>\n",
       "      <td>0.556373</td>\n",
       "      <td>15595</td>\n",
       "      <td>30</td>\n",
       "      <td>332</td>\n",
       "      <td>43</td>\n",
       "      <td>0.998080</td>\n",
       "      <td>300</td>\n",
       "      <td>1075</td>\n",
       "      <td>166000</td>\n",
       "      <td>167375</td>\n",
       "    </tr>\n",
       "    <tr>\n",
       "      <th>91</th>\n",
       "      <td>0.96</td>\n",
       "      <td>0.978000</td>\n",
       "      <td>0.725490</td>\n",
       "      <td>0.098667</td>\n",
       "      <td>0.173709</td>\n",
       "      <td>0.548885</td>\n",
       "      <td>15611</td>\n",
       "      <td>14</td>\n",
       "      <td>338</td>\n",
       "      <td>37</td>\n",
       "      <td>0.999104</td>\n",
       "      <td>140</td>\n",
       "      <td>925</td>\n",
       "      <td>169000</td>\n",
       "      <td>170065</td>\n",
       "    </tr>\n",
       "    <tr>\n",
       "      <th>92</th>\n",
       "      <td>0.97</td>\n",
       "      <td>0.977875</td>\n",
       "      <td>0.744186</td>\n",
       "      <td>0.085333</td>\n",
       "      <td>0.153110</td>\n",
       "      <td>0.542315</td>\n",
       "      <td>15614</td>\n",
       "      <td>11</td>\n",
       "      <td>343</td>\n",
       "      <td>32</td>\n",
       "      <td>0.999296</td>\n",
       "      <td>110</td>\n",
       "      <td>800</td>\n",
       "      <td>171500</td>\n",
       "      <td>172410</td>\n",
       "    </tr>\n",
       "    <tr>\n",
       "      <th>93</th>\n",
       "      <td>0.98</td>\n",
       "      <td>0.977500</td>\n",
       "      <td>0.758621</td>\n",
       "      <td>0.058667</td>\n",
       "      <td>0.108911</td>\n",
       "      <td>0.529109</td>\n",
       "      <td>15618</td>\n",
       "      <td>7</td>\n",
       "      <td>353</td>\n",
       "      <td>22</td>\n",
       "      <td>0.999552</td>\n",
       "      <td>70</td>\n",
       "      <td>550</td>\n",
       "      <td>176500</td>\n",
       "      <td>177120</td>\n",
       "    </tr>\n",
       "  </tbody>\n",
       "</table>\n",
       "<p>94 rows × 15 columns</p>\n",
       "</div>"
      ],
      "text/plain": [
       "    cutoff  accuracy  precision    recall   f1score  auc_value     tn     fp  \\\n",
       "0     0.05  0.335875   0.032558  0.952000  0.062963   0.636544   5017  10608   \n",
       "1     0.06  0.345438   0.032500  0.936000  0.062819   0.633632   5176  10449   \n",
       "2     0.07  0.359938   0.032860  0.925333  0.063466   0.635851   5412  10213   \n",
       "3     0.08  0.375937   0.033314  0.914667  0.064286   0.638837   5672   9953   \n",
       "4     0.09  0.392000   0.034074  0.912000  0.065693   0.645760   5930   9695   \n",
       "..     ...       ...        ...       ...       ...        ...    ...    ...   \n",
       "89    0.94  0.976688   0.510417  0.130667  0.208068   0.563829  15578     47   \n",
       "90    0.95  0.977375   0.589041  0.114667  0.191964   0.556373  15595     30   \n",
       "91    0.96  0.978000   0.725490  0.098667  0.173709   0.548885  15611     14   \n",
       "92    0.97  0.977875   0.744186  0.085333  0.153110   0.542315  15614     11   \n",
       "93    0.98  0.977500   0.758621  0.058667  0.108911   0.529109  15618      7   \n",
       "\n",
       "     fn   tp  specificity  no_defect_maintenance_cost  \\\n",
       "0    18  357     0.321088                      106080   \n",
       "1    24  351     0.331264                      104490   \n",
       "2    28  347     0.346368                      102130   \n",
       "3    32  343     0.363008                       99530   \n",
       "4    33  342     0.379520                       96950   \n",
       "..  ...  ...          ...                         ...   \n",
       "89  326   49     0.996992                         470   \n",
       "90  332   43     0.998080                         300   \n",
       "91  338   37     0.999104                         140   \n",
       "92  343   32     0.999296                         110   \n",
       "93  353   22     0.999552                          70   \n",
       "\n",
       "    preventive_maintenance_cost  corrective_maintenance_cost  \\\n",
       "0                          8925                         9000   \n",
       "1                          8775                        12000   \n",
       "2                          8675                        14000   \n",
       "3                          8575                        16000   \n",
       "4                          8550                        16500   \n",
       "..                          ...                          ...   \n",
       "89                         1225                       163000   \n",
       "90                         1075                       166000   \n",
       "91                          925                       169000   \n",
       "92                          800                       171500   \n",
       "93                          550                       176500   \n",
       "\n",
       "    total_maintenance_cost  \n",
       "0                   124005  \n",
       "1                   125265  \n",
       "2                   124805  \n",
       "3                   124105  \n",
       "4                   122000  \n",
       "..                     ...  \n",
       "89                  164695  \n",
       "90                  167375  \n",
       "91                  170065  \n",
       "92                  172410  \n",
       "93                  177120  \n",
       "\n",
       "[94 rows x 15 columns]"
      ]
     },
     "execution_count": 16,
     "metadata": {},
     "output_type": "execute_result"
    }
   ],
   "source": [
    "df_metrics = pd.DataFrame(results,\n",
    "                          columns=['cutoff', 'accuracy', 'precision',\n",
    "                                   'recall', 'f1score' , 'auc_value',\n",
    "                                   'tn', 'fp', 'fn', 'tp',\n",
    "                                   'specificity', 'no_defect_maintenance_cost',\n",
    "                                   'preventive_maintenance_cost',\n",
    "                                   'corrective_maintenance_cost',\n",
    "                                   'total_maintenance_cost']\n",
    "                         )\n",
    "df_metrics"
   ]
  },
  {
   "cell_type": "code",
   "execution_count": 23,
   "metadata": {},
   "outputs": [
    {
     "data": {
      "text/plain": [
       "np.int64(108270)"
      ]
     },
     "execution_count": 23,
     "metadata": {},
     "output_type": "execute_result"
    }
   ],
   "source": [
    "df_metrics['total_maintenance_cost'].min()"
   ]
  },
  {
   "cell_type": "code",
   "execution_count": 22,
   "metadata": {},
   "outputs": [
    {
     "ename": "KeyError",
     "evalue": "np.int64(108270)",
     "output_type": "error",
     "traceback": [
      "\u001b[1;31m---------------------------------------------------------------------------\u001b[0m",
      "\u001b[1;31mValueError\u001b[0m                                Traceback (most recent call last)",
      "File \u001b[1;32mc:\\Users\\victo\\Downloads\\00. Estudo Data Science\\aps_failure_truck_prediction\\venv\\Lib\\site-packages\\pandas\\core\\indexes\\range.py:413\u001b[0m, in \u001b[0;36mRangeIndex.get_loc\u001b[1;34m(self, key)\u001b[0m\n\u001b[0;32m    412\u001b[0m \u001b[38;5;28;01mtry\u001b[39;00m:\n\u001b[1;32m--> 413\u001b[0m     \u001b[38;5;28;01mreturn\u001b[39;00m \u001b[38;5;28;43mself\u001b[39;49m\u001b[38;5;241;43m.\u001b[39;49m\u001b[43m_range\u001b[49m\u001b[38;5;241;43m.\u001b[39;49m\u001b[43mindex\u001b[49m\u001b[43m(\u001b[49m\u001b[43mnew_key\u001b[49m\u001b[43m)\u001b[49m\n\u001b[0;32m    414\u001b[0m \u001b[38;5;28;01mexcept\u001b[39;00m \u001b[38;5;167;01mValueError\u001b[39;00m \u001b[38;5;28;01mas\u001b[39;00m err:\n",
      "\u001b[1;31mValueError\u001b[0m: 108270 is not in range",
      "\nThe above exception was the direct cause of the following exception:\n",
      "\u001b[1;31mKeyError\u001b[0m                                  Traceback (most recent call last)",
      "Cell \u001b[1;32mIn[22], line 1\u001b[0m\n\u001b[1;32m----> 1\u001b[0m \u001b[43mdf_metrics\u001b[49m\u001b[38;5;241;43m.\u001b[39;49m\u001b[43mloc\u001b[49m\u001b[43m[\u001b[49m\u001b[43mdf_metrics\u001b[49m\u001b[43m[\u001b[49m\u001b[38;5;124;43m'\u001b[39;49m\u001b[38;5;124;43mtotal_maintenance_cost\u001b[39;49m\u001b[38;5;124;43m'\u001b[39;49m\u001b[43m]\u001b[49m\u001b[38;5;241;43m.\u001b[39;49m\u001b[43mmin\u001b[49m\u001b[43m(\u001b[49m\u001b[43m)\u001b[49m\u001b[43m]\u001b[49m\n",
      "File \u001b[1;32mc:\\Users\\victo\\Downloads\\00. Estudo Data Science\\aps_failure_truck_prediction\\venv\\Lib\\site-packages\\pandas\\core\\indexing.py:1191\u001b[0m, in \u001b[0;36m_LocationIndexer.__getitem__\u001b[1;34m(self, key)\u001b[0m\n\u001b[0;32m   1189\u001b[0m maybe_callable \u001b[38;5;241m=\u001b[39m com\u001b[38;5;241m.\u001b[39mapply_if_callable(key, \u001b[38;5;28mself\u001b[39m\u001b[38;5;241m.\u001b[39mobj)\n\u001b[0;32m   1190\u001b[0m maybe_callable \u001b[38;5;241m=\u001b[39m \u001b[38;5;28mself\u001b[39m\u001b[38;5;241m.\u001b[39m_check_deprecated_callable_usage(key, maybe_callable)\n\u001b[1;32m-> 1191\u001b[0m \u001b[38;5;28;01mreturn\u001b[39;00m \u001b[38;5;28;43mself\u001b[39;49m\u001b[38;5;241;43m.\u001b[39;49m\u001b[43m_getitem_axis\u001b[49m\u001b[43m(\u001b[49m\u001b[43mmaybe_callable\u001b[49m\u001b[43m,\u001b[49m\u001b[43m \u001b[49m\u001b[43maxis\u001b[49m\u001b[38;5;241;43m=\u001b[39;49m\u001b[43maxis\u001b[49m\u001b[43m)\u001b[49m\n",
      "File \u001b[1;32mc:\\Users\\victo\\Downloads\\00. Estudo Data Science\\aps_failure_truck_prediction\\venv\\Lib\\site-packages\\pandas\\core\\indexing.py:1431\u001b[0m, in \u001b[0;36m_LocIndexer._getitem_axis\u001b[1;34m(self, key, axis)\u001b[0m\n\u001b[0;32m   1429\u001b[0m \u001b[38;5;66;03m# fall thru to straight lookup\u001b[39;00m\n\u001b[0;32m   1430\u001b[0m \u001b[38;5;28mself\u001b[39m\u001b[38;5;241m.\u001b[39m_validate_key(key, axis)\n\u001b[1;32m-> 1431\u001b[0m \u001b[38;5;28;01mreturn\u001b[39;00m \u001b[38;5;28;43mself\u001b[39;49m\u001b[38;5;241;43m.\u001b[39;49m\u001b[43m_get_label\u001b[49m\u001b[43m(\u001b[49m\u001b[43mkey\u001b[49m\u001b[43m,\u001b[49m\u001b[43m \u001b[49m\u001b[43maxis\u001b[49m\u001b[38;5;241;43m=\u001b[39;49m\u001b[43maxis\u001b[49m\u001b[43m)\u001b[49m\n",
      "File \u001b[1;32mc:\\Users\\victo\\Downloads\\00. Estudo Data Science\\aps_failure_truck_prediction\\venv\\Lib\\site-packages\\pandas\\core\\indexing.py:1381\u001b[0m, in \u001b[0;36m_LocIndexer._get_label\u001b[1;34m(self, label, axis)\u001b[0m\n\u001b[0;32m   1379\u001b[0m \u001b[38;5;28;01mdef\u001b[39;00m \u001b[38;5;21m_get_label\u001b[39m(\u001b[38;5;28mself\u001b[39m, label, axis: AxisInt):\n\u001b[0;32m   1380\u001b[0m     \u001b[38;5;66;03m# GH#5567 this will fail if the label is not present in the axis.\u001b[39;00m\n\u001b[1;32m-> 1381\u001b[0m     \u001b[38;5;28;01mreturn\u001b[39;00m \u001b[38;5;28;43mself\u001b[39;49m\u001b[38;5;241;43m.\u001b[39;49m\u001b[43mobj\u001b[49m\u001b[38;5;241;43m.\u001b[39;49m\u001b[43mxs\u001b[49m\u001b[43m(\u001b[49m\u001b[43mlabel\u001b[49m\u001b[43m,\u001b[49m\u001b[43m \u001b[49m\u001b[43maxis\u001b[49m\u001b[38;5;241;43m=\u001b[39;49m\u001b[43maxis\u001b[49m\u001b[43m)\u001b[49m\n",
      "File \u001b[1;32mc:\\Users\\victo\\Downloads\\00. Estudo Data Science\\aps_failure_truck_prediction\\venv\\Lib\\site-packages\\pandas\\core\\generic.py:4301\u001b[0m, in \u001b[0;36mNDFrame.xs\u001b[1;34m(self, key, axis, level, drop_level)\u001b[0m\n\u001b[0;32m   4299\u001b[0m             new_index \u001b[38;5;241m=\u001b[39m index[loc]\n\u001b[0;32m   4300\u001b[0m \u001b[38;5;28;01melse\u001b[39;00m:\n\u001b[1;32m-> 4301\u001b[0m     loc \u001b[38;5;241m=\u001b[39m \u001b[43mindex\u001b[49m\u001b[38;5;241;43m.\u001b[39;49m\u001b[43mget_loc\u001b[49m\u001b[43m(\u001b[49m\u001b[43mkey\u001b[49m\u001b[43m)\u001b[49m\n\u001b[0;32m   4303\u001b[0m     \u001b[38;5;28;01mif\u001b[39;00m \u001b[38;5;28misinstance\u001b[39m(loc, np\u001b[38;5;241m.\u001b[39mndarray):\n\u001b[0;32m   4304\u001b[0m         \u001b[38;5;28;01mif\u001b[39;00m loc\u001b[38;5;241m.\u001b[39mdtype \u001b[38;5;241m==\u001b[39m np\u001b[38;5;241m.\u001b[39mbool_:\n",
      "File \u001b[1;32mc:\\Users\\victo\\Downloads\\00. Estudo Data Science\\aps_failure_truck_prediction\\venv\\Lib\\site-packages\\pandas\\core\\indexes\\range.py:415\u001b[0m, in \u001b[0;36mRangeIndex.get_loc\u001b[1;34m(self, key)\u001b[0m\n\u001b[0;32m    413\u001b[0m         \u001b[38;5;28;01mreturn\u001b[39;00m \u001b[38;5;28mself\u001b[39m\u001b[38;5;241m.\u001b[39m_range\u001b[38;5;241m.\u001b[39mindex(new_key)\n\u001b[0;32m    414\u001b[0m     \u001b[38;5;28;01mexcept\u001b[39;00m \u001b[38;5;167;01mValueError\u001b[39;00m \u001b[38;5;28;01mas\u001b[39;00m err:\n\u001b[1;32m--> 415\u001b[0m         \u001b[38;5;28;01mraise\u001b[39;00m \u001b[38;5;167;01mKeyError\u001b[39;00m(key) \u001b[38;5;28;01mfrom\u001b[39;00m \u001b[38;5;21;01merr\u001b[39;00m\n\u001b[0;32m    416\u001b[0m \u001b[38;5;28;01mif\u001b[39;00m \u001b[38;5;28misinstance\u001b[39m(key, Hashable):\n\u001b[0;32m    417\u001b[0m     \u001b[38;5;28;01mraise\u001b[39;00m \u001b[38;5;167;01mKeyError\u001b[39;00m(key)\n",
      "\u001b[1;31mKeyError\u001b[0m: np.int64(108270)"
     ]
    }
   ],
   "source": [
    "df_metrics.loc[df_metrics['total_maintenance_cost'].min()]"
   ]
  },
  {
   "cell_type": "code",
   "execution_count": 17,
   "metadata": {},
   "outputs": [],
   "source": [
    "# # Area under curve\n",
    "# RocCurveDisplay.from_predictions(y_test, y_predict)\n",
    "# plt.show()"
   ]
  },
  {
   "cell_type": "code",
   "execution_count": 18,
   "metadata": {},
   "outputs": [],
   "source": [
    "# # Confusion matrix\n",
    "# ConfusionMatrixDisplay(confusion_matrix(y_test, y_predict)).plot()\n",
    "# plt.show()"
   ]
  },
  {
   "cell_type": "code",
   "execution_count": 19,
   "metadata": {},
   "outputs": [],
   "source": [
    "# # Confusion matrix with norm data based on true values\n",
    "# ConfusionMatrixDisplay(confusion_matrix(y_test,\n",
    "#                                         y_predict,\n",
    "#                                         normalize='true')\n",
    "#                       ).plot()\n",
    "# plt.show()"
   ]
  },
  {
   "cell_type": "code",
   "execution_count": 20,
   "metadata": {},
   "outputs": [],
   "source": [
    "# # Confusion matrix with norm data based on predict values\n",
    "# plot_norm_pred_confusion_matrix = ConfusionMatrixDisplay(confusion_matrix(y_test,\n",
    "#                                                                             y_predict,\n",
    "#                                                                             normalize='pred')\n",
    "#                                                         ).plot()"
   ]
  },
  {
   "cell_type": "code",
   "execution_count": 21,
   "metadata": {},
   "outputs": [],
   "source": [
    "# # Confusion matrix with norm data based on all dataset\n",
    "# plot_norm_all_confusion_matrix = ConfusionMatrixDisplay(confusion_matrix(y_test,\n",
    "#                                                                             y_predict,\n",
    "#                                                                             normalize='all')\n",
    "#                                                        ).plot()"
   ]
  }
 ],
 "metadata": {
  "kernelspec": {
   "display_name": "venv",
   "language": "python",
   "name": "python3"
  },
  "language_info": {
   "codemirror_mode": {
    "name": "ipython",
    "version": 3
   },
   "file_extension": ".py",
   "mimetype": "text/x-python",
   "name": "python",
   "nbconvert_exporter": "python",
   "pygments_lexer": "ipython3",
   "version": "3.11.9"
  }
 },
 "nbformat": 4,
 "nbformat_minor": 2
}
