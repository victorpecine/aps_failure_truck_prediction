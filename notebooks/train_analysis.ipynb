{
 "cells": [
  {
   "cell_type": "markdown",
   "metadata": {},
   "source": [
    "# Libraries"
   ]
  },
  {
   "cell_type": "code",
   "execution_count": 2,
   "metadata": {},
   "outputs": [],
   "source": [
    "import  pandas            as pd\n",
    "import  numpy             as np\n",
    "import  plotly.express    as px\n",
    "import  matplotlib.pyplot as plt\n",
    "import  plotly.graph_objs as go\n",
    "import  plotly.io         as pio\n",
    "from    plotly.subplots         import make_subplots\n",
    "from    sklearn.model_selection import train_test_split\n",
    "from    sklearn.impute          import SimpleImputer\n",
    "from    imblearn.over_sampling  import SMOTE\n",
    "from    sklearn.preprocessing   import StandardScaler\n",
    "from    sklearn.ensemble        import RandomForestClassifier\n",
    "from    xgboost                 import XGBClassifier\n",
    "from    sklearn.neural_network  import MLPClassifier\n",
    "from    sklearn.ensemble        import AdaBoostClassifier\n",
    "from    sklearn.model_selection import RandomizedSearchCV\n",
    "from    sklearn.model_selection import cross_validate\n",
    "from    sklearn.metrics         import make_scorer\n",
    "from    sklearn.metrics         import accuracy_score\n",
    "from    sklearn.metrics         import confusion_matrix\n",
    "from    sklearn.metrics         import precision_score\n",
    "from    sklearn.metrics         import recall_score\n",
    "from    sklearn.metrics         import f1_score\n",
    "from    sklearn.metrics         import roc_auc_score\n",
    "from    sklearn.metrics         import ConfusionMatrixDisplay\n",
    "from    sklearn.metrics         import RocCurveDisplay"
   ]
  },
  {
   "cell_type": "code",
   "execution_count": 3,
   "metadata": {},
   "outputs": [],
   "source": [
    "RANDOM_SEED = np.random.seed(31)"
   ]
  },
  {
   "cell_type": "code",
   "execution_count": 4,
   "metadata": {},
   "outputs": [
    {
     "name": "stdout",
     "output_type": "stream",
     "text": [
      "c:\\Users\\victo\\Downloads\\00. Estudo Data Science\\aps_failure_truck_prediction\n"
     ]
    },
    {
     "name": "stderr",
     "output_type": "stream",
     "text": [
      "c:\\Users\\victo\\Downloads\\00. Estudo Data Science\\aps_failure_truck_prediction\\venv\\Lib\\site-packages\\IPython\\core\\magics\\osm.py:417: UserWarning: This is now an optional IPython functionality, setting dhist requires you to install the `pickleshare` library.\n",
      "  self.shell.db['dhist'] = compress_dhist(dhist)[-100:]\n"
     ]
    }
   ],
   "source": [
    "cd ..\\"
   ]
  },
  {
   "cell_type": "markdown",
   "metadata": {},
   "source": [
    "# Train"
   ]
  },
  {
   "cell_type": "code",
   "execution_count": 5,
   "metadata": {},
   "outputs": [
    {
     "data": {
      "text/html": [
       "<div>\n",
       "<style scoped>\n",
       "    .dataframe tbody tr th:only-of-type {\n",
       "        vertical-align: middle;\n",
       "    }\n",
       "\n",
       "    .dataframe tbody tr th {\n",
       "        vertical-align: top;\n",
       "    }\n",
       "\n",
       "    .dataframe thead th {\n",
       "        text-align: right;\n",
       "    }\n",
       "</style>\n",
       "<table border=\"1\" class=\"dataframe\">\n",
       "  <thead>\n",
       "    <tr style=\"text-align: right;\">\n",
       "      <th></th>\n",
       "      <th>class</th>\n",
       "      <th>aa_000</th>\n",
       "      <th>ab_000</th>\n",
       "      <th>ac_000</th>\n",
       "      <th>ad_000</th>\n",
       "      <th>ae_000</th>\n",
       "      <th>af_000</th>\n",
       "      <th>ag_000</th>\n",
       "      <th>ag_001</th>\n",
       "      <th>ag_002</th>\n",
       "      <th>...</th>\n",
       "      <th>ee_002</th>\n",
       "      <th>ee_003</th>\n",
       "      <th>ee_004</th>\n",
       "      <th>ee_005</th>\n",
       "      <th>ee_006</th>\n",
       "      <th>ee_007</th>\n",
       "      <th>ee_008</th>\n",
       "      <th>ee_009</th>\n",
       "      <th>ef_000</th>\n",
       "      <th>eg_000</th>\n",
       "    </tr>\n",
       "  </thead>\n",
       "  <tbody>\n",
       "    <tr>\n",
       "      <th>0</th>\n",
       "      <td>neg</td>\n",
       "      <td>76698</td>\n",
       "      <td>NaN</td>\n",
       "      <td>2.130706e+09</td>\n",
       "      <td>280.0</td>\n",
       "      <td>0.0</td>\n",
       "      <td>0.0</td>\n",
       "      <td>0.0</td>\n",
       "      <td>0.0</td>\n",
       "      <td>0.0</td>\n",
       "      <td>...</td>\n",
       "      <td>1240520.0</td>\n",
       "      <td>493384.0</td>\n",
       "      <td>721044.0</td>\n",
       "      <td>469792.0</td>\n",
       "      <td>339156.0</td>\n",
       "      <td>157956.0</td>\n",
       "      <td>73224.0</td>\n",
       "      <td>0.0</td>\n",
       "      <td>0.0</td>\n",
       "      <td>0.0</td>\n",
       "    </tr>\n",
       "    <tr>\n",
       "      <th>1</th>\n",
       "      <td>neg</td>\n",
       "      <td>33058</td>\n",
       "      <td>NaN</td>\n",
       "      <td>0.000000e+00</td>\n",
       "      <td>NaN</td>\n",
       "      <td>0.0</td>\n",
       "      <td>0.0</td>\n",
       "      <td>0.0</td>\n",
       "      <td>0.0</td>\n",
       "      <td>0.0</td>\n",
       "      <td>...</td>\n",
       "      <td>421400.0</td>\n",
       "      <td>178064.0</td>\n",
       "      <td>293306.0</td>\n",
       "      <td>245416.0</td>\n",
       "      <td>133654.0</td>\n",
       "      <td>81140.0</td>\n",
       "      <td>97576.0</td>\n",
       "      <td>1500.0</td>\n",
       "      <td>0.0</td>\n",
       "      <td>0.0</td>\n",
       "    </tr>\n",
       "    <tr>\n",
       "      <th>2</th>\n",
       "      <td>neg</td>\n",
       "      <td>41040</td>\n",
       "      <td>NaN</td>\n",
       "      <td>2.280000e+02</td>\n",
       "      <td>100.0</td>\n",
       "      <td>0.0</td>\n",
       "      <td>0.0</td>\n",
       "      <td>0.0</td>\n",
       "      <td>0.0</td>\n",
       "      <td>0.0</td>\n",
       "      <td>...</td>\n",
       "      <td>277378.0</td>\n",
       "      <td>159812.0</td>\n",
       "      <td>423992.0</td>\n",
       "      <td>409564.0</td>\n",
       "      <td>320746.0</td>\n",
       "      <td>158022.0</td>\n",
       "      <td>95128.0</td>\n",
       "      <td>514.0</td>\n",
       "      <td>0.0</td>\n",
       "      <td>0.0</td>\n",
       "    </tr>\n",
       "    <tr>\n",
       "      <th>3</th>\n",
       "      <td>neg</td>\n",
       "      <td>12</td>\n",
       "      <td>0.0</td>\n",
       "      <td>7.000000e+01</td>\n",
       "      <td>66.0</td>\n",
       "      <td>0.0</td>\n",
       "      <td>10.0</td>\n",
       "      <td>0.0</td>\n",
       "      <td>0.0</td>\n",
       "      <td>0.0</td>\n",
       "      <td>...</td>\n",
       "      <td>240.0</td>\n",
       "      <td>46.0</td>\n",
       "      <td>58.0</td>\n",
       "      <td>44.0</td>\n",
       "      <td>10.0</td>\n",
       "      <td>0.0</td>\n",
       "      <td>0.0</td>\n",
       "      <td>0.0</td>\n",
       "      <td>4.0</td>\n",
       "      <td>32.0</td>\n",
       "    </tr>\n",
       "    <tr>\n",
       "      <th>4</th>\n",
       "      <td>neg</td>\n",
       "      <td>60874</td>\n",
       "      <td>NaN</td>\n",
       "      <td>1.368000e+03</td>\n",
       "      <td>458.0</td>\n",
       "      <td>0.0</td>\n",
       "      <td>0.0</td>\n",
       "      <td>0.0</td>\n",
       "      <td>0.0</td>\n",
       "      <td>0.0</td>\n",
       "      <td>...</td>\n",
       "      <td>622012.0</td>\n",
       "      <td>229790.0</td>\n",
       "      <td>405298.0</td>\n",
       "      <td>347188.0</td>\n",
       "      <td>286954.0</td>\n",
       "      <td>311560.0</td>\n",
       "      <td>433954.0</td>\n",
       "      <td>1218.0</td>\n",
       "      <td>0.0</td>\n",
       "      <td>0.0</td>\n",
       "    </tr>\n",
       "  </tbody>\n",
       "</table>\n",
       "<p>5 rows × 171 columns</p>\n",
       "</div>"
      ],
      "text/plain": [
       "  class  aa_000  ab_000        ac_000  ad_000  ae_000  af_000  ag_000  ag_001  \\\n",
       "0   neg   76698     NaN  2.130706e+09   280.0     0.0     0.0     0.0     0.0   \n",
       "1   neg   33058     NaN  0.000000e+00     NaN     0.0     0.0     0.0     0.0   \n",
       "2   neg   41040     NaN  2.280000e+02   100.0     0.0     0.0     0.0     0.0   \n",
       "3   neg      12     0.0  7.000000e+01    66.0     0.0    10.0     0.0     0.0   \n",
       "4   neg   60874     NaN  1.368000e+03   458.0     0.0     0.0     0.0     0.0   \n",
       "\n",
       "   ag_002  ...     ee_002    ee_003    ee_004    ee_005    ee_006    ee_007  \\\n",
       "0     0.0  ...  1240520.0  493384.0  721044.0  469792.0  339156.0  157956.0   \n",
       "1     0.0  ...   421400.0  178064.0  293306.0  245416.0  133654.0   81140.0   \n",
       "2     0.0  ...   277378.0  159812.0  423992.0  409564.0  320746.0  158022.0   \n",
       "3     0.0  ...      240.0      46.0      58.0      44.0      10.0       0.0   \n",
       "4     0.0  ...   622012.0  229790.0  405298.0  347188.0  286954.0  311560.0   \n",
       "\n",
       "     ee_008  ee_009  ef_000  eg_000  \n",
       "0   73224.0     0.0     0.0     0.0  \n",
       "1   97576.0  1500.0     0.0     0.0  \n",
       "2   95128.0   514.0     0.0     0.0  \n",
       "3       0.0     0.0     4.0    32.0  \n",
       "4  433954.0  1218.0     0.0     0.0  \n",
       "\n",
       "[5 rows x 171 columns]"
      ]
     },
     "execution_count": 5,
     "metadata": {},
     "output_type": "execute_result"
    }
   ],
   "source": [
    "df_train = pd.read_csv('data\\\\original\\\\air_system_previous_years.csv',\n",
    "                       encoding='utf-8',\n",
    "                       na_values=['na']\n",
    "                      )\n",
    "df_train.head()"
   ]
  },
  {
   "cell_type": "code",
   "execution_count": 6,
   "metadata": {},
   "outputs": [
    {
     "data": {
      "text/html": [
       "<div>\n",
       "<style scoped>\n",
       "    .dataframe tbody tr th:only-of-type {\n",
       "        vertical-align: middle;\n",
       "    }\n",
       "\n",
       "    .dataframe tbody tr th {\n",
       "        vertical-align: top;\n",
       "    }\n",
       "\n",
       "    .dataframe thead th {\n",
       "        text-align: right;\n",
       "    }\n",
       "</style>\n",
       "<table border=\"1\" class=\"dataframe\">\n",
       "  <thead>\n",
       "    <tr style=\"text-align: right;\">\n",
       "      <th></th>\n",
       "      <th>total_nan</th>\n",
       "      <th>total_data</th>\n",
       "      <th>pct_nan</th>\n",
       "    </tr>\n",
       "  </thead>\n",
       "  <tbody>\n",
       "    <tr>\n",
       "      <th>br_000</th>\n",
       "      <td>49264</td>\n",
       "      <td>60000</td>\n",
       "      <td>82.11</td>\n",
       "    </tr>\n",
       "    <tr>\n",
       "      <th>bq_000</th>\n",
       "      <td>48722</td>\n",
       "      <td>60000</td>\n",
       "      <td>81.20</td>\n",
       "    </tr>\n",
       "    <tr>\n",
       "      <th>bp_000</th>\n",
       "      <td>47740</td>\n",
       "      <td>60000</td>\n",
       "      <td>79.57</td>\n",
       "    </tr>\n",
       "    <tr>\n",
       "      <th>bo_000</th>\n",
       "      <td>46333</td>\n",
       "      <td>60000</td>\n",
       "      <td>77.22</td>\n",
       "    </tr>\n",
       "    <tr>\n",
       "      <th>ab_000</th>\n",
       "      <td>46329</td>\n",
       "      <td>60000</td>\n",
       "      <td>77.22</td>\n",
       "    </tr>\n",
       "    <tr>\n",
       "      <th>...</th>\n",
       "      <td>...</td>\n",
       "      <td>...</td>\n",
       "      <td>...</td>\n",
       "    </tr>\n",
       "    <tr>\n",
       "      <th>ck_000</th>\n",
       "      <td>338</td>\n",
       "      <td>60000</td>\n",
       "      <td>0.56</td>\n",
       "    </tr>\n",
       "    <tr>\n",
       "      <th>ci_000</th>\n",
       "      <td>338</td>\n",
       "      <td>60000</td>\n",
       "      <td>0.56</td>\n",
       "    </tr>\n",
       "    <tr>\n",
       "      <th>cj_000</th>\n",
       "      <td>338</td>\n",
       "      <td>60000</td>\n",
       "      <td>0.56</td>\n",
       "    </tr>\n",
       "    <tr>\n",
       "      <th>bt_000</th>\n",
       "      <td>167</td>\n",
       "      <td>60000</td>\n",
       "      <td>0.28</td>\n",
       "    </tr>\n",
       "    <tr>\n",
       "      <th>aa_000</th>\n",
       "      <td>0</td>\n",
       "      <td>60000</td>\n",
       "      <td>0.00</td>\n",
       "    </tr>\n",
       "  </tbody>\n",
       "</table>\n",
       "<p>170 rows × 3 columns</p>\n",
       "</div>"
      ],
      "text/plain": [
       "        total_nan  total_data  pct_nan\n",
       "br_000      49264       60000    82.11\n",
       "bq_000      48722       60000    81.20\n",
       "bp_000      47740       60000    79.57\n",
       "bo_000      46333       60000    77.22\n",
       "ab_000      46329       60000    77.22\n",
       "...           ...         ...      ...\n",
       "ck_000        338       60000     0.56\n",
       "ci_000        338       60000     0.56\n",
       "cj_000        338       60000     0.56\n",
       "bt_000        167       60000     0.28\n",
       "aa_000          0       60000     0.00\n",
       "\n",
       "[170 rows x 3 columns]"
      ]
     },
     "execution_count": 6,
     "metadata": {},
     "output_type": "execute_result"
    }
   ],
   "source": [
    "df_isna = df_train.drop(columns='class')\n",
    "df_isna = df_isna.isna().sum().sort_values(ascending=False).to_frame('total_nan')\n",
    "df_isna['total_data'] = df_train.shape[0]\n",
    "df_isna['pct_nan'] = (df_isna['total_nan'] / df_isna['total_data'] * 100).round(2)\n",
    "df_isna"
   ]
  },
  {
   "cell_type": "code",
   "execution_count": 7,
   "metadata": {},
   "outputs": [
    {
     "data": {
      "application/vnd.plotly.v1+json": {
       "config": {
        "plotlyServerURL": "https://plot.ly"
       },
       "data": [
        {
         "alignmentgroup": "True",
         "hovertemplate": "index=%{x}<br>pct_nan=%{y}<extra></extra>",
         "legendgroup": "",
         "marker": {
          "color": "#636efa",
          "pattern": {
           "shape": ""
          }
         },
         "name": "",
         "offsetgroup": "",
         "orientation": "v",
         "showlegend": false,
         "textposition": "auto",
         "texttemplate": "%{y:pct_nan}",
         "type": "bar",
         "x": [
          "br_000",
          "bq_000",
          "bp_000",
          "bo_000",
          "ab_000",
          "cr_000",
          "bn_000",
          "bm_000",
          "bl_000",
          "bk_000",
          "cg_000",
          "ch_000",
          "cf_000",
          "co_000",
          "ad_000",
          "cx_000",
          "cy_000",
          "cz_000",
          "db_000",
          "cv_000",
          "ct_000",
          "da_000",
          "cu_000",
          "dc_000",
          "ec_00",
          "cm_000",
          "ed_000",
          "cl_000",
          "ak_000",
          "ca_000",
          "dm_000",
          "dg_000",
          "df_000",
          "dh_000",
          "dl_000",
          "dj_000",
          "eb_000",
          "dk_000",
          "di_000",
          "ac_000",
          "bx_000",
          "cc_000",
          "ds_000",
          "dt_000",
          "bd_000",
          "du_000",
          "dq_000",
          "dp_000",
          "dr_000",
          "dv_000",
          "bc_000",
          "de_000",
          "cp_000",
          "ef_000",
          "do_000",
          "dy_000",
          "eg_000",
          "ar_000",
          "dz_000",
          "dx_000",
          "bz_000",
          "ea_000",
          "be_000",
          "dd_000",
          "ce_000",
          "ax_000",
          "bf_000",
          "af_000",
          "ae_000",
          "av_000",
          "bs_000",
          "cb_000",
          "cq_000",
          "bu_000",
          "bv_000",
          "dn_000",
          "ba_002",
          "ba_005",
          "ba_004",
          "ba_006",
          "ba_003",
          "ba_000",
          "ba_009",
          "ba_001",
          "ba_007",
          "ba_008",
          "cn_005",
          "cn_009",
          "cn_007",
          "cn_008",
          "cn_002",
          "cn_000",
          "cn_004",
          "cn_003",
          "cn_006",
          "cn_001",
          "cd_000",
          "ag_000",
          "ag_005",
          "ag_006",
          "ag_004",
          "ag_008",
          "ag_002",
          "ag_001",
          "ag_003",
          "ay_009",
          "ee_007",
          "ee_006",
          "ee_004",
          "ee_005",
          "ee_009",
          "ee_008",
          "ee_000",
          "ee_001",
          "ee_003",
          "ee_002",
          "az_002",
          "az_000",
          "az_001",
          "ay_005",
          "ay_007",
          "ay_008",
          "ay_006",
          "ag_007",
          "ag_009",
          "ay_000",
          "ay_001",
          "ay_004",
          "ay_003",
          "ay_002",
          "az_004",
          "az_008",
          "az_009",
          "az_003",
          "az_006",
          "az_005",
          "az_007",
          "cs_001",
          "cs_005",
          "cs_006",
          "cs_003",
          "cs_004",
          "cs_007",
          "cs_000",
          "cs_009",
          "cs_002",
          "cs_008",
          "ah_000",
          "bb_000",
          "al_000",
          "bh_000",
          "ap_000",
          "an_000",
          "bg_000",
          "ai_000",
          "aj_000",
          "at_000",
          "as_000",
          "am_0",
          "au_000",
          "aq_000",
          "ao_000",
          "bj_000",
          "bi_000",
          "by_000",
          "ck_000",
          "ci_000",
          "cj_000",
          "bt_000",
          "aa_000"
         ],
         "xaxis": "x",
         "y": [
          82.11,
          81.2,
          79.57,
          77.22,
          77.22,
          77.22,
          73.35,
          65.92,
          45.46,
          38.39,
          24.77,
          24.77,
          24.77,
          24.77,
          24.77,
          23.01,
          23.01,
          23.01,
          23.01,
          23.01,
          23.01,
          23.01,
          23.01,
          23.01,
          17.07,
          16.46,
          15.92,
          15.92,
          7.33,
          7.26,
          6.68,
          6.68,
          6.68,
          6.68,
          6.68,
          6.68,
          6.68,
          6.68,
          6.68,
          5.56,
          5.43,
          5.42,
          4.54,
          4.54,
          4.54,
          4.54,
          4.54,
          4.54,
          4.54,
          4.54,
          4.54,
          4.54,
          4.54,
          4.54,
          4.54,
          4.54,
          4.54,
          4.54,
          4.54,
          4.54,
          4.54,
          4.54,
          4.17,
          4.17,
          4.17,
          4.17,
          4.17,
          4.17,
          4.17,
          4.17,
          1.21,
          1.21,
          1.15,
          1.15,
          1.15,
          1.15,
          1.15,
          1.15,
          1.15,
          1.15,
          1.15,
          1.15,
          1.15,
          1.15,
          1.15,
          1.15,
          1.14,
          1.14,
          1.14,
          1.14,
          1.14,
          1.14,
          1.14,
          1.14,
          1.14,
          1.14,
          1.13,
          1.12,
          1.12,
          1.12,
          1.12,
          1.12,
          1.12,
          1.12,
          1.12,
          1.12,
          1.12,
          1.12,
          1.12,
          1.12,
          1.12,
          1.12,
          1.12,
          1.12,
          1.12,
          1.12,
          1.12,
          1.12,
          1.12,
          1.12,
          1.12,
          1.12,
          1.12,
          1.12,
          1.12,
          1.12,
          1.12,
          1.12,
          1.12,
          1.12,
          1.12,
          1.12,
          1.12,
          1.12,
          1.12,
          1.12,
          1.12,
          1.12,
          1.12,
          1.12,
          1.12,
          1.12,
          1.12,
          1.12,
          1.12,
          1.12,
          1.12,
          1.08,
          1.08,
          1.07,
          1.07,
          1.07,
          1.07,
          1.07,
          1.05,
          1.05,
          1.05,
          1.05,
          1.05,
          1.05,
          0.98,
          0.98,
          0.98,
          0.98,
          0.79,
          0.56,
          0.56,
          0.56,
          0.28,
          0
         ],
         "yaxis": "y"
        }
       ],
       "layout": {
        "barmode": "relative",
        "height": 400,
        "legend": {
         "tracegroupgap": 0
        },
        "margin": {
         "b": 10,
         "l": 10,
         "r": 10,
         "t": 10
        },
        "showlegend": true,
        "template": {
         "data": {
          "bar": [
           {
            "error_x": {
             "color": "#2a3f5f"
            },
            "error_y": {
             "color": "#2a3f5f"
            },
            "marker": {
             "line": {
              "color": "#E5ECF6",
              "width": 0.5
             },
             "pattern": {
              "fillmode": "overlay",
              "size": 10,
              "solidity": 0.2
             }
            },
            "type": "bar"
           }
          ],
          "barpolar": [
           {
            "marker": {
             "line": {
              "color": "#E5ECF6",
              "width": 0.5
             },
             "pattern": {
              "fillmode": "overlay",
              "size": 10,
              "solidity": 0.2
             }
            },
            "type": "barpolar"
           }
          ],
          "carpet": [
           {
            "aaxis": {
             "endlinecolor": "#2a3f5f",
             "gridcolor": "white",
             "linecolor": "white",
             "minorgridcolor": "white",
             "startlinecolor": "#2a3f5f"
            },
            "baxis": {
             "endlinecolor": "#2a3f5f",
             "gridcolor": "white",
             "linecolor": "white",
             "minorgridcolor": "white",
             "startlinecolor": "#2a3f5f"
            },
            "type": "carpet"
           }
          ],
          "choropleth": [
           {
            "colorbar": {
             "outlinewidth": 0,
             "ticks": ""
            },
            "type": "choropleth"
           }
          ],
          "contour": [
           {
            "colorbar": {
             "outlinewidth": 0,
             "ticks": ""
            },
            "colorscale": [
             [
              0,
              "#0d0887"
             ],
             [
              0.1111111111111111,
              "#46039f"
             ],
             [
              0.2222222222222222,
              "#7201a8"
             ],
             [
              0.3333333333333333,
              "#9c179e"
             ],
             [
              0.4444444444444444,
              "#bd3786"
             ],
             [
              0.5555555555555556,
              "#d8576b"
             ],
             [
              0.6666666666666666,
              "#ed7953"
             ],
             [
              0.7777777777777778,
              "#fb9f3a"
             ],
             [
              0.8888888888888888,
              "#fdca26"
             ],
             [
              1,
              "#f0f921"
             ]
            ],
            "type": "contour"
           }
          ],
          "contourcarpet": [
           {
            "colorbar": {
             "outlinewidth": 0,
             "ticks": ""
            },
            "type": "contourcarpet"
           }
          ],
          "heatmap": [
           {
            "colorbar": {
             "outlinewidth": 0,
             "ticks": ""
            },
            "colorscale": [
             [
              0,
              "#0d0887"
             ],
             [
              0.1111111111111111,
              "#46039f"
             ],
             [
              0.2222222222222222,
              "#7201a8"
             ],
             [
              0.3333333333333333,
              "#9c179e"
             ],
             [
              0.4444444444444444,
              "#bd3786"
             ],
             [
              0.5555555555555556,
              "#d8576b"
             ],
             [
              0.6666666666666666,
              "#ed7953"
             ],
             [
              0.7777777777777778,
              "#fb9f3a"
             ],
             [
              0.8888888888888888,
              "#fdca26"
             ],
             [
              1,
              "#f0f921"
             ]
            ],
            "type": "heatmap"
           }
          ],
          "heatmapgl": [
           {
            "colorbar": {
             "outlinewidth": 0,
             "ticks": ""
            },
            "colorscale": [
             [
              0,
              "#0d0887"
             ],
             [
              0.1111111111111111,
              "#46039f"
             ],
             [
              0.2222222222222222,
              "#7201a8"
             ],
             [
              0.3333333333333333,
              "#9c179e"
             ],
             [
              0.4444444444444444,
              "#bd3786"
             ],
             [
              0.5555555555555556,
              "#d8576b"
             ],
             [
              0.6666666666666666,
              "#ed7953"
             ],
             [
              0.7777777777777778,
              "#fb9f3a"
             ],
             [
              0.8888888888888888,
              "#fdca26"
             ],
             [
              1,
              "#f0f921"
             ]
            ],
            "type": "heatmapgl"
           }
          ],
          "histogram": [
           {
            "marker": {
             "pattern": {
              "fillmode": "overlay",
              "size": 10,
              "solidity": 0.2
             }
            },
            "type": "histogram"
           }
          ],
          "histogram2d": [
           {
            "colorbar": {
             "outlinewidth": 0,
             "ticks": ""
            },
            "colorscale": [
             [
              0,
              "#0d0887"
             ],
             [
              0.1111111111111111,
              "#46039f"
             ],
             [
              0.2222222222222222,
              "#7201a8"
             ],
             [
              0.3333333333333333,
              "#9c179e"
             ],
             [
              0.4444444444444444,
              "#bd3786"
             ],
             [
              0.5555555555555556,
              "#d8576b"
             ],
             [
              0.6666666666666666,
              "#ed7953"
             ],
             [
              0.7777777777777778,
              "#fb9f3a"
             ],
             [
              0.8888888888888888,
              "#fdca26"
             ],
             [
              1,
              "#f0f921"
             ]
            ],
            "type": "histogram2d"
           }
          ],
          "histogram2dcontour": [
           {
            "colorbar": {
             "outlinewidth": 0,
             "ticks": ""
            },
            "colorscale": [
             [
              0,
              "#0d0887"
             ],
             [
              0.1111111111111111,
              "#46039f"
             ],
             [
              0.2222222222222222,
              "#7201a8"
             ],
             [
              0.3333333333333333,
              "#9c179e"
             ],
             [
              0.4444444444444444,
              "#bd3786"
             ],
             [
              0.5555555555555556,
              "#d8576b"
             ],
             [
              0.6666666666666666,
              "#ed7953"
             ],
             [
              0.7777777777777778,
              "#fb9f3a"
             ],
             [
              0.8888888888888888,
              "#fdca26"
             ],
             [
              1,
              "#f0f921"
             ]
            ],
            "type": "histogram2dcontour"
           }
          ],
          "mesh3d": [
           {
            "colorbar": {
             "outlinewidth": 0,
             "ticks": ""
            },
            "type": "mesh3d"
           }
          ],
          "parcoords": [
           {
            "line": {
             "colorbar": {
              "outlinewidth": 0,
              "ticks": ""
             }
            },
            "type": "parcoords"
           }
          ],
          "pie": [
           {
            "automargin": true,
            "type": "pie"
           }
          ],
          "scatter": [
           {
            "fillpattern": {
             "fillmode": "overlay",
             "size": 10,
             "solidity": 0.2
            },
            "type": "scatter"
           }
          ],
          "scatter3d": [
           {
            "line": {
             "colorbar": {
              "outlinewidth": 0,
              "ticks": ""
             }
            },
            "marker": {
             "colorbar": {
              "outlinewidth": 0,
              "ticks": ""
             }
            },
            "type": "scatter3d"
           }
          ],
          "scattercarpet": [
           {
            "marker": {
             "colorbar": {
              "outlinewidth": 0,
              "ticks": ""
             }
            },
            "type": "scattercarpet"
           }
          ],
          "scattergeo": [
           {
            "marker": {
             "colorbar": {
              "outlinewidth": 0,
              "ticks": ""
             }
            },
            "type": "scattergeo"
           }
          ],
          "scattergl": [
           {
            "marker": {
             "colorbar": {
              "outlinewidth": 0,
              "ticks": ""
             }
            },
            "type": "scattergl"
           }
          ],
          "scattermapbox": [
           {
            "marker": {
             "colorbar": {
              "outlinewidth": 0,
              "ticks": ""
             }
            },
            "type": "scattermapbox"
           }
          ],
          "scatterpolar": [
           {
            "marker": {
             "colorbar": {
              "outlinewidth": 0,
              "ticks": ""
             }
            },
            "type": "scatterpolar"
           }
          ],
          "scatterpolargl": [
           {
            "marker": {
             "colorbar": {
              "outlinewidth": 0,
              "ticks": ""
             }
            },
            "type": "scatterpolargl"
           }
          ],
          "scatterternary": [
           {
            "marker": {
             "colorbar": {
              "outlinewidth": 0,
              "ticks": ""
             }
            },
            "type": "scatterternary"
           }
          ],
          "surface": [
           {
            "colorbar": {
             "outlinewidth": 0,
             "ticks": ""
            },
            "colorscale": [
             [
              0,
              "#0d0887"
             ],
             [
              0.1111111111111111,
              "#46039f"
             ],
             [
              0.2222222222222222,
              "#7201a8"
             ],
             [
              0.3333333333333333,
              "#9c179e"
             ],
             [
              0.4444444444444444,
              "#bd3786"
             ],
             [
              0.5555555555555556,
              "#d8576b"
             ],
             [
              0.6666666666666666,
              "#ed7953"
             ],
             [
              0.7777777777777778,
              "#fb9f3a"
             ],
             [
              0.8888888888888888,
              "#fdca26"
             ],
             [
              1,
              "#f0f921"
             ]
            ],
            "type": "surface"
           }
          ],
          "table": [
           {
            "cells": {
             "fill": {
              "color": "#EBF0F8"
             },
             "line": {
              "color": "white"
             }
            },
            "header": {
             "fill": {
              "color": "#C8D4E3"
             },
             "line": {
              "color": "white"
             }
            },
            "type": "table"
           }
          ]
         },
         "layout": {
          "annotationdefaults": {
           "arrowcolor": "#2a3f5f",
           "arrowhead": 0,
           "arrowwidth": 1
          },
          "autotypenumbers": "strict",
          "coloraxis": {
           "colorbar": {
            "outlinewidth": 0,
            "ticks": ""
           }
          },
          "colorscale": {
           "diverging": [
            [
             0,
             "#8e0152"
            ],
            [
             0.1,
             "#c51b7d"
            ],
            [
             0.2,
             "#de77ae"
            ],
            [
             0.3,
             "#f1b6da"
            ],
            [
             0.4,
             "#fde0ef"
            ],
            [
             0.5,
             "#f7f7f7"
            ],
            [
             0.6,
             "#e6f5d0"
            ],
            [
             0.7,
             "#b8e186"
            ],
            [
             0.8,
             "#7fbc41"
            ],
            [
             0.9,
             "#4d9221"
            ],
            [
             1,
             "#276419"
            ]
           ],
           "sequential": [
            [
             0,
             "#0d0887"
            ],
            [
             0.1111111111111111,
             "#46039f"
            ],
            [
             0.2222222222222222,
             "#7201a8"
            ],
            [
             0.3333333333333333,
             "#9c179e"
            ],
            [
             0.4444444444444444,
             "#bd3786"
            ],
            [
             0.5555555555555556,
             "#d8576b"
            ],
            [
             0.6666666666666666,
             "#ed7953"
            ],
            [
             0.7777777777777778,
             "#fb9f3a"
            ],
            [
             0.8888888888888888,
             "#fdca26"
            ],
            [
             1,
             "#f0f921"
            ]
           ],
           "sequentialminus": [
            [
             0,
             "#0d0887"
            ],
            [
             0.1111111111111111,
             "#46039f"
            ],
            [
             0.2222222222222222,
             "#7201a8"
            ],
            [
             0.3333333333333333,
             "#9c179e"
            ],
            [
             0.4444444444444444,
             "#bd3786"
            ],
            [
             0.5555555555555556,
             "#d8576b"
            ],
            [
             0.6666666666666666,
             "#ed7953"
            ],
            [
             0.7777777777777778,
             "#fb9f3a"
            ],
            [
             0.8888888888888888,
             "#fdca26"
            ],
            [
             1,
             "#f0f921"
            ]
           ]
          },
          "colorway": [
           "#636efa",
           "#EF553B",
           "#00cc96",
           "#ab63fa",
           "#FFA15A",
           "#19d3f3",
           "#FF6692",
           "#B6E880",
           "#FF97FF",
           "#FECB52"
          ],
          "font": {
           "color": "#2a3f5f"
          },
          "geo": {
           "bgcolor": "white",
           "lakecolor": "white",
           "landcolor": "#E5ECF6",
           "showlakes": true,
           "showland": true,
           "subunitcolor": "white"
          },
          "hoverlabel": {
           "align": "left"
          },
          "hovermode": "closest",
          "mapbox": {
           "style": "light"
          },
          "paper_bgcolor": "white",
          "plot_bgcolor": "#E5ECF6",
          "polar": {
           "angularaxis": {
            "gridcolor": "white",
            "linecolor": "white",
            "ticks": ""
           },
           "bgcolor": "#E5ECF6",
           "radialaxis": {
            "gridcolor": "white",
            "linecolor": "white",
            "ticks": ""
           }
          },
          "scene": {
           "xaxis": {
            "backgroundcolor": "#E5ECF6",
            "gridcolor": "white",
            "gridwidth": 2,
            "linecolor": "white",
            "showbackground": true,
            "ticks": "",
            "zerolinecolor": "white"
           },
           "yaxis": {
            "backgroundcolor": "#E5ECF6",
            "gridcolor": "white",
            "gridwidth": 2,
            "linecolor": "white",
            "showbackground": true,
            "ticks": "",
            "zerolinecolor": "white"
           },
           "zaxis": {
            "backgroundcolor": "#E5ECF6",
            "gridcolor": "white",
            "gridwidth": 2,
            "linecolor": "white",
            "showbackground": true,
            "ticks": "",
            "zerolinecolor": "white"
           }
          },
          "shapedefaults": {
           "line": {
            "color": "#2a3f5f"
           }
          },
          "ternary": {
           "aaxis": {
            "gridcolor": "white",
            "linecolor": "white",
            "ticks": ""
           },
           "baxis": {
            "gridcolor": "white",
            "linecolor": "white",
            "ticks": ""
           },
           "bgcolor": "#E5ECF6",
           "caxis": {
            "gridcolor": "white",
            "linecolor": "white",
            "ticks": ""
           }
          },
          "title": {
           "x": 0.05
          },
          "xaxis": {
           "automargin": true,
           "gridcolor": "white",
           "linecolor": "white",
           "ticks": "",
           "title": {
            "standoff": 15
           },
           "zerolinecolor": "white",
           "zerolinewidth": 2
          },
          "yaxis": {
           "automargin": true,
           "gridcolor": "white",
           "linecolor": "white",
           "ticks": "",
           "title": {
            "standoff": 15
           },
           "zerolinecolor": "white",
           "zerolinewidth": 2
          }
         }
        },
        "width": 800,
        "xaxis": {
         "anchor": "y",
         "domain": [
          0,
          1
         ],
         "title": {
          "text": "Feature"
         }
        },
        "yaxis": {
         "anchor": "x",
         "domain": [
          0,
          1
         ],
         "dtick": 10,
         "title": {
          "text": "Total NaN (%)"
         }
        }
       }
      }
     },
     "metadata": {},
     "output_type": "display_data"
    }
   ],
   "source": [
    "fig = px.bar(df_isna,\n",
    "             x=df_isna.index,\n",
    "             y='pct_nan',\n",
    "             text_auto='pct_nan'\n",
    "             )\n",
    "fig.update_layout(height=400,\n",
    "                  width=800,\n",
    "                  showlegend=True,\n",
    "                  margin=dict(l=10, r=10, b=10, t=10),\n",
    "                  yaxis=dict(title='Total NaN (%)', dtick=10),\n",
    "                  xaxis=dict(title='Feature')\n",
    "                  )\n",
    "fig.show()"
   ]
  },
  {
   "cell_type": "code",
   "execution_count": 8,
   "metadata": {},
   "outputs": [],
   "source": [
    "# Remove features with over 50% of NaN data\n",
    "features_low_nan = df_isna[df_isna['pct_nan'] <= 50].index.to_list()"
   ]
  },
  {
   "cell_type": "code",
   "execution_count": 9,
   "metadata": {},
   "outputs": [],
   "source": [
    "df_features = df_train[features_low_nan].astype(float)\n",
    "\n",
    "# Change class object to int dummies\n",
    "map_class = {'neg': 0, 'pos': 1}\n",
    "df_target = df_train['class'].map(map_class).to_frame('class').astype(int)"
   ]
  },
  {
   "cell_type": "code",
   "execution_count": 10,
   "metadata": {},
   "outputs": [
    {
     "data": {
      "text/html": [
       "<div>\n",
       "<style scoped>\n",
       "    .dataframe tbody tr th:only-of-type {\n",
       "        vertical-align: middle;\n",
       "    }\n",
       "\n",
       "    .dataframe tbody tr th {\n",
       "        vertical-align: top;\n",
       "    }\n",
       "\n",
       "    .dataframe thead th {\n",
       "        text-align: right;\n",
       "    }\n",
       "</style>\n",
       "<table border=\"1\" class=\"dataframe\">\n",
       "  <thead>\n",
       "    <tr style=\"text-align: right;\">\n",
       "      <th></th>\n",
       "      <th>count</th>\n",
       "    </tr>\n",
       "    <tr>\n",
       "      <th>class</th>\n",
       "      <th></th>\n",
       "    </tr>\n",
       "  </thead>\n",
       "  <tbody>\n",
       "    <tr>\n",
       "      <th>0</th>\n",
       "      <td>59000</td>\n",
       "    </tr>\n",
       "    <tr>\n",
       "      <th>1</th>\n",
       "      <td>1000</td>\n",
       "    </tr>\n",
       "  </tbody>\n",
       "</table>\n",
       "</div>"
      ],
      "text/plain": [
       "       count\n",
       "class       \n",
       "0      59000\n",
       "1       1000"
      ]
     },
     "execution_count": 10,
     "metadata": {},
     "output_type": "execute_result"
    }
   ],
   "source": [
    "df_count_class = df_target.value_counts().to_frame()\n",
    "df_count_class"
   ]
  },
  {
   "cell_type": "code",
   "execution_count": 11,
   "metadata": {},
   "outputs": [
    {
     "data": {
      "application/vnd.plotly.v1+json": {
       "config": {
        "plotlyServerURL": "https://plot.ly"
       },
       "data": [
        {
         "alignmentgroup": "True",
         "hovertemplate": "x=%{x}<br>count=%{y}<extra></extra>",
         "legendgroup": "",
         "marker": {
          "color": "#636efa",
          "pattern": {
           "shape": ""
          }
         },
         "name": "",
         "offsetgroup": "",
         "orientation": "v",
         "showlegend": false,
         "textposition": "auto",
         "texttemplate": "%{y:count}",
         "type": "bar",
         "x": [
          0,
          1
         ],
         "xaxis": "x",
         "y": [
          59000,
          1000
         ],
         "yaxis": "y"
        }
       ],
       "layout": {
        "barmode": "relative",
        "height": 400,
        "legend": {
         "tracegroupgap": 0
        },
        "margin": {
         "b": 10,
         "l": 10,
         "r": 10,
         "t": 10
        },
        "showlegend": true,
        "template": {
         "data": {
          "bar": [
           {
            "error_x": {
             "color": "#2a3f5f"
            },
            "error_y": {
             "color": "#2a3f5f"
            },
            "marker": {
             "line": {
              "color": "#E5ECF6",
              "width": 0.5
             },
             "pattern": {
              "fillmode": "overlay",
              "size": 10,
              "solidity": 0.2
             }
            },
            "type": "bar"
           }
          ],
          "barpolar": [
           {
            "marker": {
             "line": {
              "color": "#E5ECF6",
              "width": 0.5
             },
             "pattern": {
              "fillmode": "overlay",
              "size": 10,
              "solidity": 0.2
             }
            },
            "type": "barpolar"
           }
          ],
          "carpet": [
           {
            "aaxis": {
             "endlinecolor": "#2a3f5f",
             "gridcolor": "white",
             "linecolor": "white",
             "minorgridcolor": "white",
             "startlinecolor": "#2a3f5f"
            },
            "baxis": {
             "endlinecolor": "#2a3f5f",
             "gridcolor": "white",
             "linecolor": "white",
             "minorgridcolor": "white",
             "startlinecolor": "#2a3f5f"
            },
            "type": "carpet"
           }
          ],
          "choropleth": [
           {
            "colorbar": {
             "outlinewidth": 0,
             "ticks": ""
            },
            "type": "choropleth"
           }
          ],
          "contour": [
           {
            "colorbar": {
             "outlinewidth": 0,
             "ticks": ""
            },
            "colorscale": [
             [
              0,
              "#0d0887"
             ],
             [
              0.1111111111111111,
              "#46039f"
             ],
             [
              0.2222222222222222,
              "#7201a8"
             ],
             [
              0.3333333333333333,
              "#9c179e"
             ],
             [
              0.4444444444444444,
              "#bd3786"
             ],
             [
              0.5555555555555556,
              "#d8576b"
             ],
             [
              0.6666666666666666,
              "#ed7953"
             ],
             [
              0.7777777777777778,
              "#fb9f3a"
             ],
             [
              0.8888888888888888,
              "#fdca26"
             ],
             [
              1,
              "#f0f921"
             ]
            ],
            "type": "contour"
           }
          ],
          "contourcarpet": [
           {
            "colorbar": {
             "outlinewidth": 0,
             "ticks": ""
            },
            "type": "contourcarpet"
           }
          ],
          "heatmap": [
           {
            "colorbar": {
             "outlinewidth": 0,
             "ticks": ""
            },
            "colorscale": [
             [
              0,
              "#0d0887"
             ],
             [
              0.1111111111111111,
              "#46039f"
             ],
             [
              0.2222222222222222,
              "#7201a8"
             ],
             [
              0.3333333333333333,
              "#9c179e"
             ],
             [
              0.4444444444444444,
              "#bd3786"
             ],
             [
              0.5555555555555556,
              "#d8576b"
             ],
             [
              0.6666666666666666,
              "#ed7953"
             ],
             [
              0.7777777777777778,
              "#fb9f3a"
             ],
             [
              0.8888888888888888,
              "#fdca26"
             ],
             [
              1,
              "#f0f921"
             ]
            ],
            "type": "heatmap"
           }
          ],
          "heatmapgl": [
           {
            "colorbar": {
             "outlinewidth": 0,
             "ticks": ""
            },
            "colorscale": [
             [
              0,
              "#0d0887"
             ],
             [
              0.1111111111111111,
              "#46039f"
             ],
             [
              0.2222222222222222,
              "#7201a8"
             ],
             [
              0.3333333333333333,
              "#9c179e"
             ],
             [
              0.4444444444444444,
              "#bd3786"
             ],
             [
              0.5555555555555556,
              "#d8576b"
             ],
             [
              0.6666666666666666,
              "#ed7953"
             ],
             [
              0.7777777777777778,
              "#fb9f3a"
             ],
             [
              0.8888888888888888,
              "#fdca26"
             ],
             [
              1,
              "#f0f921"
             ]
            ],
            "type": "heatmapgl"
           }
          ],
          "histogram": [
           {
            "marker": {
             "pattern": {
              "fillmode": "overlay",
              "size": 10,
              "solidity": 0.2
             }
            },
            "type": "histogram"
           }
          ],
          "histogram2d": [
           {
            "colorbar": {
             "outlinewidth": 0,
             "ticks": ""
            },
            "colorscale": [
             [
              0,
              "#0d0887"
             ],
             [
              0.1111111111111111,
              "#46039f"
             ],
             [
              0.2222222222222222,
              "#7201a8"
             ],
             [
              0.3333333333333333,
              "#9c179e"
             ],
             [
              0.4444444444444444,
              "#bd3786"
             ],
             [
              0.5555555555555556,
              "#d8576b"
             ],
             [
              0.6666666666666666,
              "#ed7953"
             ],
             [
              0.7777777777777778,
              "#fb9f3a"
             ],
             [
              0.8888888888888888,
              "#fdca26"
             ],
             [
              1,
              "#f0f921"
             ]
            ],
            "type": "histogram2d"
           }
          ],
          "histogram2dcontour": [
           {
            "colorbar": {
             "outlinewidth": 0,
             "ticks": ""
            },
            "colorscale": [
             [
              0,
              "#0d0887"
             ],
             [
              0.1111111111111111,
              "#46039f"
             ],
             [
              0.2222222222222222,
              "#7201a8"
             ],
             [
              0.3333333333333333,
              "#9c179e"
             ],
             [
              0.4444444444444444,
              "#bd3786"
             ],
             [
              0.5555555555555556,
              "#d8576b"
             ],
             [
              0.6666666666666666,
              "#ed7953"
             ],
             [
              0.7777777777777778,
              "#fb9f3a"
             ],
             [
              0.8888888888888888,
              "#fdca26"
             ],
             [
              1,
              "#f0f921"
             ]
            ],
            "type": "histogram2dcontour"
           }
          ],
          "mesh3d": [
           {
            "colorbar": {
             "outlinewidth": 0,
             "ticks": ""
            },
            "type": "mesh3d"
           }
          ],
          "parcoords": [
           {
            "line": {
             "colorbar": {
              "outlinewidth": 0,
              "ticks": ""
             }
            },
            "type": "parcoords"
           }
          ],
          "pie": [
           {
            "automargin": true,
            "type": "pie"
           }
          ],
          "scatter": [
           {
            "fillpattern": {
             "fillmode": "overlay",
             "size": 10,
             "solidity": 0.2
            },
            "type": "scatter"
           }
          ],
          "scatter3d": [
           {
            "line": {
             "colorbar": {
              "outlinewidth": 0,
              "ticks": ""
             }
            },
            "marker": {
             "colorbar": {
              "outlinewidth": 0,
              "ticks": ""
             }
            },
            "type": "scatter3d"
           }
          ],
          "scattercarpet": [
           {
            "marker": {
             "colorbar": {
              "outlinewidth": 0,
              "ticks": ""
             }
            },
            "type": "scattercarpet"
           }
          ],
          "scattergeo": [
           {
            "marker": {
             "colorbar": {
              "outlinewidth": 0,
              "ticks": ""
             }
            },
            "type": "scattergeo"
           }
          ],
          "scattergl": [
           {
            "marker": {
             "colorbar": {
              "outlinewidth": 0,
              "ticks": ""
             }
            },
            "type": "scattergl"
           }
          ],
          "scattermapbox": [
           {
            "marker": {
             "colorbar": {
              "outlinewidth": 0,
              "ticks": ""
             }
            },
            "type": "scattermapbox"
           }
          ],
          "scatterpolar": [
           {
            "marker": {
             "colorbar": {
              "outlinewidth": 0,
              "ticks": ""
             }
            },
            "type": "scatterpolar"
           }
          ],
          "scatterpolargl": [
           {
            "marker": {
             "colorbar": {
              "outlinewidth": 0,
              "ticks": ""
             }
            },
            "type": "scatterpolargl"
           }
          ],
          "scatterternary": [
           {
            "marker": {
             "colorbar": {
              "outlinewidth": 0,
              "ticks": ""
             }
            },
            "type": "scatterternary"
           }
          ],
          "surface": [
           {
            "colorbar": {
             "outlinewidth": 0,
             "ticks": ""
            },
            "colorscale": [
             [
              0,
              "#0d0887"
             ],
             [
              0.1111111111111111,
              "#46039f"
             ],
             [
              0.2222222222222222,
              "#7201a8"
             ],
             [
              0.3333333333333333,
              "#9c179e"
             ],
             [
              0.4444444444444444,
              "#bd3786"
             ],
             [
              0.5555555555555556,
              "#d8576b"
             ],
             [
              0.6666666666666666,
              "#ed7953"
             ],
             [
              0.7777777777777778,
              "#fb9f3a"
             ],
             [
              0.8888888888888888,
              "#fdca26"
             ],
             [
              1,
              "#f0f921"
             ]
            ],
            "type": "surface"
           }
          ],
          "table": [
           {
            "cells": {
             "fill": {
              "color": "#EBF0F8"
             },
             "line": {
              "color": "white"
             }
            },
            "header": {
             "fill": {
              "color": "#C8D4E3"
             },
             "line": {
              "color": "white"
             }
            },
            "type": "table"
           }
          ]
         },
         "layout": {
          "annotationdefaults": {
           "arrowcolor": "#2a3f5f",
           "arrowhead": 0,
           "arrowwidth": 1
          },
          "autotypenumbers": "strict",
          "coloraxis": {
           "colorbar": {
            "outlinewidth": 0,
            "ticks": ""
           }
          },
          "colorscale": {
           "diverging": [
            [
             0,
             "#8e0152"
            ],
            [
             0.1,
             "#c51b7d"
            ],
            [
             0.2,
             "#de77ae"
            ],
            [
             0.3,
             "#f1b6da"
            ],
            [
             0.4,
             "#fde0ef"
            ],
            [
             0.5,
             "#f7f7f7"
            ],
            [
             0.6,
             "#e6f5d0"
            ],
            [
             0.7,
             "#b8e186"
            ],
            [
             0.8,
             "#7fbc41"
            ],
            [
             0.9,
             "#4d9221"
            ],
            [
             1,
             "#276419"
            ]
           ],
           "sequential": [
            [
             0,
             "#0d0887"
            ],
            [
             0.1111111111111111,
             "#46039f"
            ],
            [
             0.2222222222222222,
             "#7201a8"
            ],
            [
             0.3333333333333333,
             "#9c179e"
            ],
            [
             0.4444444444444444,
             "#bd3786"
            ],
            [
             0.5555555555555556,
             "#d8576b"
            ],
            [
             0.6666666666666666,
             "#ed7953"
            ],
            [
             0.7777777777777778,
             "#fb9f3a"
            ],
            [
             0.8888888888888888,
             "#fdca26"
            ],
            [
             1,
             "#f0f921"
            ]
           ],
           "sequentialminus": [
            [
             0,
             "#0d0887"
            ],
            [
             0.1111111111111111,
             "#46039f"
            ],
            [
             0.2222222222222222,
             "#7201a8"
            ],
            [
             0.3333333333333333,
             "#9c179e"
            ],
            [
             0.4444444444444444,
             "#bd3786"
            ],
            [
             0.5555555555555556,
             "#d8576b"
            ],
            [
             0.6666666666666666,
             "#ed7953"
            ],
            [
             0.7777777777777778,
             "#fb9f3a"
            ],
            [
             0.8888888888888888,
             "#fdca26"
            ],
            [
             1,
             "#f0f921"
            ]
           ]
          },
          "colorway": [
           "#636efa",
           "#EF553B",
           "#00cc96",
           "#ab63fa",
           "#FFA15A",
           "#19d3f3",
           "#FF6692",
           "#B6E880",
           "#FF97FF",
           "#FECB52"
          ],
          "font": {
           "color": "#2a3f5f"
          },
          "geo": {
           "bgcolor": "white",
           "lakecolor": "white",
           "landcolor": "#E5ECF6",
           "showlakes": true,
           "showland": true,
           "subunitcolor": "white"
          },
          "hoverlabel": {
           "align": "left"
          },
          "hovermode": "closest",
          "mapbox": {
           "style": "light"
          },
          "paper_bgcolor": "white",
          "plot_bgcolor": "#E5ECF6",
          "polar": {
           "angularaxis": {
            "gridcolor": "white",
            "linecolor": "white",
            "ticks": ""
           },
           "bgcolor": "#E5ECF6",
           "radialaxis": {
            "gridcolor": "white",
            "linecolor": "white",
            "ticks": ""
           }
          },
          "scene": {
           "xaxis": {
            "backgroundcolor": "#E5ECF6",
            "gridcolor": "white",
            "gridwidth": 2,
            "linecolor": "white",
            "showbackground": true,
            "ticks": "",
            "zerolinecolor": "white"
           },
           "yaxis": {
            "backgroundcolor": "#E5ECF6",
            "gridcolor": "white",
            "gridwidth": 2,
            "linecolor": "white",
            "showbackground": true,
            "ticks": "",
            "zerolinecolor": "white"
           },
           "zaxis": {
            "backgroundcolor": "#E5ECF6",
            "gridcolor": "white",
            "gridwidth": 2,
            "linecolor": "white",
            "showbackground": true,
            "ticks": "",
            "zerolinecolor": "white"
           }
          },
          "shapedefaults": {
           "line": {
            "color": "#2a3f5f"
           }
          },
          "ternary": {
           "aaxis": {
            "gridcolor": "white",
            "linecolor": "white",
            "ticks": ""
           },
           "baxis": {
            "gridcolor": "white",
            "linecolor": "white",
            "ticks": ""
           },
           "bgcolor": "#E5ECF6",
           "caxis": {
            "gridcolor": "white",
            "linecolor": "white",
            "ticks": ""
           }
          },
          "title": {
           "x": 0.05
          },
          "xaxis": {
           "automargin": true,
           "gridcolor": "white",
           "linecolor": "white",
           "ticks": "",
           "title": {
            "standoff": 15
           },
           "zerolinecolor": "white",
           "zerolinewidth": 2
          },
          "yaxis": {
           "automargin": true,
           "gridcolor": "white",
           "linecolor": "white",
           "ticks": "",
           "title": {
            "standoff": 15
           },
           "zerolinecolor": "white",
           "zerolinewidth": 2
          }
         }
        },
        "width": 800,
        "xaxis": {
         "anchor": "y",
         "domain": [
          0,
          1
         ],
         "ticktext": [
          "Negative",
          "Positive"
         ],
         "tickvals": [
          "neg",
          "pos"
         ],
         "title": {
          "text": "Class"
         }
        },
        "yaxis": {
         "anchor": "x",
         "domain": [
          0,
          1
         ],
         "title": {
          "text": "Total"
         }
        }
       }
      }
     },
     "metadata": {},
     "output_type": "display_data"
    }
   ],
   "source": [
    "fig = px.bar(df_count_class,\n",
    "             x=df_count_class.index.get_level_values('class'),\n",
    "             y='count',\n",
    "             text_auto='count'\n",
    "             )\n",
    "fig.update_layout(height=400,\n",
    "                  width=800,\n",
    "                  showlegend=True,\n",
    "                  margin=dict(l=10, r=10, b=10, t=10),\n",
    "                  yaxis=dict(title='Total'),\n",
    "                  xaxis=dict(title='Class',\n",
    "                             tickvals=['neg', 'pos'],\n",
    "                             ticktext=['Negative', 'Positive'])\n",
    "                  )\n",
    "fig.show()"
   ]
  },
  {
   "cell_type": "code",
   "execution_count": 12,
   "metadata": {},
   "outputs": [
    {
     "data": {
      "text/html": [
       "<div>\n",
       "<style scoped>\n",
       "    .dataframe tbody tr th:only-of-type {\n",
       "        vertical-align: middle;\n",
       "    }\n",
       "\n",
       "    .dataframe tbody tr th {\n",
       "        vertical-align: top;\n",
       "    }\n",
       "\n",
       "    .dataframe thead th {\n",
       "        text-align: right;\n",
       "    }\n",
       "</style>\n",
       "<table border=\"1\" class=\"dataframe\">\n",
       "  <thead>\n",
       "    <tr style=\"text-align: right;\">\n",
       "      <th></th>\n",
       "      <th>percent</th>\n",
       "    </tr>\n",
       "  </thead>\n",
       "  <tbody>\n",
       "    <tr>\n",
       "      <th>non_event</th>\n",
       "      <td>98.33</td>\n",
       "    </tr>\n",
       "    <tr>\n",
       "      <th>event</th>\n",
       "      <td>1.67</td>\n",
       "    </tr>\n",
       "  </tbody>\n",
       "</table>\n",
       "</div>"
      ],
      "text/plain": [
       "           percent\n",
       "non_event    98.33\n",
       "event         1.67"
      ]
     },
     "execution_count": 12,
     "metadata": {},
     "output_type": "execute_result"
    }
   ],
   "source": [
    "# Calculate events proportion\n",
    "total     = df_target.shape[0]\n",
    "non_event = df_target[df_target['class'] == 0].shape[0]\n",
    "event     = df_target[df_target['class'] == 1].shape[0]\n",
    "\n",
    "non_event_percent = round(non_event / total * 100, 2)\n",
    "event_percent     = round(event / total * 100, 2)\n",
    "\n",
    "df_percent_events = pd.DataFrame([non_event_percent, event_percent],\n",
    "                                 columns=['percent'],\n",
    "                                 index=['non_event', 'event']\n",
    "                                 )\n",
    "df_percent_events"
   ]
  },
  {
   "cell_type": "code",
   "execution_count": 13,
   "metadata": {},
   "outputs": [
    {
     "data": {
      "application/vnd.plotly.v1+json": {
       "config": {
        "plotlyServerURL": "https://plot.ly"
       },
       "data": [
        {
         "alignmentgroup": "True",
         "hovertemplate": "index=%{x}<br>percent=%{y}<extra></extra>",
         "legendgroup": "",
         "marker": {
          "color": "#636efa",
          "pattern": {
           "shape": ""
          }
         },
         "name": "",
         "offsetgroup": "",
         "orientation": "v",
         "showlegend": false,
         "textposition": "auto",
         "texttemplate": "%{y}",
         "type": "bar",
         "x": [
          "non_event",
          "event"
         ],
         "xaxis": "x",
         "y": [
          98.33,
          1.67
         ],
         "yaxis": "y"
        }
       ],
       "layout": {
        "barmode": "relative",
        "height": 400,
        "legend": {
         "tracegroupgap": 0
        },
        "margin": {
         "b": 10,
         "l": 10,
         "r": 10,
         "t": 10
        },
        "showlegend": true,
        "template": {
         "data": {
          "bar": [
           {
            "error_x": {
             "color": "#2a3f5f"
            },
            "error_y": {
             "color": "#2a3f5f"
            },
            "marker": {
             "line": {
              "color": "#E5ECF6",
              "width": 0.5
             },
             "pattern": {
              "fillmode": "overlay",
              "size": 10,
              "solidity": 0.2
             }
            },
            "type": "bar"
           }
          ],
          "barpolar": [
           {
            "marker": {
             "line": {
              "color": "#E5ECF6",
              "width": 0.5
             },
             "pattern": {
              "fillmode": "overlay",
              "size": 10,
              "solidity": 0.2
             }
            },
            "type": "barpolar"
           }
          ],
          "carpet": [
           {
            "aaxis": {
             "endlinecolor": "#2a3f5f",
             "gridcolor": "white",
             "linecolor": "white",
             "minorgridcolor": "white",
             "startlinecolor": "#2a3f5f"
            },
            "baxis": {
             "endlinecolor": "#2a3f5f",
             "gridcolor": "white",
             "linecolor": "white",
             "minorgridcolor": "white",
             "startlinecolor": "#2a3f5f"
            },
            "type": "carpet"
           }
          ],
          "choropleth": [
           {
            "colorbar": {
             "outlinewidth": 0,
             "ticks": ""
            },
            "type": "choropleth"
           }
          ],
          "contour": [
           {
            "colorbar": {
             "outlinewidth": 0,
             "ticks": ""
            },
            "colorscale": [
             [
              0,
              "#0d0887"
             ],
             [
              0.1111111111111111,
              "#46039f"
             ],
             [
              0.2222222222222222,
              "#7201a8"
             ],
             [
              0.3333333333333333,
              "#9c179e"
             ],
             [
              0.4444444444444444,
              "#bd3786"
             ],
             [
              0.5555555555555556,
              "#d8576b"
             ],
             [
              0.6666666666666666,
              "#ed7953"
             ],
             [
              0.7777777777777778,
              "#fb9f3a"
             ],
             [
              0.8888888888888888,
              "#fdca26"
             ],
             [
              1,
              "#f0f921"
             ]
            ],
            "type": "contour"
           }
          ],
          "contourcarpet": [
           {
            "colorbar": {
             "outlinewidth": 0,
             "ticks": ""
            },
            "type": "contourcarpet"
           }
          ],
          "heatmap": [
           {
            "colorbar": {
             "outlinewidth": 0,
             "ticks": ""
            },
            "colorscale": [
             [
              0,
              "#0d0887"
             ],
             [
              0.1111111111111111,
              "#46039f"
             ],
             [
              0.2222222222222222,
              "#7201a8"
             ],
             [
              0.3333333333333333,
              "#9c179e"
             ],
             [
              0.4444444444444444,
              "#bd3786"
             ],
             [
              0.5555555555555556,
              "#d8576b"
             ],
             [
              0.6666666666666666,
              "#ed7953"
             ],
             [
              0.7777777777777778,
              "#fb9f3a"
             ],
             [
              0.8888888888888888,
              "#fdca26"
             ],
             [
              1,
              "#f0f921"
             ]
            ],
            "type": "heatmap"
           }
          ],
          "heatmapgl": [
           {
            "colorbar": {
             "outlinewidth": 0,
             "ticks": ""
            },
            "colorscale": [
             [
              0,
              "#0d0887"
             ],
             [
              0.1111111111111111,
              "#46039f"
             ],
             [
              0.2222222222222222,
              "#7201a8"
             ],
             [
              0.3333333333333333,
              "#9c179e"
             ],
             [
              0.4444444444444444,
              "#bd3786"
             ],
             [
              0.5555555555555556,
              "#d8576b"
             ],
             [
              0.6666666666666666,
              "#ed7953"
             ],
             [
              0.7777777777777778,
              "#fb9f3a"
             ],
             [
              0.8888888888888888,
              "#fdca26"
             ],
             [
              1,
              "#f0f921"
             ]
            ],
            "type": "heatmapgl"
           }
          ],
          "histogram": [
           {
            "marker": {
             "pattern": {
              "fillmode": "overlay",
              "size": 10,
              "solidity": 0.2
             }
            },
            "type": "histogram"
           }
          ],
          "histogram2d": [
           {
            "colorbar": {
             "outlinewidth": 0,
             "ticks": ""
            },
            "colorscale": [
             [
              0,
              "#0d0887"
             ],
             [
              0.1111111111111111,
              "#46039f"
             ],
             [
              0.2222222222222222,
              "#7201a8"
             ],
             [
              0.3333333333333333,
              "#9c179e"
             ],
             [
              0.4444444444444444,
              "#bd3786"
             ],
             [
              0.5555555555555556,
              "#d8576b"
             ],
             [
              0.6666666666666666,
              "#ed7953"
             ],
             [
              0.7777777777777778,
              "#fb9f3a"
             ],
             [
              0.8888888888888888,
              "#fdca26"
             ],
             [
              1,
              "#f0f921"
             ]
            ],
            "type": "histogram2d"
           }
          ],
          "histogram2dcontour": [
           {
            "colorbar": {
             "outlinewidth": 0,
             "ticks": ""
            },
            "colorscale": [
             [
              0,
              "#0d0887"
             ],
             [
              0.1111111111111111,
              "#46039f"
             ],
             [
              0.2222222222222222,
              "#7201a8"
             ],
             [
              0.3333333333333333,
              "#9c179e"
             ],
             [
              0.4444444444444444,
              "#bd3786"
             ],
             [
              0.5555555555555556,
              "#d8576b"
             ],
             [
              0.6666666666666666,
              "#ed7953"
             ],
             [
              0.7777777777777778,
              "#fb9f3a"
             ],
             [
              0.8888888888888888,
              "#fdca26"
             ],
             [
              1,
              "#f0f921"
             ]
            ],
            "type": "histogram2dcontour"
           }
          ],
          "mesh3d": [
           {
            "colorbar": {
             "outlinewidth": 0,
             "ticks": ""
            },
            "type": "mesh3d"
           }
          ],
          "parcoords": [
           {
            "line": {
             "colorbar": {
              "outlinewidth": 0,
              "ticks": ""
             }
            },
            "type": "parcoords"
           }
          ],
          "pie": [
           {
            "automargin": true,
            "type": "pie"
           }
          ],
          "scatter": [
           {
            "fillpattern": {
             "fillmode": "overlay",
             "size": 10,
             "solidity": 0.2
            },
            "type": "scatter"
           }
          ],
          "scatter3d": [
           {
            "line": {
             "colorbar": {
              "outlinewidth": 0,
              "ticks": ""
             }
            },
            "marker": {
             "colorbar": {
              "outlinewidth": 0,
              "ticks": ""
             }
            },
            "type": "scatter3d"
           }
          ],
          "scattercarpet": [
           {
            "marker": {
             "colorbar": {
              "outlinewidth": 0,
              "ticks": ""
             }
            },
            "type": "scattercarpet"
           }
          ],
          "scattergeo": [
           {
            "marker": {
             "colorbar": {
              "outlinewidth": 0,
              "ticks": ""
             }
            },
            "type": "scattergeo"
           }
          ],
          "scattergl": [
           {
            "marker": {
             "colorbar": {
              "outlinewidth": 0,
              "ticks": ""
             }
            },
            "type": "scattergl"
           }
          ],
          "scattermapbox": [
           {
            "marker": {
             "colorbar": {
              "outlinewidth": 0,
              "ticks": ""
             }
            },
            "type": "scattermapbox"
           }
          ],
          "scatterpolar": [
           {
            "marker": {
             "colorbar": {
              "outlinewidth": 0,
              "ticks": ""
             }
            },
            "type": "scatterpolar"
           }
          ],
          "scatterpolargl": [
           {
            "marker": {
             "colorbar": {
              "outlinewidth": 0,
              "ticks": ""
             }
            },
            "type": "scatterpolargl"
           }
          ],
          "scatterternary": [
           {
            "marker": {
             "colorbar": {
              "outlinewidth": 0,
              "ticks": ""
             }
            },
            "type": "scatterternary"
           }
          ],
          "surface": [
           {
            "colorbar": {
             "outlinewidth": 0,
             "ticks": ""
            },
            "colorscale": [
             [
              0,
              "#0d0887"
             ],
             [
              0.1111111111111111,
              "#46039f"
             ],
             [
              0.2222222222222222,
              "#7201a8"
             ],
             [
              0.3333333333333333,
              "#9c179e"
             ],
             [
              0.4444444444444444,
              "#bd3786"
             ],
             [
              0.5555555555555556,
              "#d8576b"
             ],
             [
              0.6666666666666666,
              "#ed7953"
             ],
             [
              0.7777777777777778,
              "#fb9f3a"
             ],
             [
              0.8888888888888888,
              "#fdca26"
             ],
             [
              1,
              "#f0f921"
             ]
            ],
            "type": "surface"
           }
          ],
          "table": [
           {
            "cells": {
             "fill": {
              "color": "#EBF0F8"
             },
             "line": {
              "color": "white"
             }
            },
            "header": {
             "fill": {
              "color": "#C8D4E3"
             },
             "line": {
              "color": "white"
             }
            },
            "type": "table"
           }
          ]
         },
         "layout": {
          "annotationdefaults": {
           "arrowcolor": "#2a3f5f",
           "arrowhead": 0,
           "arrowwidth": 1
          },
          "autotypenumbers": "strict",
          "coloraxis": {
           "colorbar": {
            "outlinewidth": 0,
            "ticks": ""
           }
          },
          "colorscale": {
           "diverging": [
            [
             0,
             "#8e0152"
            ],
            [
             0.1,
             "#c51b7d"
            ],
            [
             0.2,
             "#de77ae"
            ],
            [
             0.3,
             "#f1b6da"
            ],
            [
             0.4,
             "#fde0ef"
            ],
            [
             0.5,
             "#f7f7f7"
            ],
            [
             0.6,
             "#e6f5d0"
            ],
            [
             0.7,
             "#b8e186"
            ],
            [
             0.8,
             "#7fbc41"
            ],
            [
             0.9,
             "#4d9221"
            ],
            [
             1,
             "#276419"
            ]
           ],
           "sequential": [
            [
             0,
             "#0d0887"
            ],
            [
             0.1111111111111111,
             "#46039f"
            ],
            [
             0.2222222222222222,
             "#7201a8"
            ],
            [
             0.3333333333333333,
             "#9c179e"
            ],
            [
             0.4444444444444444,
             "#bd3786"
            ],
            [
             0.5555555555555556,
             "#d8576b"
            ],
            [
             0.6666666666666666,
             "#ed7953"
            ],
            [
             0.7777777777777778,
             "#fb9f3a"
            ],
            [
             0.8888888888888888,
             "#fdca26"
            ],
            [
             1,
             "#f0f921"
            ]
           ],
           "sequentialminus": [
            [
             0,
             "#0d0887"
            ],
            [
             0.1111111111111111,
             "#46039f"
            ],
            [
             0.2222222222222222,
             "#7201a8"
            ],
            [
             0.3333333333333333,
             "#9c179e"
            ],
            [
             0.4444444444444444,
             "#bd3786"
            ],
            [
             0.5555555555555556,
             "#d8576b"
            ],
            [
             0.6666666666666666,
             "#ed7953"
            ],
            [
             0.7777777777777778,
             "#fb9f3a"
            ],
            [
             0.8888888888888888,
             "#fdca26"
            ],
            [
             1,
             "#f0f921"
            ]
           ]
          },
          "colorway": [
           "#636efa",
           "#EF553B",
           "#00cc96",
           "#ab63fa",
           "#FFA15A",
           "#19d3f3",
           "#FF6692",
           "#B6E880",
           "#FF97FF",
           "#FECB52"
          ],
          "font": {
           "color": "#2a3f5f"
          },
          "geo": {
           "bgcolor": "white",
           "lakecolor": "white",
           "landcolor": "#E5ECF6",
           "showlakes": true,
           "showland": true,
           "subunitcolor": "white"
          },
          "hoverlabel": {
           "align": "left"
          },
          "hovermode": "closest",
          "mapbox": {
           "style": "light"
          },
          "paper_bgcolor": "white",
          "plot_bgcolor": "#E5ECF6",
          "polar": {
           "angularaxis": {
            "gridcolor": "white",
            "linecolor": "white",
            "ticks": ""
           },
           "bgcolor": "#E5ECF6",
           "radialaxis": {
            "gridcolor": "white",
            "linecolor": "white",
            "ticks": ""
           }
          },
          "scene": {
           "xaxis": {
            "backgroundcolor": "#E5ECF6",
            "gridcolor": "white",
            "gridwidth": 2,
            "linecolor": "white",
            "showbackground": true,
            "ticks": "",
            "zerolinecolor": "white"
           },
           "yaxis": {
            "backgroundcolor": "#E5ECF6",
            "gridcolor": "white",
            "gridwidth": 2,
            "linecolor": "white",
            "showbackground": true,
            "ticks": "",
            "zerolinecolor": "white"
           },
           "zaxis": {
            "backgroundcolor": "#E5ECF6",
            "gridcolor": "white",
            "gridwidth": 2,
            "linecolor": "white",
            "showbackground": true,
            "ticks": "",
            "zerolinecolor": "white"
           }
          },
          "shapedefaults": {
           "line": {
            "color": "#2a3f5f"
           }
          },
          "ternary": {
           "aaxis": {
            "gridcolor": "white",
            "linecolor": "white",
            "ticks": ""
           },
           "baxis": {
            "gridcolor": "white",
            "linecolor": "white",
            "ticks": ""
           },
           "bgcolor": "#E5ECF6",
           "caxis": {
            "gridcolor": "white",
            "linecolor": "white",
            "ticks": ""
           }
          },
          "title": {
           "x": 0.05
          },
          "xaxis": {
           "automargin": true,
           "gridcolor": "white",
           "linecolor": "white",
           "ticks": "",
           "title": {
            "standoff": 15
           },
           "zerolinecolor": "white",
           "zerolinewidth": 2
          },
          "yaxis": {
           "automargin": true,
           "gridcolor": "white",
           "linecolor": "white",
           "ticks": "",
           "title": {
            "standoff": 15
           },
           "zerolinecolor": "white",
           "zerolinewidth": 2
          }
         }
        },
        "width": 800,
        "xaxis": {
         "anchor": "y",
         "domain": [
          0,
          1
         ],
         "ticktext": [
          "Negative",
          "Positive"
         ],
         "tickvals": [
          "non_event",
          "event"
         ],
         "title": {
          "text": "Class"
         }
        },
        "yaxis": {
         "anchor": "x",
         "domain": [
          0,
          1
         ],
         "title": {
          "text": "Total (%)"
         }
        }
       }
      }
     },
     "metadata": {},
     "output_type": "display_data"
    }
   ],
   "source": [
    "fig = px.bar(df_percent_events,\n",
    "             x=df_percent_events.index,\n",
    "             y='percent',\n",
    "             text_auto=True\n",
    "             )\n",
    "fig.update_layout(height=400,\n",
    "                  width=800,\n",
    "                  showlegend=True,\n",
    "                  margin=dict(l=10, r=10, b=10, t=10),\n",
    "                  yaxis = dict(title='Total (%)'),\n",
    "                  xaxis = dict(title='Class',\n",
    "                               tickvals=['non_event', 'event'],\n",
    "                               ticktext=['Negative', 'Positive'])\n",
    "                  )\n",
    "fig.show()"
   ]
  },
  {
   "cell_type": "code",
   "execution_count": 14,
   "metadata": {},
   "outputs": [
    {
     "name": "stdout",
     "output_type": "stream",
     "text": [
      "['cd_000']\n"
     ]
    }
   ],
   "source": [
    "# Identify features with zero variance\n",
    "features_zero_variance = [col for col in df_features if df_features[col].std() == 0]\n",
    "print(features_zero_variance)\n",
    "df_features.drop(columns=features_zero_variance, inplace=True)"
   ]
  },
  {
   "cell_type": "markdown",
   "metadata": {},
   "source": [
    "## Split train and validation"
   ]
  },
  {
   "cell_type": "code",
   "execution_count": 15,
   "metadata": {},
   "outputs": [],
   "source": [
    "X_train, X_val, y_train, y_val = train_test_split(df_features, df_target, test_size=0.3, random_state=RANDOM_SEED)"
   ]
  },
  {
   "cell_type": "markdown",
   "metadata": {},
   "source": [
    "## Input data on NaN"
   ]
  },
  {
   "cell_type": "code",
   "execution_count": 16,
   "metadata": {},
   "outputs": [
    {
     "name": "stdout",
     "output_type": "stream",
     "text": [
      "0\n",
      "0\n"
     ]
    }
   ],
   "source": [
    "# Use the median to replace NaN values\n",
    "imputer = SimpleImputer(missing_values=np.nan, strategy='median')\n",
    "imputer.fit(X_train)\n",
    "\n",
    "# # Save the imputer to a file\n",
    "# with open('train_artifacts\\\\simple_imputer.pkl', 'wb') as file:\n",
    "#     pickle.dump(imputer, file)\n",
    "\n",
    "# # Load the imputer from the file\n",
    "# with open('train_artifacts\\\\simple_imputer.pkl', 'rb') as file:\n",
    "#     imputer = pickle.load(file)\n",
    "\n",
    "# Fill NaN on train\n",
    "X_train_filled_nan = imputer.transform(X_train)\n",
    "X_train_filled_nan = pd.DataFrame(X_train_filled_nan, columns=X_train.columns)\n",
    "print(X_train_filled_nan.isna().sum().sum())\n",
    "\n",
    "# Fill NaN on validation\n",
    "X_val_filled_nan = imputer.transform(X_val)\n",
    "X_val_filled_nan = pd.DataFrame(X_val_filled_nan, columns=X_train.columns)\n",
    "print(X_val_filled_nan.isna().sum().sum())"
   ]
  },
  {
   "cell_type": "code",
   "execution_count": 17,
   "metadata": {},
   "outputs": [
    {
     "data": {
      "text/html": [
       "<div>\n",
       "<style scoped>\n",
       "    .dataframe tbody tr th:only-of-type {\n",
       "        vertical-align: middle;\n",
       "    }\n",
       "\n",
       "    .dataframe tbody tr th {\n",
       "        vertical-align: top;\n",
       "    }\n",
       "\n",
       "    .dataframe thead th {\n",
       "        text-align: right;\n",
       "    }\n",
       "</style>\n",
       "<table border=\"1\" class=\"dataframe\">\n",
       "  <thead>\n",
       "    <tr style=\"text-align: right;\">\n",
       "      <th></th>\n",
       "      <th>bl_000</th>\n",
       "      <th>bk_000</th>\n",
       "      <th>cg_000</th>\n",
       "      <th>ch_000</th>\n",
       "      <th>cf_000</th>\n",
       "      <th>co_000</th>\n",
       "      <th>ad_000</th>\n",
       "      <th>cx_000</th>\n",
       "      <th>cy_000</th>\n",
       "      <th>cz_000</th>\n",
       "      <th>...</th>\n",
       "      <th>ao_000</th>\n",
       "      <th>bj_000</th>\n",
       "      <th>bi_000</th>\n",
       "      <th>by_000</th>\n",
       "      <th>ck_000</th>\n",
       "      <th>ci_000</th>\n",
       "      <th>cj_000</th>\n",
       "      <th>bt_000</th>\n",
       "      <th>aa_000</th>\n",
       "      <th>class</th>\n",
       "    </tr>\n",
       "  </thead>\n",
       "  <tbody>\n",
       "    <tr>\n",
       "      <th>0</th>\n",
       "      <td>223120.0</td>\n",
       "      <td>210550.0</td>\n",
       "      <td>24.0</td>\n",
       "      <td>0.0</td>\n",
       "      <td>2.0</td>\n",
       "      <td>20.0</td>\n",
       "      <td>22.0</td>\n",
       "      <td>8894.0</td>\n",
       "      <td>0.0</td>\n",
       "      <td>56.0</td>\n",
       "      <td>...</td>\n",
       "      <td>194688.0</td>\n",
       "      <td>17962.0</td>\n",
       "      <td>21046.0</td>\n",
       "      <td>398.0</td>\n",
       "      <td>38068.80</td>\n",
       "      <td>31439.04</td>\n",
       "      <td>97958.40</td>\n",
       "      <td>448.53</td>\n",
       "      <td>448.0</td>\n",
       "      <td>0.0</td>\n",
       "    </tr>\n",
       "    <tr>\n",
       "      <th>1</th>\n",
       "      <td>149160.0</td>\n",
       "      <td>151280.0</td>\n",
       "      <td>46.0</td>\n",
       "      <td>0.0</td>\n",
       "      <td>2.0</td>\n",
       "      <td>8.0</td>\n",
       "      <td>128.0</td>\n",
       "      <td>44599.0</td>\n",
       "      <td>0.0</td>\n",
       "      <td>205.0</td>\n",
       "      <td>...</td>\n",
       "      <td>25927250.0</td>\n",
       "      <td>2254536.0</td>\n",
       "      <td>1626396.0</td>\n",
       "      <td>236927.0</td>\n",
       "      <td>3757785.60</td>\n",
       "      <td>27214602.24</td>\n",
       "      <td>615681.60</td>\n",
       "      <td>306241.15</td>\n",
       "      <td>306242.0</td>\n",
       "      <td>NaN</td>\n",
       "    </tr>\n",
       "    <tr>\n",
       "      <th>2</th>\n",
       "      <td>223120.0</td>\n",
       "      <td>262700.0</td>\n",
       "      <td>152.0</td>\n",
       "      <td>0.0</td>\n",
       "      <td>0.0</td>\n",
       "      <td>30.0</td>\n",
       "      <td>190.0</td>\n",
       "      <td>91508.0</td>\n",
       "      <td>0.0</td>\n",
       "      <td>6496.0</td>\n",
       "      <td>...</td>\n",
       "      <td>1323854.0</td>\n",
       "      <td>268590.0</td>\n",
       "      <td>98804.0</td>\n",
       "      <td>3400.0</td>\n",
       "      <td>575400.00</td>\n",
       "      <td>1035457.92</td>\n",
       "      <td>45625.92</td>\n",
       "      <td>11485.04</td>\n",
       "      <td>11486.0</td>\n",
       "      <td>NaN</td>\n",
       "    </tr>\n",
       "    <tr>\n",
       "      <th>3</th>\n",
       "      <td>223120.0</td>\n",
       "      <td>210550.0</td>\n",
       "      <td>18.0</td>\n",
       "      <td>0.0</td>\n",
       "      <td>0.0</td>\n",
       "      <td>0.0</td>\n",
       "      <td>18.0</td>\n",
       "      <td>276.0</td>\n",
       "      <td>0.0</td>\n",
       "      <td>18.0</td>\n",
       "      <td>...</td>\n",
       "      <td>83204.0</td>\n",
       "      <td>12238.0</td>\n",
       "      <td>41222.0</td>\n",
       "      <td>201.0</td>\n",
       "      <td>52356.48</td>\n",
       "      <td>33396.48</td>\n",
       "      <td>0.00</td>\n",
       "      <td>450.48</td>\n",
       "      <td>450.0</td>\n",
       "      <td>NaN</td>\n",
       "    </tr>\n",
       "    <tr>\n",
       "      <th>4</th>\n",
       "      <td>481020.0</td>\n",
       "      <td>407440.0</td>\n",
       "      <td>46.0</td>\n",
       "      <td>0.0</td>\n",
       "      <td>2.0</td>\n",
       "      <td>8.0</td>\n",
       "      <td>128.0</td>\n",
       "      <td>44599.0</td>\n",
       "      <td>0.0</td>\n",
       "      <td>205.0</td>\n",
       "      <td>...</td>\n",
       "      <td>23113102.0</td>\n",
       "      <td>8432244.0</td>\n",
       "      <td>3234330.0</td>\n",
       "      <td>103896.0</td>\n",
       "      <td>15401701.44</td>\n",
       "      <td>23994068.16</td>\n",
       "      <td>0.00</td>\n",
       "      <td>175338.11</td>\n",
       "      <td>175338.0</td>\n",
       "      <td>NaN</td>\n",
       "    </tr>\n",
       "  </tbody>\n",
       "</table>\n",
       "<p>5 rows × 162 columns</p>\n",
       "</div>"
      ],
      "text/plain": [
       "     bl_000    bk_000  cg_000  ch_000  cf_000  co_000  ad_000   cx_000  \\\n",
       "0  223120.0  210550.0    24.0     0.0     2.0    20.0    22.0   8894.0   \n",
       "1  149160.0  151280.0    46.0     0.0     2.0     8.0   128.0  44599.0   \n",
       "2  223120.0  262700.0   152.0     0.0     0.0    30.0   190.0  91508.0   \n",
       "3  223120.0  210550.0    18.0     0.0     0.0     0.0    18.0    276.0   \n",
       "4  481020.0  407440.0    46.0     0.0     2.0     8.0   128.0  44599.0   \n",
       "\n",
       "   cy_000  cz_000  ...      ao_000     bj_000     bi_000    by_000  \\\n",
       "0     0.0    56.0  ...    194688.0    17962.0    21046.0     398.0   \n",
       "1     0.0   205.0  ...  25927250.0  2254536.0  1626396.0  236927.0   \n",
       "2     0.0  6496.0  ...   1323854.0   268590.0    98804.0    3400.0   \n",
       "3     0.0    18.0  ...     83204.0    12238.0    41222.0     201.0   \n",
       "4     0.0   205.0  ...  23113102.0  8432244.0  3234330.0  103896.0   \n",
       "\n",
       "        ck_000       ci_000     cj_000     bt_000    aa_000  class  \n",
       "0     38068.80     31439.04   97958.40     448.53     448.0    0.0  \n",
       "1   3757785.60  27214602.24  615681.60  306241.15  306242.0    NaN  \n",
       "2    575400.00   1035457.92   45625.92   11485.04   11486.0    NaN  \n",
       "3     52356.48     33396.48       0.00     450.48     450.0    NaN  \n",
       "4  15401701.44  23994068.16       0.00  175338.11  175338.0    NaN  \n",
       "\n",
       "[5 rows x 162 columns]"
      ]
     },
     "execution_count": 17,
     "metadata": {},
     "output_type": "execute_result"
    }
   ],
   "source": [
    "df_val = X_val_filled_nan.join(y_val)\n",
    "df_val.head()"
   ]
  },
  {
   "cell_type": "markdown",
   "metadata": {},
   "source": [
    "## Balance data"
   ]
  },
  {
   "cell_type": "code",
   "execution_count": 18,
   "metadata": {},
   "outputs": [],
   "source": [
    "# Balance train data minority class\n",
    "oversample = SMOTE(sampling_strategy='minority', random_state=RANDOM_SEED)\n",
    "oversample.fit(X_train_filled_nan, y_train)\n",
    "\n",
    "# # Save the oversample to a file\n",
    "# with open('train_artifacts\\\\oversample.pkl', 'wb') as file:\n",
    "#     pickle.dump(oversample, file)\n",
    "\n",
    "# # Load the oversample from the file\n",
    "# with open('train_artifacts\\\\oversample.pkl', 'rb') as file:\n",
    "#     oversample = pickle.load(file)\n",
    "\n",
    "# Data balanced\n",
    "X_train_balanced, y_train_balanced = oversample.fit_resample(X_train_filled_nan, y_train)\n",
    "# y train form dataframe to series\n",
    "y_train_balanced = y_train_balanced['class']"
   ]
  },
  {
   "cell_type": "code",
   "execution_count": 19,
   "metadata": {},
   "outputs": [
    {
     "data": {
      "text/html": [
       "<div>\n",
       "<style scoped>\n",
       "    .dataframe tbody tr th:only-of-type {\n",
       "        vertical-align: middle;\n",
       "    }\n",
       "\n",
       "    .dataframe tbody tr th {\n",
       "        vertical-align: top;\n",
       "    }\n",
       "\n",
       "    .dataframe thead th {\n",
       "        text-align: right;\n",
       "    }\n",
       "</style>\n",
       "<table border=\"1\" class=\"dataframe\">\n",
       "  <thead>\n",
       "    <tr style=\"text-align: right;\">\n",
       "      <th></th>\n",
       "      <th>bl_000</th>\n",
       "      <th>bk_000</th>\n",
       "      <th>cg_000</th>\n",
       "      <th>ch_000</th>\n",
       "      <th>cf_000</th>\n",
       "      <th>co_000</th>\n",
       "      <th>ad_000</th>\n",
       "      <th>cx_000</th>\n",
       "      <th>cy_000</th>\n",
       "      <th>cz_000</th>\n",
       "      <th>...</th>\n",
       "      <th>ao_000</th>\n",
       "      <th>bj_000</th>\n",
       "      <th>bi_000</th>\n",
       "      <th>by_000</th>\n",
       "      <th>ck_000</th>\n",
       "      <th>ci_000</th>\n",
       "      <th>cj_000</th>\n",
       "      <th>bt_000</th>\n",
       "      <th>aa_000</th>\n",
       "      <th>class</th>\n",
       "    </tr>\n",
       "  </thead>\n",
       "  <tbody>\n",
       "    <tr>\n",
       "      <th>0</th>\n",
       "      <td>223120.0</td>\n",
       "      <td>210550.0</td>\n",
       "      <td>18.0</td>\n",
       "      <td>0.0</td>\n",
       "      <td>0.0</td>\n",
       "      <td>2.0</td>\n",
       "      <td>72.0</td>\n",
       "      <td>28824.0</td>\n",
       "      <td>0.0</td>\n",
       "      <td>42.0</td>\n",
       "      <td>...</td>\n",
       "      <td>93134.0</td>\n",
       "      <td>11718.0</td>\n",
       "      <td>22412.0</td>\n",
       "      <td>332.0</td>\n",
       "      <td>24934.08</td>\n",
       "      <td>85346.88</td>\n",
       "      <td>0.0</td>\n",
       "      <td>1560.87</td>\n",
       "      <td>1560.0</td>\n",
       "      <td>0</td>\n",
       "    </tr>\n",
       "    <tr>\n",
       "      <th>1</th>\n",
       "      <td>182000.0</td>\n",
       "      <td>147000.0</td>\n",
       "      <td>46.0</td>\n",
       "      <td>0.0</td>\n",
       "      <td>2.0</td>\n",
       "      <td>8.0</td>\n",
       "      <td>128.0</td>\n",
       "      <td>44599.0</td>\n",
       "      <td>0.0</td>\n",
       "      <td>205.0</td>\n",
       "      <td>...</td>\n",
       "      <td>1989590.0</td>\n",
       "      <td>184192.0</td>\n",
       "      <td>166962.0</td>\n",
       "      <td>13168.0</td>\n",
       "      <td>237656.64</td>\n",
       "      <td>2263753.92</td>\n",
       "      <td>0.0</td>\n",
       "      <td>39676.28</td>\n",
       "      <td>39676.0</td>\n",
       "      <td>0</td>\n",
       "    </tr>\n",
       "    <tr>\n",
       "      <th>2</th>\n",
       "      <td>269700.0</td>\n",
       "      <td>321880.0</td>\n",
       "      <td>304.0</td>\n",
       "      <td>0.0</td>\n",
       "      <td>0.0</td>\n",
       "      <td>484.0</td>\n",
       "      <td>1738.0</td>\n",
       "      <td>95572.0</td>\n",
       "      <td>0.0</td>\n",
       "      <td>36342.0</td>\n",
       "      <td>...</td>\n",
       "      <td>9533838.0</td>\n",
       "      <td>924640.0</td>\n",
       "      <td>2146080.0</td>\n",
       "      <td>74086.0</td>\n",
       "      <td>1666955.52</td>\n",
       "      <td>9946325.76</td>\n",
       "      <td>0.0</td>\n",
       "      <td>164987.86</td>\n",
       "      <td>164988.0</td>\n",
       "      <td>0</td>\n",
       "    </tr>\n",
       "    <tr>\n",
       "      <th>3</th>\n",
       "      <td>234600.0</td>\n",
       "      <td>231060.0</td>\n",
       "      <td>46.0</td>\n",
       "      <td>0.0</td>\n",
       "      <td>2.0</td>\n",
       "      <td>8.0</td>\n",
       "      <td>128.0</td>\n",
       "      <td>956014.0</td>\n",
       "      <td>4.0</td>\n",
       "      <td>868.0</td>\n",
       "      <td>...</td>\n",
       "      <td>22910020.0</td>\n",
       "      <td>2113040.0</td>\n",
       "      <td>3986672.0</td>\n",
       "      <td>65953.0</td>\n",
       "      <td>9266841.60</td>\n",
       "      <td>16313824.32</td>\n",
       "      <td>0.0</td>\n",
       "      <td>241465.38</td>\n",
       "      <td>241466.0</td>\n",
       "      <td>0</td>\n",
       "    </tr>\n",
       "    <tr>\n",
       "      <th>4</th>\n",
       "      <td>215980.0</td>\n",
       "      <td>185540.0</td>\n",
       "      <td>70.0</td>\n",
       "      <td>0.0</td>\n",
       "      <td>2.0</td>\n",
       "      <td>392.0</td>\n",
       "      <td>152.0</td>\n",
       "      <td>6830.0</td>\n",
       "      <td>0.0</td>\n",
       "      <td>1592.0</td>\n",
       "      <td>...</td>\n",
       "      <td>1900564.0</td>\n",
       "      <td>181094.0</td>\n",
       "      <td>263756.0</td>\n",
       "      <td>18238.0</td>\n",
       "      <td>251109.12</td>\n",
       "      <td>2244048.00</td>\n",
       "      <td>0.0</td>\n",
       "      <td>41802.60</td>\n",
       "      <td>41802.0</td>\n",
       "      <td>0</td>\n",
       "    </tr>\n",
       "  </tbody>\n",
       "</table>\n",
       "<p>5 rows × 162 columns</p>\n",
       "</div>"
      ],
      "text/plain": [
       "     bl_000    bk_000  cg_000  ch_000  cf_000  co_000  ad_000    cx_000  \\\n",
       "0  223120.0  210550.0    18.0     0.0     0.0     2.0    72.0   28824.0   \n",
       "1  182000.0  147000.0    46.0     0.0     2.0     8.0   128.0   44599.0   \n",
       "2  269700.0  321880.0   304.0     0.0     0.0   484.0  1738.0   95572.0   \n",
       "3  234600.0  231060.0    46.0     0.0     2.0     8.0   128.0  956014.0   \n",
       "4  215980.0  185540.0    70.0     0.0     2.0   392.0   152.0    6830.0   \n",
       "\n",
       "   cy_000   cz_000  ...      ao_000     bj_000     bi_000   by_000  \\\n",
       "0     0.0     42.0  ...     93134.0    11718.0    22412.0    332.0   \n",
       "1     0.0    205.0  ...   1989590.0   184192.0   166962.0  13168.0   \n",
       "2     0.0  36342.0  ...   9533838.0   924640.0  2146080.0  74086.0   \n",
       "3     4.0    868.0  ...  22910020.0  2113040.0  3986672.0  65953.0   \n",
       "4     0.0   1592.0  ...   1900564.0   181094.0   263756.0  18238.0   \n",
       "\n",
       "       ck_000       ci_000  cj_000     bt_000    aa_000  class  \n",
       "0    24934.08     85346.88     0.0    1560.87    1560.0      0  \n",
       "1   237656.64   2263753.92     0.0   39676.28   39676.0      0  \n",
       "2  1666955.52   9946325.76     0.0  164987.86  164988.0      0  \n",
       "3  9266841.60  16313824.32     0.0  241465.38  241466.0      0  \n",
       "4   251109.12   2244048.00     0.0   41802.60   41802.0      0  \n",
       "\n",
       "[5 rows x 162 columns]"
      ]
     },
     "execution_count": 19,
     "metadata": {},
     "output_type": "execute_result"
    }
   ],
   "source": [
    "df_train_balanced = X_train_balanced.join(y_train_balanced)\n",
    "df_train_balanced.head()"
   ]
  },
  {
   "cell_type": "code",
   "execution_count": 20,
   "metadata": {},
   "outputs": [
    {
     "data": {
      "text/plain": [
       "(50.0, 50.0)"
      ]
     },
     "execution_count": 20,
     "metadata": {},
     "output_type": "execute_result"
    }
   ],
   "source": [
    "# Calculate train events proportion\n",
    "size_train_balanced      = df_train_balanced.shape[0]\n",
    "non_event_train_balanced = df_train_balanced[df_train_balanced['class'] == 0].shape[0]\n",
    "event_Train_balanced     = df_train_balanced[df_train_balanced['class'] == 1].shape[0]\n",
    "\n",
    "non_event_train_balanced_percent = round(non_event_train_balanced / size_train_balanced * 100, 2)\n",
    "event_train_balanced_percent     = round(event_Train_balanced / size_train_balanced * 100, 2)\n",
    "\n",
    "non_event_train_balanced_percent, event_train_balanced_percent"
   ]
  },
  {
   "cell_type": "code",
   "execution_count": 21,
   "metadata": {},
   "outputs": [
    {
     "data": {
      "text/plain": [
       "(29.58, 0.56)"
      ]
     },
     "execution_count": 21,
     "metadata": {},
     "output_type": "execute_result"
    }
   ],
   "source": [
    "# Calculate validation events proportion\n",
    "size_val      = df_val.shape[0]\n",
    "non_event_val = df_val[df_val['class'] == 0].shape[0]\n",
    "event_val     = df_val[df_val['class'] == 1].shape[0]\n",
    "\n",
    "non_event_val_percent = round(non_event_val / size_val * 100, 2)\n",
    "event_val_percent     = round(event_val / size_val * 100, 2)\n",
    "\n",
    "non_event_val_percent, event_val_percent"
   ]
  },
  {
   "cell_type": "markdown",
   "metadata": {},
   "source": [
    "## Correlations"
   ]
  },
  {
   "cell_type": "code",
   "execution_count": 22,
   "metadata": {},
   "outputs": [],
   "source": [
    "# df_train_corr = df_train_balanced.corr().round(2)\n",
    "\n",
    "# fig = go.Figure()\n",
    "# fig.add_trace(\n",
    "#     go.Heatmap(\n",
    "#         x=df_train_corr.columns,\n",
    "#         y=df_train_corr.index,\n",
    "#         z=np.array(df_train_corr),\n",
    "#         text=df_train_corr.values,\n",
    "#         texttemplate='%{text:.4f}',\n",
    "#         colorscale='viridis'))\n",
    "\n",
    "# fig.update_layout(\n",
    "#     height=2000,\n",
    "#     width=2000,\n",
    "#     yaxis=dict(autorange='reversed'))\n",
    "\n",
    "# html_file ='temp_plot.html'\n",
    "# pio.write_html(fig, file=html_file, auto_open=True)"
   ]
  },
  {
   "cell_type": "markdown",
   "metadata": {},
   "source": [
    "Can you present to me the main factors that point to a possible failure in this system?"
   ]
  },
  {
   "cell_type": "markdown",
   "metadata": {},
   "source": [
    "# Functions"
   ]
  },
  {
   "cell_type": "code",
   "execution_count": 23,
   "metadata": {},
   "outputs": [],
   "source": [
    "def calculate_metrics_standard_cutoff(y_true, y_predict):\n",
    "    no_defect_cost  = 10\n",
    "    preventive_cost = 25\n",
    "    corrective_cost = 500\n",
    "    \n",
    "    accuracy       = accuracy_score(y_true, y_predict)\n",
    "    precision      = precision_score(y_true, y_predict, zero_division=0)\n",
    "    recall         = recall_score(y_true, y_predict, zero_division=0)\n",
    "    f1score        = f1_score(y_true, y_predict, zero_division=0)\n",
    "    auc_value      = roc_auc_score(y_true, y_predict)\n",
    "    tn, fp, fn, tp = confusion_matrix(y_true, y_predict).ravel()\n",
    "    specificity    = tn / (tn + fp)\n",
    "\n",
    "    false_positive_rate       = fp / (fp + tn) * 100\n",
    "    false_negative_rate       = fn / (fn + tp) * 100\n",
    "    false_classification_rate = (fp + fn) / y_predict.shape[0] * 100\n",
    "\n",
    "    no_defect_maintenance_cost  = fp * no_defect_cost\n",
    "    preventive_maintenance_cost = tp * preventive_cost\n",
    "    corrective_maintenance_cost = fn * corrective_cost\n",
    "    total_maintenance_cost      = no_defect_maintenance_cost \\\n",
    "                                     + preventive_maintenance_cost \\\n",
    "                                     + corrective_maintenance_cost\n",
    "    \n",
    "    metrics = []\n",
    "    metrics.append([accuracy,\n",
    "                    precision,\n",
    "                    recall,\n",
    "                    f1score,\n",
    "                    auc_value,\n",
    "                    specificity,\n",
    "                    tn, fp, fn, tp,\n",
    "                    false_positive_rate,\n",
    "                    false_negative_rate,\n",
    "                    false_classification_rate,\n",
    "                    no_defect_maintenance_cost,\n",
    "                    preventive_maintenance_cost,\n",
    "                    corrective_maintenance_cost,\n",
    "                    total_maintenance_cost]  \n",
    "                  )\n",
    "    print(f'Accuracy:        {accuracy:.2f}')\n",
    "    print(f'Precision:       {precision:.2f}')\n",
    "    print(f'Recall:          {recall:.2f}')\n",
    "    print(f'F1-score:        {f1score:.2f}')\n",
    "    print(f'Specificity:     {specificity:.2f}')\n",
    "    print(f'AUC:             {auc_value:.2f}\\n')\n",
    "    print(f'TN:              {tn:.2f}')\n",
    "    print(f'TP:              {tp:.2f}')\n",
    "    print(f'FN:              {fn:.2f}')\n",
    "    print(f'FP:              {fp:.2f}\\n')\n",
    "    print(f'FP rate:         {false_positive_rate:.2f}%')\n",
    "    print(f'FN rate:         {false_negative_rate:.2f}%')\n",
    "    print(f'False clf rate:  {false_classification_rate:.2f}%\\n')\n",
    "    print(f'No defect cost:  {no_defect_maintenance_cost:.2f}')\n",
    "    print(f'Predictive cost: {preventive_maintenance_cost:.2f}')\n",
    "    print(f'Corrective cost: {corrective_maintenance_cost:.2f}')\n",
    "    print(f'Total cost:      {total_maintenance_cost:.2f}\\n')\n",
    "\n",
    "    cm = confusion_matrix(y_true, y_predict)\n",
    "    ConfusionMatrixDisplay(confusion_matrix=cm).plot()\n",
    "    plt.show()\n",
    "\n",
    "    RocCurveDisplay.from_predictions(y_true, y_predict).plot\n",
    "\n",
    "    return metrics"
   ]
  },
  {
   "cell_type": "code",
   "execution_count": 24,
   "metadata": {},
   "outputs": [],
   "source": [
    "def calculate_metrics_range_cutoff(dataframe_predict_proba, y_true):\n",
    "    no_defect_cost  = 10\n",
    "    preventive_cost = 25\n",
    "    corrective_cost = 500\n",
    "    results = []\n",
    "    for cutoff in np.arange(0.05, 0.99, 0.05):\n",
    "        y_predict      = np.where(dataframe_predict_proba['proba_event'] > cutoff, 1, 0)\n",
    "        accuracy       = accuracy_score(y_true, y_predict)\n",
    "        precision      = precision_score(y_true, y_predict, zero_division=0)\n",
    "        recall         = recall_score(y_true, y_predict, zero_division=0)\n",
    "        f1score        = f1_score(y_true, y_predict, zero_division=0)\n",
    "        auc_value      = roc_auc_score(y_true, y_predict)\n",
    "        tn, fp, fn, tp = confusion_matrix(y_true, y_predict).ravel()\n",
    "        specificity    = tn / (tn + fp)\n",
    "\n",
    "        false_positive_rate       = fp / (fp + tn) * 100\n",
    "        false_negative_rate       = fn / (fn + tp) * 100\n",
    "        false_classification_rate = (fp + fn) / y_predict.shape[0] * 100\n",
    "\n",
    "        no_defect_maintenance_cost  = fp * no_defect_cost\n",
    "        preventive_maintenance_cost = tp * preventive_cost\n",
    "        corrective_maintenance_cost = fn * corrective_cost\n",
    "        total_maintenance_cost      = no_defect_maintenance_cost \\\n",
    "                                       + preventive_maintenance_cost \\\n",
    "                                        + corrective_maintenance_cost\n",
    "                                \n",
    "        results.append([cutoff, accuracy, precision,\n",
    "                        recall, f1score,\n",
    "                        auc_value, tn, fp, fn, tp,\n",
    "                        specificity, false_positive_rate,\n",
    "                        false_negative_rate, false_classification_rate,\n",
    "                        no_defect_maintenance_cost,\n",
    "                        preventive_maintenance_cost,\n",
    "                        corrective_maintenance_cost,\n",
    "                        total_maintenance_cost]\n",
    "                    )\n",
    "        \n",
    "        df_metrics = pd.DataFrame(results,\n",
    "                                  columns=['cutoff', 'accuracy', 'precision',\n",
    "                                           'recall', 'f1score' , 'auc_value',\n",
    "                                           'tn', 'fp', 'fn', 'tp',\n",
    "                                           'specificity', 'false_positive_rate',\n",
    "                                           'false_negative_rate', 'false_classification_rate',\n",
    "                                           'no_defect_maintenance_cost',\n",
    "                                           'preventive_maintenance_cost',\n",
    "                                           'corrective_maintenance_cost',\n",
    "                                           'total_maintenance_cost']\n",
    "                                 )\n",
    "        \n",
    "    return df_metrics"
   ]
  },
  {
   "cell_type": "code",
   "execution_count": 25,
   "metadata": {},
   "outputs": [],
   "source": [
    "def plot_metrics(dataframe_proba):\n",
    "    min_total_cost = dataframe_proba['total_maintenance_cost'].min()\n",
    "    best_cutoff    = dataframe_proba.loc[dataframe_proba['total_maintenance_cost'] \\\n",
    "                                         == min_total_cost]['cutoff'].values[0]\n",
    "    fig = make_subplots(rows=3, cols=1,\n",
    "                        vertical_spacing=0.08,\n",
    "                        horizontal_spacing=0.06,\n",
    "                        shared_xaxes=False,\n",
    "                        subplot_titles=['Rates', 'Metrics', 'Costs']\n",
    "                        )\n",
    "\n",
    "    fig.add_trace(go.Scatter(\n",
    "        x=dataframe_proba['cutoff'],\n",
    "        y=dataframe_proba['false_negative_rate'],\n",
    "        name='FN rate',\n",
    "        mode='lines',\n",
    "        line=dict(color='#eb3040')\n",
    "        ),\n",
    "        row=1, col=1\n",
    "        )\n",
    "\n",
    "    fig.add_trace(go.Scatter(\n",
    "        x=dataframe_proba['cutoff'],\n",
    "        y=dataframe_proba['false_positive_rate'],\n",
    "        name='FP rate',\n",
    "        mode='lines',\n",
    "        line=dict(color='#eb6949')\n",
    "        ),\n",
    "        row=1, col=1\n",
    "        )\n",
    "        \n",
    "\n",
    "    fig.add_trace(go.Scatter(\n",
    "        x=dataframe_proba['cutoff'],\n",
    "        y=dataframe_proba['false_classification_rate'],\n",
    "        name='False classification rate',\n",
    "        mode='lines',\n",
    "        line=dict(color='#eb8d27')\n",
    "        ),\n",
    "        row=1, col=1\n",
    "        )\n",
    "\n",
    "    # ***********************************************\n",
    "    fig.add_trace(go.Scatter(\n",
    "        x=dataframe_proba['cutoff'],\n",
    "        y=dataframe_proba['accuracy'],\n",
    "        name='Accuracy',\n",
    "        mode='lines',\n",
    "        line=dict(color='#85ab71')\n",
    "        ),\n",
    "        row=2, col=1\n",
    "        )\n",
    "\n",
    "    fig.add_trace(go.Scatter(\n",
    "        x=dataframe_proba['cutoff'],\n",
    "        y=dataframe_proba['precision'],\n",
    "        name='Precision',\n",
    "        mode='lines',\n",
    "        line=dict(color='#5e8d6f')\n",
    "        ),\n",
    "        row=2, col=1\n",
    "        )\n",
    "\n",
    "    fig.add_trace(go.Scatter(\n",
    "        x=dataframe_proba['cutoff'],\n",
    "        y=dataframe_proba['recall'],\n",
    "        name='Recall',\n",
    "        mode='lines',\n",
    "        line=dict(color='#58b69e')\n",
    "        ),\n",
    "        row=2, col=1\n",
    "        )\n",
    "\n",
    "    fig.add_trace(go.Scatter(\n",
    "        x=dataframe_proba['cutoff'],\n",
    "        y=dataframe_proba['f1score'],\n",
    "        name='F1-score',\n",
    "        mode='lines',\n",
    "        line=dict(color='#c87499')\n",
    "        ),\n",
    "        row=2, col=1\n",
    "        )\n",
    "\n",
    "    fig.add_trace(go.Scatter(\n",
    "        x=dataframe_proba['cutoff'],\n",
    "        y=dataframe_proba['specificity'],\n",
    "        name='Specificity',\n",
    "        mode='lines',\n",
    "        line=dict(color='#cb4d8e')\n",
    "        ),\n",
    "        row=2, col=1\n",
    "        )\n",
    "\n",
    "    fig.add_trace(go.Scatter(\n",
    "        x=dataframe_proba['cutoff'],\n",
    "        y=dataframe_proba['auc_value'],\n",
    "        name='AUC',\n",
    "        mode='lines',\n",
    "        line=dict(color='#988921')\n",
    "        ),\n",
    "        row=2, col=1\n",
    "        )\n",
    "\n",
    "    # ***********************************************\n",
    "    fig.add_trace(go.Scatter(\n",
    "        x=dataframe_proba['cutoff'],\n",
    "        y=dataframe_proba['no_defect_maintenance_cost'],\n",
    "        name='No defect maintenance cost',\n",
    "        mode='lines',\n",
    "        line=dict(color='green')\n",
    "        ),\n",
    "        row=3, col=1\n",
    "        )\n",
    "    \n",
    "    fig.add_trace(go.Scatter(\n",
    "        x=dataframe_proba['cutoff'],\n",
    "        y=dataframe_proba['preventive_maintenance_cost'],\n",
    "        name='Preventive maintenance cost',\n",
    "        mode='lines',\n",
    "        line=dict(color='purple')\n",
    "        ),\n",
    "        row=3, col=1\n",
    "        )\n",
    "    \n",
    "    fig.add_trace(go.Scatter(\n",
    "        x=dataframe_proba['cutoff'],\n",
    "        y=dataframe_proba['corrective_maintenance_cost'],\n",
    "        name='Corrective maintenance cost',\n",
    "        mode='lines',\n",
    "        line=dict(color='red')\n",
    "        ),\n",
    "        row=3, col=1\n",
    "        )\n",
    "    \n",
    "    fig.add_trace(go.Scatter(\n",
    "        x=dataframe_proba['cutoff'],\n",
    "        y=dataframe_proba['total_maintenance_cost'],\n",
    "        name='Total maintenance cost',\n",
    "        mode='lines',\n",
    "        line=dict(color='blue')\n",
    "        ),\n",
    "        row=3, col=1\n",
    "        )\n",
    "    \n",
    "    fig.add_vline(x=best_cutoff,\n",
    "                  line_dash='dash',\n",
    "                  label=dict(text=f'Best cutoff {best_cutoff:.2f} \\\n",
    "                             <br>Lower total cost',\n",
    "                             xanchor='left',\n",
    "                             yanchor='top')\n",
    "                  )\n",
    "\n",
    "    fig.update_layout(height=1200,\n",
    "                      width=1000,\n",
    "                      showlegend=True,\n",
    "                      margin=dict(l=10, r=10, b=10, t=30, pad=0),\n",
    "                      xaxis1=dict(title='Cutoff', dtick=0.05, range=(0, 1)),\n",
    "                      xaxis2=dict(title='Cutoff', dtick=0.05, range=(0, 1)),\n",
    "                      xaxis3=dict(title='Cutoff', dtick=0.05, range=(0, 1)),\n",
    "                      yaxis1=dict(title='%'),\n",
    "                      # yaxis2=dict(title='%'),\n",
    "                      yaxis3=dict(title='US$'),\n",
    "                      )\n",
    "\n",
    "    fig.show()"
   ]
  },
  {
   "cell_type": "code",
   "execution_count": 26,
   "metadata": {},
   "outputs": [],
   "source": [
    "def plot_cross_validation_score(cv_results, score):\n",
    "    plot_fig, plot_ax = plt.subplots(figsize=(8, 4))\n",
    "    plot_ax.plot(cv_results[f'train_{score}'],\n",
    "                 marker='o',\n",
    "                 linestyle='-',\n",
    "                 color='blue',\n",
    "                 label='Train'\n",
    "                )\n",
    "    plot_ax.plot(cv_results[f'test_{score}'],\n",
    "                 marker='o',\n",
    "                 linestyle='-',\n",
    "                 color='red',\n",
    "                 label='Validation'\n",
    "                )\n",
    "    plot_ax.set_xlabel('Iteration')\n",
    "    plot_ax.set_xticks(range(1, len(cv_results[f'train_{score}'])))\n",
    "    plot_ax.set_ylabel('Score')\n",
    "    plot_ax.set_title(f'Cross-validation {score} score')\n",
    "    plot_ax.legend()\n",
    "    plot_ax.grid(True)"
   ]
  },
  {
   "cell_type": "code",
   "execution_count": 27,
   "metadata": {},
   "outputs": [],
   "source": [
    "def calculate_feature_importance(model):\n",
    "    # Calculate feature importance (Gini)\n",
    "    feat_importance    = model.feature_importances_\n",
    "    df_feat_importance = pd.DataFrame({'feature'   : model.feature_names_in_,\n",
    "                                       'importance': feat_importance}\n",
    "                                      ).sort_values('importance', ascending=True)\n",
    "\n",
    "    plt.figure(figsize=(8, 4))\n",
    "    plt.boxplot(x=df_feat_importance['importance'], vert=False)\n",
    "    plt.xlabel('Importance')\n",
    "    plt.title('Feature importance distribution')\n",
    "\n",
    "    df_feat_importance_no_zero = df_feat_importance[df_feat_importance['importance'] > 0]\n",
    "    plt.figure(figsize=(8, 10))\n",
    "    plt.barh(df_feat_importance_no_zero['feature'], df_feat_importance_no_zero['importance'])\n",
    "    plt.xlabel('Importance')\n",
    "    plt.ylabel('Features')\n",
    "    plt.title(f'{df_feat_importance_no_zero.shape[0]} importance greater than 0')\n",
    "\n",
    "    return df_feat_importance_no_zero"
   ]
  },
  {
   "cell_type": "markdown",
   "metadata": {},
   "source": [
    "# Model"
   ]
  },
  {
   "cell_type": "markdown",
   "metadata": {},
   "source": [
    "## Random forest"
   ]
  },
  {
   "cell_type": "code",
   "execution_count": 28,
   "metadata": {},
   "outputs": [],
   "source": [
    "parameters_rf_clf = {\n",
    "    \"model_parameters\": {\n",
    "        \"n_estimators\": [5, 100],\n",
    "        \"criterion\": [\"gini\"],\n",
    "        \"max_depth\": [2, 13],\n",
    "        \"min_samples_split\": [0.2, 1],\n",
    "        \"min_samples_leaf\": [1, 7]\n",
    "    },\n",
    "    \"cross_validation\": {\n",
    "        \"n_iterations\": 5,\n",
    "        \"folders\": 5,\n",
    "        \"scores\": [\n",
    "            \"recall\",\n",
    "            \"f1_macro\",\n",
    "            \"roc_auc\",\n",
    "            \"precision_macro\"\n",
    "        ]\n",
    "    },\n",
    "    \"maintenance_cost\": {\n",
    "        \"no_defect_cost\": 10,\n",
    "        \"preventive_cost\": 25,\n",
    "        \"corrective_cost\": 500\n",
    "    },\n",
    "    \"target\": \"class\",\n",
    "    \"cutoff\": 0.3,\n",
    "    \"model_name\": \"rand_forest\",\n",
    "    \"predict_method\": \"predict_proba\"\n",
    "}"
   ]
  },
  {
   "cell_type": "code",
   "execution_count": 29,
   "metadata": {},
   "outputs": [],
   "source": [
    "def create_hyper_parameters_rf_clf(parameters: dict):\n",
    "    range_n_estimators = np.arange(start=round(parameters.get('model_parameters')['n_estimators'][0], 2),\n",
    "                                   stop=round(parameters.get('model_parameters')['n_estimators'][-1], 2),\n",
    "                                   step=5\n",
    "                                   )\n",
    "    range_max_depth = np.arange(start=round(parameters.get('model_parameters')['max_depth'][0], 2),\n",
    "                                stop=round(parameters.get('model_parameters')['max_depth'][-1], 2),\n",
    "                                step=2\n",
    "                                )\n",
    "    range_min_samples_split = np.arange(start=round(parameters.get('model_parameters')['min_samples_split'][0], 2),\n",
    "                                        stop=round(parameters.get('model_parameters')['min_samples_split'][-1], 2),\n",
    "                                        step=0.1\n",
    "                                        )\n",
    "    range_min_samples_leaf = np.arange(start=round(parameters.get('model_parameters')['min_samples_leaf'][0], 2),\n",
    "                                       stop=round(parameters.get('model_parameters')['min_samples_leaf'][-1], 2),\n",
    "                                       step=1\n",
    "                                       )\n",
    "    param_distributions = {'n_estimators'     : range_n_estimators,\n",
    "                           'max_depth'        : range_max_depth,\n",
    "                           'min_samples_split': range_min_samples_split,\n",
    "                           'min_samples_leaf' : range_min_samples_leaf\n",
    "                          }\n",
    "    \n",
    "    return param_distributions"
   ]
  },
  {
   "cell_type": "markdown",
   "metadata": {},
   "source": [
    "### Simple model"
   ]
  },
  {
   "cell_type": "code",
   "execution_count": 30,
   "metadata": {},
   "outputs": [
    {
     "data": {
      "text/html": [
       "<style>#sk-container-id-1 {\n",
       "  /* Definition of color scheme common for light and dark mode */\n",
       "  --sklearn-color-text: black;\n",
       "  --sklearn-color-line: gray;\n",
       "  /* Definition of color scheme for unfitted estimators */\n",
       "  --sklearn-color-unfitted-level-0: #fff5e6;\n",
       "  --sklearn-color-unfitted-level-1: #f6e4d2;\n",
       "  --sklearn-color-unfitted-level-2: #ffe0b3;\n",
       "  --sklearn-color-unfitted-level-3: chocolate;\n",
       "  /* Definition of color scheme for fitted estimators */\n",
       "  --sklearn-color-fitted-level-0: #f0f8ff;\n",
       "  --sklearn-color-fitted-level-1: #d4ebff;\n",
       "  --sklearn-color-fitted-level-2: #b3dbfd;\n",
       "  --sklearn-color-fitted-level-3: cornflowerblue;\n",
       "\n",
       "  /* Specific color for light theme */\n",
       "  --sklearn-color-text-on-default-background: var(--sg-text-color, var(--theme-code-foreground, var(--jp-content-font-color1, black)));\n",
       "  --sklearn-color-background: var(--sg-background-color, var(--theme-background, var(--jp-layout-color0, white)));\n",
       "  --sklearn-color-border-box: var(--sg-text-color, var(--theme-code-foreground, var(--jp-content-font-color1, black)));\n",
       "  --sklearn-color-icon: #696969;\n",
       "\n",
       "  @media (prefers-color-scheme: dark) {\n",
       "    /* Redefinition of color scheme for dark theme */\n",
       "    --sklearn-color-text-on-default-background: var(--sg-text-color, var(--theme-code-foreground, var(--jp-content-font-color1, white)));\n",
       "    --sklearn-color-background: var(--sg-background-color, var(--theme-background, var(--jp-layout-color0, #111)));\n",
       "    --sklearn-color-border-box: var(--sg-text-color, var(--theme-code-foreground, var(--jp-content-font-color1, white)));\n",
       "    --sklearn-color-icon: #878787;\n",
       "  }\n",
       "}\n",
       "\n",
       "#sk-container-id-1 {\n",
       "  color: var(--sklearn-color-text);\n",
       "}\n",
       "\n",
       "#sk-container-id-1 pre {\n",
       "  padding: 0;\n",
       "}\n",
       "\n",
       "#sk-container-id-1 input.sk-hidden--visually {\n",
       "  border: 0;\n",
       "  clip: rect(1px 1px 1px 1px);\n",
       "  clip: rect(1px, 1px, 1px, 1px);\n",
       "  height: 1px;\n",
       "  margin: -1px;\n",
       "  overflow: hidden;\n",
       "  padding: 0;\n",
       "  position: absolute;\n",
       "  width: 1px;\n",
       "}\n",
       "\n",
       "#sk-container-id-1 div.sk-dashed-wrapped {\n",
       "  border: 1px dashed var(--sklearn-color-line);\n",
       "  margin: 0 0.4em 0.5em 0.4em;\n",
       "  box-sizing: border-box;\n",
       "  padding-bottom: 0.4em;\n",
       "  background-color: var(--sklearn-color-background);\n",
       "}\n",
       "\n",
       "#sk-container-id-1 div.sk-container {\n",
       "  /* jupyter's `normalize.less` sets `[hidden] { display: none; }`\n",
       "     but bootstrap.min.css set `[hidden] { display: none !important; }`\n",
       "     so we also need the `!important` here to be able to override the\n",
       "     default hidden behavior on the sphinx rendered scikit-learn.org.\n",
       "     See: https://github.com/scikit-learn/scikit-learn/issues/21755 */\n",
       "  display: inline-block !important;\n",
       "  position: relative;\n",
       "}\n",
       "\n",
       "#sk-container-id-1 div.sk-text-repr-fallback {\n",
       "  display: none;\n",
       "}\n",
       "\n",
       "div.sk-parallel-item,\n",
       "div.sk-serial,\n",
       "div.sk-item {\n",
       "  /* draw centered vertical line to link estimators */\n",
       "  background-image: linear-gradient(var(--sklearn-color-text-on-default-background), var(--sklearn-color-text-on-default-background));\n",
       "  background-size: 2px 100%;\n",
       "  background-repeat: no-repeat;\n",
       "  background-position: center center;\n",
       "}\n",
       "\n",
       "/* Parallel-specific style estimator block */\n",
       "\n",
       "#sk-container-id-1 div.sk-parallel-item::after {\n",
       "  content: \"\";\n",
       "  width: 100%;\n",
       "  border-bottom: 2px solid var(--sklearn-color-text-on-default-background);\n",
       "  flex-grow: 1;\n",
       "}\n",
       "\n",
       "#sk-container-id-1 div.sk-parallel {\n",
       "  display: flex;\n",
       "  align-items: stretch;\n",
       "  justify-content: center;\n",
       "  background-color: var(--sklearn-color-background);\n",
       "  position: relative;\n",
       "}\n",
       "\n",
       "#sk-container-id-1 div.sk-parallel-item {\n",
       "  display: flex;\n",
       "  flex-direction: column;\n",
       "}\n",
       "\n",
       "#sk-container-id-1 div.sk-parallel-item:first-child::after {\n",
       "  align-self: flex-end;\n",
       "  width: 50%;\n",
       "}\n",
       "\n",
       "#sk-container-id-1 div.sk-parallel-item:last-child::after {\n",
       "  align-self: flex-start;\n",
       "  width: 50%;\n",
       "}\n",
       "\n",
       "#sk-container-id-1 div.sk-parallel-item:only-child::after {\n",
       "  width: 0;\n",
       "}\n",
       "\n",
       "/* Serial-specific style estimator block */\n",
       "\n",
       "#sk-container-id-1 div.sk-serial {\n",
       "  display: flex;\n",
       "  flex-direction: column;\n",
       "  align-items: center;\n",
       "  background-color: var(--sklearn-color-background);\n",
       "  padding-right: 1em;\n",
       "  padding-left: 1em;\n",
       "}\n",
       "\n",
       "\n",
       "/* Toggleable style: style used for estimator/Pipeline/ColumnTransformer box that is\n",
       "clickable and can be expanded/collapsed.\n",
       "- Pipeline and ColumnTransformer use this feature and define the default style\n",
       "- Estimators will overwrite some part of the style using the `sk-estimator` class\n",
       "*/\n",
       "\n",
       "/* Pipeline and ColumnTransformer style (default) */\n",
       "\n",
       "#sk-container-id-1 div.sk-toggleable {\n",
       "  /* Default theme specific background. It is overwritten whether we have a\n",
       "  specific estimator or a Pipeline/ColumnTransformer */\n",
       "  background-color: var(--sklearn-color-background);\n",
       "}\n",
       "\n",
       "/* Toggleable label */\n",
       "#sk-container-id-1 label.sk-toggleable__label {\n",
       "  cursor: pointer;\n",
       "  display: block;\n",
       "  width: 100%;\n",
       "  margin-bottom: 0;\n",
       "  padding: 0.5em;\n",
       "  box-sizing: border-box;\n",
       "  text-align: center;\n",
       "}\n",
       "\n",
       "#sk-container-id-1 label.sk-toggleable__label-arrow:before {\n",
       "  /* Arrow on the left of the label */\n",
       "  content: \"▸\";\n",
       "  float: left;\n",
       "  margin-right: 0.25em;\n",
       "  color: var(--sklearn-color-icon);\n",
       "}\n",
       "\n",
       "#sk-container-id-1 label.sk-toggleable__label-arrow:hover:before {\n",
       "  color: var(--sklearn-color-text);\n",
       "}\n",
       "\n",
       "/* Toggleable content - dropdown */\n",
       "\n",
       "#sk-container-id-1 div.sk-toggleable__content {\n",
       "  max-height: 0;\n",
       "  max-width: 0;\n",
       "  overflow: hidden;\n",
       "  text-align: left;\n",
       "  /* unfitted */\n",
       "  background-color: var(--sklearn-color-unfitted-level-0);\n",
       "}\n",
       "\n",
       "#sk-container-id-1 div.sk-toggleable__content.fitted {\n",
       "  /* fitted */\n",
       "  background-color: var(--sklearn-color-fitted-level-0);\n",
       "}\n",
       "\n",
       "#sk-container-id-1 div.sk-toggleable__content pre {\n",
       "  margin: 0.2em;\n",
       "  border-radius: 0.25em;\n",
       "  color: var(--sklearn-color-text);\n",
       "  /* unfitted */\n",
       "  background-color: var(--sklearn-color-unfitted-level-0);\n",
       "}\n",
       "\n",
       "#sk-container-id-1 div.sk-toggleable__content.fitted pre {\n",
       "  /* unfitted */\n",
       "  background-color: var(--sklearn-color-fitted-level-0);\n",
       "}\n",
       "\n",
       "#sk-container-id-1 input.sk-toggleable__control:checked~div.sk-toggleable__content {\n",
       "  /* Expand drop-down */\n",
       "  max-height: 200px;\n",
       "  max-width: 100%;\n",
       "  overflow: auto;\n",
       "}\n",
       "\n",
       "#sk-container-id-1 input.sk-toggleable__control:checked~label.sk-toggleable__label-arrow:before {\n",
       "  content: \"▾\";\n",
       "}\n",
       "\n",
       "/* Pipeline/ColumnTransformer-specific style */\n",
       "\n",
       "#sk-container-id-1 div.sk-label input.sk-toggleable__control:checked~label.sk-toggleable__label {\n",
       "  color: var(--sklearn-color-text);\n",
       "  background-color: var(--sklearn-color-unfitted-level-2);\n",
       "}\n",
       "\n",
       "#sk-container-id-1 div.sk-label.fitted input.sk-toggleable__control:checked~label.sk-toggleable__label {\n",
       "  background-color: var(--sklearn-color-fitted-level-2);\n",
       "}\n",
       "\n",
       "/* Estimator-specific style */\n",
       "\n",
       "/* Colorize estimator box */\n",
       "#sk-container-id-1 div.sk-estimator input.sk-toggleable__control:checked~label.sk-toggleable__label {\n",
       "  /* unfitted */\n",
       "  background-color: var(--sklearn-color-unfitted-level-2);\n",
       "}\n",
       "\n",
       "#sk-container-id-1 div.sk-estimator.fitted input.sk-toggleable__control:checked~label.sk-toggleable__label {\n",
       "  /* fitted */\n",
       "  background-color: var(--sklearn-color-fitted-level-2);\n",
       "}\n",
       "\n",
       "#sk-container-id-1 div.sk-label label.sk-toggleable__label,\n",
       "#sk-container-id-1 div.sk-label label {\n",
       "  /* The background is the default theme color */\n",
       "  color: var(--sklearn-color-text-on-default-background);\n",
       "}\n",
       "\n",
       "/* On hover, darken the color of the background */\n",
       "#sk-container-id-1 div.sk-label:hover label.sk-toggleable__label {\n",
       "  color: var(--sklearn-color-text);\n",
       "  background-color: var(--sklearn-color-unfitted-level-2);\n",
       "}\n",
       "\n",
       "/* Label box, darken color on hover, fitted */\n",
       "#sk-container-id-1 div.sk-label.fitted:hover label.sk-toggleable__label.fitted {\n",
       "  color: var(--sklearn-color-text);\n",
       "  background-color: var(--sklearn-color-fitted-level-2);\n",
       "}\n",
       "\n",
       "/* Estimator label */\n",
       "\n",
       "#sk-container-id-1 div.sk-label label {\n",
       "  font-family: monospace;\n",
       "  font-weight: bold;\n",
       "  display: inline-block;\n",
       "  line-height: 1.2em;\n",
       "}\n",
       "\n",
       "#sk-container-id-1 div.sk-label-container {\n",
       "  text-align: center;\n",
       "}\n",
       "\n",
       "/* Estimator-specific */\n",
       "#sk-container-id-1 div.sk-estimator {\n",
       "  font-family: monospace;\n",
       "  border: 1px dotted var(--sklearn-color-border-box);\n",
       "  border-radius: 0.25em;\n",
       "  box-sizing: border-box;\n",
       "  margin-bottom: 0.5em;\n",
       "  /* unfitted */\n",
       "  background-color: var(--sklearn-color-unfitted-level-0);\n",
       "}\n",
       "\n",
       "#sk-container-id-1 div.sk-estimator.fitted {\n",
       "  /* fitted */\n",
       "  background-color: var(--sklearn-color-fitted-level-0);\n",
       "}\n",
       "\n",
       "/* on hover */\n",
       "#sk-container-id-1 div.sk-estimator:hover {\n",
       "  /* unfitted */\n",
       "  background-color: var(--sklearn-color-unfitted-level-2);\n",
       "}\n",
       "\n",
       "#sk-container-id-1 div.sk-estimator.fitted:hover {\n",
       "  /* fitted */\n",
       "  background-color: var(--sklearn-color-fitted-level-2);\n",
       "}\n",
       "\n",
       "/* Specification for estimator info (e.g. \"i\" and \"?\") */\n",
       "\n",
       "/* Common style for \"i\" and \"?\" */\n",
       "\n",
       ".sk-estimator-doc-link,\n",
       "a:link.sk-estimator-doc-link,\n",
       "a:visited.sk-estimator-doc-link {\n",
       "  float: right;\n",
       "  font-size: smaller;\n",
       "  line-height: 1em;\n",
       "  font-family: monospace;\n",
       "  background-color: var(--sklearn-color-background);\n",
       "  border-radius: 1em;\n",
       "  height: 1em;\n",
       "  width: 1em;\n",
       "  text-decoration: none !important;\n",
       "  margin-left: 1ex;\n",
       "  /* unfitted */\n",
       "  border: var(--sklearn-color-unfitted-level-1) 1pt solid;\n",
       "  color: var(--sklearn-color-unfitted-level-1);\n",
       "}\n",
       "\n",
       ".sk-estimator-doc-link.fitted,\n",
       "a:link.sk-estimator-doc-link.fitted,\n",
       "a:visited.sk-estimator-doc-link.fitted {\n",
       "  /* fitted */\n",
       "  border: var(--sklearn-color-fitted-level-1) 1pt solid;\n",
       "  color: var(--sklearn-color-fitted-level-1);\n",
       "}\n",
       "\n",
       "/* On hover */\n",
       "div.sk-estimator:hover .sk-estimator-doc-link:hover,\n",
       ".sk-estimator-doc-link:hover,\n",
       "div.sk-label-container:hover .sk-estimator-doc-link:hover,\n",
       ".sk-estimator-doc-link:hover {\n",
       "  /* unfitted */\n",
       "  background-color: var(--sklearn-color-unfitted-level-3);\n",
       "  color: var(--sklearn-color-background);\n",
       "  text-decoration: none;\n",
       "}\n",
       "\n",
       "div.sk-estimator.fitted:hover .sk-estimator-doc-link.fitted:hover,\n",
       ".sk-estimator-doc-link.fitted:hover,\n",
       "div.sk-label-container:hover .sk-estimator-doc-link.fitted:hover,\n",
       ".sk-estimator-doc-link.fitted:hover {\n",
       "  /* fitted */\n",
       "  background-color: var(--sklearn-color-fitted-level-3);\n",
       "  color: var(--sklearn-color-background);\n",
       "  text-decoration: none;\n",
       "}\n",
       "\n",
       "/* Span, style for the box shown on hovering the info icon */\n",
       ".sk-estimator-doc-link span {\n",
       "  display: none;\n",
       "  z-index: 9999;\n",
       "  position: relative;\n",
       "  font-weight: normal;\n",
       "  right: .2ex;\n",
       "  padding: .5ex;\n",
       "  margin: .5ex;\n",
       "  width: min-content;\n",
       "  min-width: 20ex;\n",
       "  max-width: 50ex;\n",
       "  color: var(--sklearn-color-text);\n",
       "  box-shadow: 2pt 2pt 4pt #999;\n",
       "  /* unfitted */\n",
       "  background: var(--sklearn-color-unfitted-level-0);\n",
       "  border: .5pt solid var(--sklearn-color-unfitted-level-3);\n",
       "}\n",
       "\n",
       ".sk-estimator-doc-link.fitted span {\n",
       "  /* fitted */\n",
       "  background: var(--sklearn-color-fitted-level-0);\n",
       "  border: var(--sklearn-color-fitted-level-3);\n",
       "}\n",
       "\n",
       ".sk-estimator-doc-link:hover span {\n",
       "  display: block;\n",
       "}\n",
       "\n",
       "/* \"?\"-specific style due to the `<a>` HTML tag */\n",
       "\n",
       "#sk-container-id-1 a.estimator_doc_link {\n",
       "  float: right;\n",
       "  font-size: 1rem;\n",
       "  line-height: 1em;\n",
       "  font-family: monospace;\n",
       "  background-color: var(--sklearn-color-background);\n",
       "  border-radius: 1rem;\n",
       "  height: 1rem;\n",
       "  width: 1rem;\n",
       "  text-decoration: none;\n",
       "  /* unfitted */\n",
       "  color: var(--sklearn-color-unfitted-level-1);\n",
       "  border: var(--sklearn-color-unfitted-level-1) 1pt solid;\n",
       "}\n",
       "\n",
       "#sk-container-id-1 a.estimator_doc_link.fitted {\n",
       "  /* fitted */\n",
       "  border: var(--sklearn-color-fitted-level-1) 1pt solid;\n",
       "  color: var(--sklearn-color-fitted-level-1);\n",
       "}\n",
       "\n",
       "/* On hover */\n",
       "#sk-container-id-1 a.estimator_doc_link:hover {\n",
       "  /* unfitted */\n",
       "  background-color: var(--sklearn-color-unfitted-level-3);\n",
       "  color: var(--sklearn-color-background);\n",
       "  text-decoration: none;\n",
       "}\n",
       "\n",
       "#sk-container-id-1 a.estimator_doc_link.fitted:hover {\n",
       "  /* fitted */\n",
       "  background-color: var(--sklearn-color-fitted-level-3);\n",
       "}\n",
       "</style><div id=\"sk-container-id-1\" class=\"sk-top-container\"><div class=\"sk-text-repr-fallback\"><pre>RandomForestClassifier()</pre><b>In a Jupyter environment, please rerun this cell to show the HTML representation or trust the notebook. <br />On GitHub, the HTML representation is unable to render, please try loading this page with nbviewer.org.</b></div><div class=\"sk-container\" hidden><div class=\"sk-item\"><div class=\"sk-estimator fitted sk-toggleable\"><input class=\"sk-toggleable__control sk-hidden--visually\" id=\"sk-estimator-id-1\" type=\"checkbox\" checked><label for=\"sk-estimator-id-1\" class=\"sk-toggleable__label fitted sk-toggleable__label-arrow fitted\">&nbsp;&nbsp;RandomForestClassifier<a class=\"sk-estimator-doc-link fitted\" rel=\"noreferrer\" target=\"_blank\" href=\"https://scikit-learn.org/1.5/modules/generated/sklearn.ensemble.RandomForestClassifier.html\">?<span>Documentation for RandomForestClassifier</span></a><span class=\"sk-estimator-doc-link fitted\">i<span>Fitted</span></span></label><div class=\"sk-toggleable__content fitted\"><pre>RandomForestClassifier()</pre></div> </div></div></div></div>"
      ],
      "text/plain": [
       "RandomForestClassifier()"
      ]
     },
     "execution_count": 30,
     "metadata": {},
     "output_type": "execute_result"
    }
   ],
   "source": [
    "rf_clf = RandomForestClassifier(random_state=RANDOM_SEED)\n",
    "rf_clf.fit(X_train_balanced, y_train_balanced)"
   ]
  },
  {
   "cell_type": "markdown",
   "metadata": {},
   "source": [
    "#### Cross-validation scores"
   ]
  },
  {
   "cell_type": "code",
   "execution_count": 31,
   "metadata": {},
   "outputs": [
    {
     "ename": "KeyboardInterrupt",
     "evalue": "",
     "output_type": "error",
     "traceback": [
      "\u001b[1;31m---------------------------------------------------------------------------\u001b[0m",
      "\u001b[1;31mKeyboardInterrupt\u001b[0m                         Traceback (most recent call last)",
      "Cell \u001b[1;32mIn[31], line 1\u001b[0m\n\u001b[1;32m----> 1\u001b[0m cv_results_rf_clf \u001b[38;5;241m=\u001b[39m \u001b[43mcross_validate\u001b[49m\u001b[43m(\u001b[49m\u001b[43mestimator\u001b[49m\u001b[38;5;241;43m=\u001b[39;49m\u001b[43mrf_clf\u001b[49m\u001b[43m,\u001b[49m\n\u001b[0;32m      2\u001b[0m \u001b[43m                                   \u001b[49m\u001b[43mX\u001b[49m\u001b[38;5;241;43m=\u001b[39;49m\u001b[43mX_train_balanced\u001b[49m\u001b[43m,\u001b[49m\n\u001b[0;32m      3\u001b[0m \u001b[43m                                   \u001b[49m\u001b[43my\u001b[49m\u001b[38;5;241;43m=\u001b[39;49m\u001b[43my_train_balanced\u001b[49m\u001b[43m,\u001b[49m\n\u001b[0;32m      4\u001b[0m \u001b[43m                                   \u001b[49m\u001b[43mscoring\u001b[49m\u001b[38;5;241;43m=\u001b[39;49m\u001b[43mparameters_rf_clf\u001b[49m\u001b[38;5;241;43m.\u001b[39;49m\u001b[43mget\u001b[49m\u001b[43m(\u001b[49m\u001b[38;5;124;43m'\u001b[39;49m\u001b[38;5;124;43mcross_validation\u001b[39;49m\u001b[38;5;124;43m'\u001b[39;49m\u001b[43m)\u001b[49m\u001b[43m[\u001b[49m\u001b[38;5;124;43m'\u001b[39;49m\u001b[38;5;124;43mscores\u001b[39;49m\u001b[38;5;124;43m'\u001b[39;49m\u001b[43m]\u001b[49m\u001b[43m,\u001b[49m\n\u001b[0;32m      5\u001b[0m \u001b[43m                                   \u001b[49m\u001b[43mcv\u001b[49m\u001b[38;5;241;43m=\u001b[39;49m\u001b[43mparameters_rf_clf\u001b[49m\u001b[38;5;241;43m.\u001b[39;49m\u001b[43mget\u001b[49m\u001b[43m(\u001b[49m\u001b[38;5;124;43m'\u001b[39;49m\u001b[38;5;124;43mcross_validation\u001b[39;49m\u001b[38;5;124;43m'\u001b[39;49m\u001b[43m)\u001b[49m\u001b[43m[\u001b[49m\u001b[38;5;124;43m'\u001b[39;49m\u001b[38;5;124;43mfolders\u001b[39;49m\u001b[38;5;124;43m'\u001b[39;49m\u001b[43m]\u001b[49m\u001b[43m,\u001b[49m\n\u001b[0;32m      6\u001b[0m \u001b[43m                                   \u001b[49m\u001b[43mverbose\u001b[49m\u001b[38;5;241;43m=\u001b[39;49m\u001b[38;5;241;43m0\u001b[39;49m\u001b[43m,\u001b[49m\n\u001b[0;32m      7\u001b[0m \u001b[43m                                   \u001b[49m\u001b[43mreturn_train_score\u001b[49m\u001b[38;5;241;43m=\u001b[39;49m\u001b[38;5;28;43;01mTrue\u001b[39;49;00m\u001b[43m,\u001b[49m\n\u001b[0;32m      8\u001b[0m \u001b[43m                                   \u001b[49m\u001b[43merror_score\u001b[49m\u001b[38;5;241;43m=\u001b[39;49m\u001b[43mnp\u001b[49m\u001b[38;5;241;43m.\u001b[39;49m\u001b[43mnan\u001b[49m\n\u001b[0;32m      9\u001b[0m \u001b[43m                                   \u001b[49m\u001b[43m)\u001b[49m\n\u001b[0;32m     11\u001b[0m \u001b[38;5;66;03m# Calculate cross-validation scores\u001b[39;00m\n\u001b[0;32m     12\u001b[0m \u001b[38;5;28;01mfor\u001b[39;00m score \u001b[38;5;129;01min\u001b[39;00m parameters_rf_clf\u001b[38;5;241m.\u001b[39mget(\u001b[38;5;124m'\u001b[39m\u001b[38;5;124mcross_validation\u001b[39m\u001b[38;5;124m'\u001b[39m)[\u001b[38;5;124m'\u001b[39m\u001b[38;5;124mscores\u001b[39m\u001b[38;5;124m'\u001b[39m]:\n",
      "File \u001b[1;32mc:\\Users\\victo\\Downloads\\00. Estudo Data Science\\aps_failure_truck_prediction\\venv\\Lib\\site-packages\\sklearn\\utils\\_param_validation.py:213\u001b[0m, in \u001b[0;36mvalidate_params.<locals>.decorator.<locals>.wrapper\u001b[1;34m(*args, **kwargs)\u001b[0m\n\u001b[0;32m    207\u001b[0m \u001b[38;5;28;01mtry\u001b[39;00m:\n\u001b[0;32m    208\u001b[0m     \u001b[38;5;28;01mwith\u001b[39;00m config_context(\n\u001b[0;32m    209\u001b[0m         skip_parameter_validation\u001b[38;5;241m=\u001b[39m(\n\u001b[0;32m    210\u001b[0m             prefer_skip_nested_validation \u001b[38;5;129;01mor\u001b[39;00m global_skip_validation\n\u001b[0;32m    211\u001b[0m         )\n\u001b[0;32m    212\u001b[0m     ):\n\u001b[1;32m--> 213\u001b[0m         \u001b[38;5;28;01mreturn\u001b[39;00m \u001b[43mfunc\u001b[49m\u001b[43m(\u001b[49m\u001b[38;5;241;43m*\u001b[39;49m\u001b[43margs\u001b[49m\u001b[43m,\u001b[49m\u001b[43m \u001b[49m\u001b[38;5;241;43m*\u001b[39;49m\u001b[38;5;241;43m*\u001b[39;49m\u001b[43mkwargs\u001b[49m\u001b[43m)\u001b[49m\n\u001b[0;32m    214\u001b[0m \u001b[38;5;28;01mexcept\u001b[39;00m InvalidParameterError \u001b[38;5;28;01mas\u001b[39;00m e:\n\u001b[0;32m    215\u001b[0m     \u001b[38;5;66;03m# When the function is just a wrapper around an estimator, we allow\u001b[39;00m\n\u001b[0;32m    216\u001b[0m     \u001b[38;5;66;03m# the function to delegate validation to the estimator, but we replace\u001b[39;00m\n\u001b[0;32m    217\u001b[0m     \u001b[38;5;66;03m# the name of the estimator by the name of the function in the error\u001b[39;00m\n\u001b[0;32m    218\u001b[0m     \u001b[38;5;66;03m# message to avoid confusion.\u001b[39;00m\n\u001b[0;32m    219\u001b[0m     msg \u001b[38;5;241m=\u001b[39m re\u001b[38;5;241m.\u001b[39msub(\n\u001b[0;32m    220\u001b[0m         \u001b[38;5;124mr\u001b[39m\u001b[38;5;124m\"\u001b[39m\u001b[38;5;124mparameter of \u001b[39m\u001b[38;5;124m\\\u001b[39m\u001b[38;5;124mw+ must be\u001b[39m\u001b[38;5;124m\"\u001b[39m,\n\u001b[0;32m    221\u001b[0m         \u001b[38;5;124mf\u001b[39m\u001b[38;5;124m\"\u001b[39m\u001b[38;5;124mparameter of \u001b[39m\u001b[38;5;132;01m{\u001b[39;00mfunc\u001b[38;5;241m.\u001b[39m\u001b[38;5;18m__qualname__\u001b[39m\u001b[38;5;132;01m}\u001b[39;00m\u001b[38;5;124m must be\u001b[39m\u001b[38;5;124m\"\u001b[39m,\n\u001b[0;32m    222\u001b[0m         \u001b[38;5;28mstr\u001b[39m(e),\n\u001b[0;32m    223\u001b[0m     )\n",
      "File \u001b[1;32mc:\\Users\\victo\\Downloads\\00. Estudo Data Science\\aps_failure_truck_prediction\\venv\\Lib\\site-packages\\sklearn\\model_selection\\_validation.py:423\u001b[0m, in \u001b[0;36mcross_validate\u001b[1;34m(estimator, X, y, groups, scoring, cv, n_jobs, verbose, fit_params, params, pre_dispatch, return_train_score, return_estimator, return_indices, error_score)\u001b[0m\n\u001b[0;32m    420\u001b[0m \u001b[38;5;66;03m# We clone the estimator to make sure that all the folds are\u001b[39;00m\n\u001b[0;32m    421\u001b[0m \u001b[38;5;66;03m# independent, and that it is pickle-able.\u001b[39;00m\n\u001b[0;32m    422\u001b[0m parallel \u001b[38;5;241m=\u001b[39m Parallel(n_jobs\u001b[38;5;241m=\u001b[39mn_jobs, verbose\u001b[38;5;241m=\u001b[39mverbose, pre_dispatch\u001b[38;5;241m=\u001b[39mpre_dispatch)\n\u001b[1;32m--> 423\u001b[0m results \u001b[38;5;241m=\u001b[39m \u001b[43mparallel\u001b[49m\u001b[43m(\u001b[49m\n\u001b[0;32m    424\u001b[0m \u001b[43m    \u001b[49m\u001b[43mdelayed\u001b[49m\u001b[43m(\u001b[49m\u001b[43m_fit_and_score\u001b[49m\u001b[43m)\u001b[49m\u001b[43m(\u001b[49m\n\u001b[0;32m    425\u001b[0m \u001b[43m        \u001b[49m\u001b[43mclone\u001b[49m\u001b[43m(\u001b[49m\u001b[43mestimator\u001b[49m\u001b[43m)\u001b[49m\u001b[43m,\u001b[49m\n\u001b[0;32m    426\u001b[0m \u001b[43m        \u001b[49m\u001b[43mX\u001b[49m\u001b[43m,\u001b[49m\n\u001b[0;32m    427\u001b[0m \u001b[43m        \u001b[49m\u001b[43my\u001b[49m\u001b[43m,\u001b[49m\n\u001b[0;32m    428\u001b[0m \u001b[43m        \u001b[49m\u001b[43mscorer\u001b[49m\u001b[38;5;241;43m=\u001b[39;49m\u001b[43mscorers\u001b[49m\u001b[43m,\u001b[49m\n\u001b[0;32m    429\u001b[0m \u001b[43m        \u001b[49m\u001b[43mtrain\u001b[49m\u001b[38;5;241;43m=\u001b[39;49m\u001b[43mtrain\u001b[49m\u001b[43m,\u001b[49m\n\u001b[0;32m    430\u001b[0m \u001b[43m        \u001b[49m\u001b[43mtest\u001b[49m\u001b[38;5;241;43m=\u001b[39;49m\u001b[43mtest\u001b[49m\u001b[43m,\u001b[49m\n\u001b[0;32m    431\u001b[0m \u001b[43m        \u001b[49m\u001b[43mverbose\u001b[49m\u001b[38;5;241;43m=\u001b[39;49m\u001b[43mverbose\u001b[49m\u001b[43m,\u001b[49m\n\u001b[0;32m    432\u001b[0m \u001b[43m        \u001b[49m\u001b[43mparameters\u001b[49m\u001b[38;5;241;43m=\u001b[39;49m\u001b[38;5;28;43;01mNone\u001b[39;49;00m\u001b[43m,\u001b[49m\n\u001b[0;32m    433\u001b[0m \u001b[43m        \u001b[49m\u001b[43mfit_params\u001b[49m\u001b[38;5;241;43m=\u001b[39;49m\u001b[43mrouted_params\u001b[49m\u001b[38;5;241;43m.\u001b[39;49m\u001b[43mestimator\u001b[49m\u001b[38;5;241;43m.\u001b[39;49m\u001b[43mfit\u001b[49m\u001b[43m,\u001b[49m\n\u001b[0;32m    434\u001b[0m \u001b[43m        \u001b[49m\u001b[43mscore_params\u001b[49m\u001b[38;5;241;43m=\u001b[39;49m\u001b[43mrouted_params\u001b[49m\u001b[38;5;241;43m.\u001b[39;49m\u001b[43mscorer\u001b[49m\u001b[38;5;241;43m.\u001b[39;49m\u001b[43mscore\u001b[49m\u001b[43m,\u001b[49m\n\u001b[0;32m    435\u001b[0m \u001b[43m        \u001b[49m\u001b[43mreturn_train_score\u001b[49m\u001b[38;5;241;43m=\u001b[39;49m\u001b[43mreturn_train_score\u001b[49m\u001b[43m,\u001b[49m\n\u001b[0;32m    436\u001b[0m \u001b[43m        \u001b[49m\u001b[43mreturn_times\u001b[49m\u001b[38;5;241;43m=\u001b[39;49m\u001b[38;5;28;43;01mTrue\u001b[39;49;00m\u001b[43m,\u001b[49m\n\u001b[0;32m    437\u001b[0m \u001b[43m        \u001b[49m\u001b[43mreturn_estimator\u001b[49m\u001b[38;5;241;43m=\u001b[39;49m\u001b[43mreturn_estimator\u001b[49m\u001b[43m,\u001b[49m\n\u001b[0;32m    438\u001b[0m \u001b[43m        \u001b[49m\u001b[43merror_score\u001b[49m\u001b[38;5;241;43m=\u001b[39;49m\u001b[43merror_score\u001b[49m\u001b[43m,\u001b[49m\n\u001b[0;32m    439\u001b[0m \u001b[43m    \u001b[49m\u001b[43m)\u001b[49m\n\u001b[0;32m    440\u001b[0m \u001b[43m    \u001b[49m\u001b[38;5;28;43;01mfor\u001b[39;49;00m\u001b[43m \u001b[49m\u001b[43mtrain\u001b[49m\u001b[43m,\u001b[49m\u001b[43m \u001b[49m\u001b[43mtest\u001b[49m\u001b[43m \u001b[49m\u001b[38;5;129;43;01min\u001b[39;49;00m\u001b[43m \u001b[49m\u001b[43mindices\u001b[49m\n\u001b[0;32m    441\u001b[0m \u001b[43m\u001b[49m\u001b[43m)\u001b[49m\n\u001b[0;32m    443\u001b[0m _warn_or_raise_about_fit_failures(results, error_score)\n\u001b[0;32m    445\u001b[0m \u001b[38;5;66;03m# For callable scoring, the return type is only know after calling. If the\u001b[39;00m\n\u001b[0;32m    446\u001b[0m \u001b[38;5;66;03m# return type is a dictionary, the error scores can now be inserted with\u001b[39;00m\n\u001b[0;32m    447\u001b[0m \u001b[38;5;66;03m# the correct key.\u001b[39;00m\n",
      "File \u001b[1;32mc:\\Users\\victo\\Downloads\\00. Estudo Data Science\\aps_failure_truck_prediction\\venv\\Lib\\site-packages\\sklearn\\utils\\parallel.py:74\u001b[0m, in \u001b[0;36mParallel.__call__\u001b[1;34m(self, iterable)\u001b[0m\n\u001b[0;32m     69\u001b[0m config \u001b[38;5;241m=\u001b[39m get_config()\n\u001b[0;32m     70\u001b[0m iterable_with_config \u001b[38;5;241m=\u001b[39m (\n\u001b[0;32m     71\u001b[0m     (_with_config(delayed_func, config), args, kwargs)\n\u001b[0;32m     72\u001b[0m     \u001b[38;5;28;01mfor\u001b[39;00m delayed_func, args, kwargs \u001b[38;5;129;01min\u001b[39;00m iterable\n\u001b[0;32m     73\u001b[0m )\n\u001b[1;32m---> 74\u001b[0m \u001b[38;5;28;01mreturn\u001b[39;00m \u001b[38;5;28;43msuper\u001b[39;49m\u001b[43m(\u001b[49m\u001b[43m)\u001b[49m\u001b[38;5;241;43m.\u001b[39;49m\u001b[38;5;21;43m__call__\u001b[39;49m\u001b[43m(\u001b[49m\u001b[43miterable_with_config\u001b[49m\u001b[43m)\u001b[49m\n",
      "File \u001b[1;32mc:\\Users\\victo\\Downloads\\00. Estudo Data Science\\aps_failure_truck_prediction\\venv\\Lib\\site-packages\\joblib\\parallel.py:1918\u001b[0m, in \u001b[0;36mParallel.__call__\u001b[1;34m(self, iterable)\u001b[0m\n\u001b[0;32m   1916\u001b[0m     output \u001b[38;5;241m=\u001b[39m \u001b[38;5;28mself\u001b[39m\u001b[38;5;241m.\u001b[39m_get_sequential_output(iterable)\n\u001b[0;32m   1917\u001b[0m     \u001b[38;5;28mnext\u001b[39m(output)\n\u001b[1;32m-> 1918\u001b[0m     \u001b[38;5;28;01mreturn\u001b[39;00m output \u001b[38;5;28;01mif\u001b[39;00m \u001b[38;5;28mself\u001b[39m\u001b[38;5;241m.\u001b[39mreturn_generator \u001b[38;5;28;01melse\u001b[39;00m \u001b[38;5;28;43mlist\u001b[39;49m\u001b[43m(\u001b[49m\u001b[43moutput\u001b[49m\u001b[43m)\u001b[49m\n\u001b[0;32m   1920\u001b[0m \u001b[38;5;66;03m# Let's create an ID that uniquely identifies the current call. If the\u001b[39;00m\n\u001b[0;32m   1921\u001b[0m \u001b[38;5;66;03m# call is interrupted early and that the same instance is immediately\u001b[39;00m\n\u001b[0;32m   1922\u001b[0m \u001b[38;5;66;03m# re-used, this id will be used to prevent workers that were\u001b[39;00m\n\u001b[0;32m   1923\u001b[0m \u001b[38;5;66;03m# concurrently finalizing a task from the previous call to run the\u001b[39;00m\n\u001b[0;32m   1924\u001b[0m \u001b[38;5;66;03m# callback.\u001b[39;00m\n\u001b[0;32m   1925\u001b[0m \u001b[38;5;28;01mwith\u001b[39;00m \u001b[38;5;28mself\u001b[39m\u001b[38;5;241m.\u001b[39m_lock:\n",
      "File \u001b[1;32mc:\\Users\\victo\\Downloads\\00. Estudo Data Science\\aps_failure_truck_prediction\\venv\\Lib\\site-packages\\joblib\\parallel.py:1847\u001b[0m, in \u001b[0;36mParallel._get_sequential_output\u001b[1;34m(self, iterable)\u001b[0m\n\u001b[0;32m   1845\u001b[0m \u001b[38;5;28mself\u001b[39m\u001b[38;5;241m.\u001b[39mn_dispatched_batches \u001b[38;5;241m+\u001b[39m\u001b[38;5;241m=\u001b[39m \u001b[38;5;241m1\u001b[39m\n\u001b[0;32m   1846\u001b[0m \u001b[38;5;28mself\u001b[39m\u001b[38;5;241m.\u001b[39mn_dispatched_tasks \u001b[38;5;241m+\u001b[39m\u001b[38;5;241m=\u001b[39m \u001b[38;5;241m1\u001b[39m\n\u001b[1;32m-> 1847\u001b[0m res \u001b[38;5;241m=\u001b[39m \u001b[43mfunc\u001b[49m\u001b[43m(\u001b[49m\u001b[38;5;241;43m*\u001b[39;49m\u001b[43margs\u001b[49m\u001b[43m,\u001b[49m\u001b[43m \u001b[49m\u001b[38;5;241;43m*\u001b[39;49m\u001b[38;5;241;43m*\u001b[39;49m\u001b[43mkwargs\u001b[49m\u001b[43m)\u001b[49m\n\u001b[0;32m   1848\u001b[0m \u001b[38;5;28mself\u001b[39m\u001b[38;5;241m.\u001b[39mn_completed_tasks \u001b[38;5;241m+\u001b[39m\u001b[38;5;241m=\u001b[39m \u001b[38;5;241m1\u001b[39m\n\u001b[0;32m   1849\u001b[0m \u001b[38;5;28mself\u001b[39m\u001b[38;5;241m.\u001b[39mprint_progress()\n",
      "File \u001b[1;32mc:\\Users\\victo\\Downloads\\00. Estudo Data Science\\aps_failure_truck_prediction\\venv\\Lib\\site-packages\\sklearn\\utils\\parallel.py:136\u001b[0m, in \u001b[0;36m_FuncWrapper.__call__\u001b[1;34m(self, *args, **kwargs)\u001b[0m\n\u001b[0;32m    134\u001b[0m     config \u001b[38;5;241m=\u001b[39m {}\n\u001b[0;32m    135\u001b[0m \u001b[38;5;28;01mwith\u001b[39;00m config_context(\u001b[38;5;241m*\u001b[39m\u001b[38;5;241m*\u001b[39mconfig):\n\u001b[1;32m--> 136\u001b[0m     \u001b[38;5;28;01mreturn\u001b[39;00m \u001b[38;5;28;43mself\u001b[39;49m\u001b[38;5;241;43m.\u001b[39;49m\u001b[43mfunction\u001b[49m\u001b[43m(\u001b[49m\u001b[38;5;241;43m*\u001b[39;49m\u001b[43margs\u001b[49m\u001b[43m,\u001b[49m\u001b[43m \u001b[49m\u001b[38;5;241;43m*\u001b[39;49m\u001b[38;5;241;43m*\u001b[39;49m\u001b[43mkwargs\u001b[49m\u001b[43m)\u001b[49m\n",
      "File \u001b[1;32mc:\\Users\\victo\\Downloads\\00. Estudo Data Science\\aps_failure_truck_prediction\\venv\\Lib\\site-packages\\sklearn\\model_selection\\_validation.py:888\u001b[0m, in \u001b[0;36m_fit_and_score\u001b[1;34m(estimator, X, y, scorer, train, test, verbose, parameters, fit_params, score_params, return_train_score, return_parameters, return_n_test_samples, return_times, return_estimator, split_progress, candidate_progress, error_score)\u001b[0m\n\u001b[0;32m    886\u001b[0m         estimator\u001b[38;5;241m.\u001b[39mfit(X_train, \u001b[38;5;241m*\u001b[39m\u001b[38;5;241m*\u001b[39mfit_params)\n\u001b[0;32m    887\u001b[0m     \u001b[38;5;28;01melse\u001b[39;00m:\n\u001b[1;32m--> 888\u001b[0m         \u001b[43mestimator\u001b[49m\u001b[38;5;241;43m.\u001b[39;49m\u001b[43mfit\u001b[49m\u001b[43m(\u001b[49m\u001b[43mX_train\u001b[49m\u001b[43m,\u001b[49m\u001b[43m \u001b[49m\u001b[43my_train\u001b[49m\u001b[43m,\u001b[49m\u001b[43m \u001b[49m\u001b[38;5;241;43m*\u001b[39;49m\u001b[38;5;241;43m*\u001b[39;49m\u001b[43mfit_params\u001b[49m\u001b[43m)\u001b[49m\n\u001b[0;32m    890\u001b[0m \u001b[38;5;28;01mexcept\u001b[39;00m \u001b[38;5;167;01mException\u001b[39;00m:\n\u001b[0;32m    891\u001b[0m     \u001b[38;5;66;03m# Note fit time as time until error\u001b[39;00m\n\u001b[0;32m    892\u001b[0m     fit_time \u001b[38;5;241m=\u001b[39m time\u001b[38;5;241m.\u001b[39mtime() \u001b[38;5;241m-\u001b[39m start_time\n",
      "File \u001b[1;32mc:\\Users\\victo\\Downloads\\00. Estudo Data Science\\aps_failure_truck_prediction\\venv\\Lib\\site-packages\\sklearn\\base.py:1473\u001b[0m, in \u001b[0;36m_fit_context.<locals>.decorator.<locals>.wrapper\u001b[1;34m(estimator, *args, **kwargs)\u001b[0m\n\u001b[0;32m   1466\u001b[0m     estimator\u001b[38;5;241m.\u001b[39m_validate_params()\n\u001b[0;32m   1468\u001b[0m \u001b[38;5;28;01mwith\u001b[39;00m config_context(\n\u001b[0;32m   1469\u001b[0m     skip_parameter_validation\u001b[38;5;241m=\u001b[39m(\n\u001b[0;32m   1470\u001b[0m         prefer_skip_nested_validation \u001b[38;5;129;01mor\u001b[39;00m global_skip_validation\n\u001b[0;32m   1471\u001b[0m     )\n\u001b[0;32m   1472\u001b[0m ):\n\u001b[1;32m-> 1473\u001b[0m     \u001b[38;5;28;01mreturn\u001b[39;00m \u001b[43mfit_method\u001b[49m\u001b[43m(\u001b[49m\u001b[43mestimator\u001b[49m\u001b[43m,\u001b[49m\u001b[43m \u001b[49m\u001b[38;5;241;43m*\u001b[39;49m\u001b[43margs\u001b[49m\u001b[43m,\u001b[49m\u001b[43m \u001b[49m\u001b[38;5;241;43m*\u001b[39;49m\u001b[38;5;241;43m*\u001b[39;49m\u001b[43mkwargs\u001b[49m\u001b[43m)\u001b[49m\n",
      "File \u001b[1;32mc:\\Users\\victo\\Downloads\\00. Estudo Data Science\\aps_failure_truck_prediction\\venv\\Lib\\site-packages\\sklearn\\ensemble\\_forest.py:489\u001b[0m, in \u001b[0;36mBaseForest.fit\u001b[1;34m(self, X, y, sample_weight)\u001b[0m\n\u001b[0;32m    478\u001b[0m trees \u001b[38;5;241m=\u001b[39m [\n\u001b[0;32m    479\u001b[0m     \u001b[38;5;28mself\u001b[39m\u001b[38;5;241m.\u001b[39m_make_estimator(append\u001b[38;5;241m=\u001b[39m\u001b[38;5;28;01mFalse\u001b[39;00m, random_state\u001b[38;5;241m=\u001b[39mrandom_state)\n\u001b[0;32m    480\u001b[0m     \u001b[38;5;28;01mfor\u001b[39;00m i \u001b[38;5;129;01min\u001b[39;00m \u001b[38;5;28mrange\u001b[39m(n_more_estimators)\n\u001b[0;32m    481\u001b[0m ]\n\u001b[0;32m    483\u001b[0m \u001b[38;5;66;03m# Parallel loop: we prefer the threading backend as the Cython code\u001b[39;00m\n\u001b[0;32m    484\u001b[0m \u001b[38;5;66;03m# for fitting the trees is internally releasing the Python GIL\u001b[39;00m\n\u001b[0;32m    485\u001b[0m \u001b[38;5;66;03m# making threading more efficient than multiprocessing in\u001b[39;00m\n\u001b[0;32m    486\u001b[0m \u001b[38;5;66;03m# that case. However, for joblib 0.12+ we respect any\u001b[39;00m\n\u001b[0;32m    487\u001b[0m \u001b[38;5;66;03m# parallel_backend contexts set at a higher level,\u001b[39;00m\n\u001b[0;32m    488\u001b[0m \u001b[38;5;66;03m# since correctness does not rely on using threads.\u001b[39;00m\n\u001b[1;32m--> 489\u001b[0m trees \u001b[38;5;241m=\u001b[39m \u001b[43mParallel\u001b[49m\u001b[43m(\u001b[49m\n\u001b[0;32m    490\u001b[0m \u001b[43m    \u001b[49m\u001b[43mn_jobs\u001b[49m\u001b[38;5;241;43m=\u001b[39;49m\u001b[38;5;28;43mself\u001b[39;49m\u001b[38;5;241;43m.\u001b[39;49m\u001b[43mn_jobs\u001b[49m\u001b[43m,\u001b[49m\n\u001b[0;32m    491\u001b[0m \u001b[43m    \u001b[49m\u001b[43mverbose\u001b[49m\u001b[38;5;241;43m=\u001b[39;49m\u001b[38;5;28;43mself\u001b[39;49m\u001b[38;5;241;43m.\u001b[39;49m\u001b[43mverbose\u001b[49m\u001b[43m,\u001b[49m\n\u001b[0;32m    492\u001b[0m \u001b[43m    \u001b[49m\u001b[43mprefer\u001b[49m\u001b[38;5;241;43m=\u001b[39;49m\u001b[38;5;124;43m\"\u001b[39;49m\u001b[38;5;124;43mthreads\u001b[39;49m\u001b[38;5;124;43m\"\u001b[39;49m\u001b[43m,\u001b[49m\n\u001b[0;32m    493\u001b[0m \u001b[43m\u001b[49m\u001b[43m)\u001b[49m\u001b[43m(\u001b[49m\n\u001b[0;32m    494\u001b[0m \u001b[43m    \u001b[49m\u001b[43mdelayed\u001b[49m\u001b[43m(\u001b[49m\u001b[43m_parallel_build_trees\u001b[49m\u001b[43m)\u001b[49m\u001b[43m(\u001b[49m\n\u001b[0;32m    495\u001b[0m \u001b[43m        \u001b[49m\u001b[43mt\u001b[49m\u001b[43m,\u001b[49m\n\u001b[0;32m    496\u001b[0m \u001b[43m        \u001b[49m\u001b[38;5;28;43mself\u001b[39;49m\u001b[38;5;241;43m.\u001b[39;49m\u001b[43mbootstrap\u001b[49m\u001b[43m,\u001b[49m\n\u001b[0;32m    497\u001b[0m \u001b[43m        \u001b[49m\u001b[43mX\u001b[49m\u001b[43m,\u001b[49m\n\u001b[0;32m    498\u001b[0m \u001b[43m        \u001b[49m\u001b[43my\u001b[49m\u001b[43m,\u001b[49m\n\u001b[0;32m    499\u001b[0m \u001b[43m        \u001b[49m\u001b[43msample_weight\u001b[49m\u001b[43m,\u001b[49m\n\u001b[0;32m    500\u001b[0m \u001b[43m        \u001b[49m\u001b[43mi\u001b[49m\u001b[43m,\u001b[49m\n\u001b[0;32m    501\u001b[0m \u001b[43m        \u001b[49m\u001b[38;5;28;43mlen\u001b[39;49m\u001b[43m(\u001b[49m\u001b[43mtrees\u001b[49m\u001b[43m)\u001b[49m\u001b[43m,\u001b[49m\n\u001b[0;32m    502\u001b[0m \u001b[43m        \u001b[49m\u001b[43mverbose\u001b[49m\u001b[38;5;241;43m=\u001b[39;49m\u001b[38;5;28;43mself\u001b[39;49m\u001b[38;5;241;43m.\u001b[39;49m\u001b[43mverbose\u001b[49m\u001b[43m,\u001b[49m\n\u001b[0;32m    503\u001b[0m \u001b[43m        \u001b[49m\u001b[43mclass_weight\u001b[49m\u001b[38;5;241;43m=\u001b[39;49m\u001b[38;5;28;43mself\u001b[39;49m\u001b[38;5;241;43m.\u001b[39;49m\u001b[43mclass_weight\u001b[49m\u001b[43m,\u001b[49m\n\u001b[0;32m    504\u001b[0m \u001b[43m        \u001b[49m\u001b[43mn_samples_bootstrap\u001b[49m\u001b[38;5;241;43m=\u001b[39;49m\u001b[43mn_samples_bootstrap\u001b[49m\u001b[43m,\u001b[49m\n\u001b[0;32m    505\u001b[0m \u001b[43m        \u001b[49m\u001b[43mmissing_values_in_feature_mask\u001b[49m\u001b[38;5;241;43m=\u001b[39;49m\u001b[43mmissing_values_in_feature_mask\u001b[49m\u001b[43m,\u001b[49m\n\u001b[0;32m    506\u001b[0m \u001b[43m    \u001b[49m\u001b[43m)\u001b[49m\n\u001b[0;32m    507\u001b[0m \u001b[43m    \u001b[49m\u001b[38;5;28;43;01mfor\u001b[39;49;00m\u001b[43m \u001b[49m\u001b[43mi\u001b[49m\u001b[43m,\u001b[49m\u001b[43m \u001b[49m\u001b[43mt\u001b[49m\u001b[43m \u001b[49m\u001b[38;5;129;43;01min\u001b[39;49;00m\u001b[43m \u001b[49m\u001b[38;5;28;43menumerate\u001b[39;49m\u001b[43m(\u001b[49m\u001b[43mtrees\u001b[49m\u001b[43m)\u001b[49m\n\u001b[0;32m    508\u001b[0m \u001b[43m\u001b[49m\u001b[43m)\u001b[49m\n\u001b[0;32m    510\u001b[0m \u001b[38;5;66;03m# Collect newly grown trees\u001b[39;00m\n\u001b[0;32m    511\u001b[0m \u001b[38;5;28mself\u001b[39m\u001b[38;5;241m.\u001b[39mestimators_\u001b[38;5;241m.\u001b[39mextend(trees)\n",
      "File \u001b[1;32mc:\\Users\\victo\\Downloads\\00. Estudo Data Science\\aps_failure_truck_prediction\\venv\\Lib\\site-packages\\sklearn\\utils\\parallel.py:74\u001b[0m, in \u001b[0;36mParallel.__call__\u001b[1;34m(self, iterable)\u001b[0m\n\u001b[0;32m     69\u001b[0m config \u001b[38;5;241m=\u001b[39m get_config()\n\u001b[0;32m     70\u001b[0m iterable_with_config \u001b[38;5;241m=\u001b[39m (\n\u001b[0;32m     71\u001b[0m     (_with_config(delayed_func, config), args, kwargs)\n\u001b[0;32m     72\u001b[0m     \u001b[38;5;28;01mfor\u001b[39;00m delayed_func, args, kwargs \u001b[38;5;129;01min\u001b[39;00m iterable\n\u001b[0;32m     73\u001b[0m )\n\u001b[1;32m---> 74\u001b[0m \u001b[38;5;28;01mreturn\u001b[39;00m \u001b[38;5;28;43msuper\u001b[39;49m\u001b[43m(\u001b[49m\u001b[43m)\u001b[49m\u001b[38;5;241;43m.\u001b[39;49m\u001b[38;5;21;43m__call__\u001b[39;49m\u001b[43m(\u001b[49m\u001b[43miterable_with_config\u001b[49m\u001b[43m)\u001b[49m\n",
      "File \u001b[1;32mc:\\Users\\victo\\Downloads\\00. Estudo Data Science\\aps_failure_truck_prediction\\venv\\Lib\\site-packages\\joblib\\parallel.py:1918\u001b[0m, in \u001b[0;36mParallel.__call__\u001b[1;34m(self, iterable)\u001b[0m\n\u001b[0;32m   1916\u001b[0m     output \u001b[38;5;241m=\u001b[39m \u001b[38;5;28mself\u001b[39m\u001b[38;5;241m.\u001b[39m_get_sequential_output(iterable)\n\u001b[0;32m   1917\u001b[0m     \u001b[38;5;28mnext\u001b[39m(output)\n\u001b[1;32m-> 1918\u001b[0m     \u001b[38;5;28;01mreturn\u001b[39;00m output \u001b[38;5;28;01mif\u001b[39;00m \u001b[38;5;28mself\u001b[39m\u001b[38;5;241m.\u001b[39mreturn_generator \u001b[38;5;28;01melse\u001b[39;00m \u001b[38;5;28mlist\u001b[39m(output)\n\u001b[0;32m   1920\u001b[0m \u001b[38;5;66;03m# Let's create an ID that uniquely identifies the current call. If the\u001b[39;00m\n\u001b[0;32m   1921\u001b[0m \u001b[38;5;66;03m# call is interrupted early and that the same instance is immediately\u001b[39;00m\n\u001b[0;32m   1922\u001b[0m \u001b[38;5;66;03m# re-used, this id will be used to prevent workers that were\u001b[39;00m\n\u001b[0;32m   1923\u001b[0m \u001b[38;5;66;03m# concurrently finalizing a task from the previous call to run the\u001b[39;00m\n\u001b[0;32m   1924\u001b[0m \u001b[38;5;66;03m# callback.\u001b[39;00m\n\u001b[0;32m   1925\u001b[0m \u001b[38;5;28;01mwith\u001b[39;00m \u001b[38;5;28mself\u001b[39m\u001b[38;5;241m.\u001b[39m_lock:\n",
      "File \u001b[1;32mc:\\Users\\victo\\Downloads\\00. Estudo Data Science\\aps_failure_truck_prediction\\venv\\Lib\\site-packages\\joblib\\parallel.py:1847\u001b[0m, in \u001b[0;36mParallel._get_sequential_output\u001b[1;34m(self, iterable)\u001b[0m\n\u001b[0;32m   1845\u001b[0m \u001b[38;5;28mself\u001b[39m\u001b[38;5;241m.\u001b[39mn_dispatched_batches \u001b[38;5;241m+\u001b[39m\u001b[38;5;241m=\u001b[39m \u001b[38;5;241m1\u001b[39m\n\u001b[0;32m   1846\u001b[0m \u001b[38;5;28mself\u001b[39m\u001b[38;5;241m.\u001b[39mn_dispatched_tasks \u001b[38;5;241m+\u001b[39m\u001b[38;5;241m=\u001b[39m \u001b[38;5;241m1\u001b[39m\n\u001b[1;32m-> 1847\u001b[0m res \u001b[38;5;241m=\u001b[39m \u001b[43mfunc\u001b[49m\u001b[43m(\u001b[49m\u001b[38;5;241;43m*\u001b[39;49m\u001b[43margs\u001b[49m\u001b[43m,\u001b[49m\u001b[43m \u001b[49m\u001b[38;5;241;43m*\u001b[39;49m\u001b[38;5;241;43m*\u001b[39;49m\u001b[43mkwargs\u001b[49m\u001b[43m)\u001b[49m\n\u001b[0;32m   1848\u001b[0m \u001b[38;5;28mself\u001b[39m\u001b[38;5;241m.\u001b[39mn_completed_tasks \u001b[38;5;241m+\u001b[39m\u001b[38;5;241m=\u001b[39m \u001b[38;5;241m1\u001b[39m\n\u001b[0;32m   1849\u001b[0m \u001b[38;5;28mself\u001b[39m\u001b[38;5;241m.\u001b[39mprint_progress()\n",
      "File \u001b[1;32mc:\\Users\\victo\\Downloads\\00. Estudo Data Science\\aps_failure_truck_prediction\\venv\\Lib\\site-packages\\sklearn\\utils\\parallel.py:136\u001b[0m, in \u001b[0;36m_FuncWrapper.__call__\u001b[1;34m(self, *args, **kwargs)\u001b[0m\n\u001b[0;32m    134\u001b[0m     config \u001b[38;5;241m=\u001b[39m {}\n\u001b[0;32m    135\u001b[0m \u001b[38;5;28;01mwith\u001b[39;00m config_context(\u001b[38;5;241m*\u001b[39m\u001b[38;5;241m*\u001b[39mconfig):\n\u001b[1;32m--> 136\u001b[0m     \u001b[38;5;28;01mreturn\u001b[39;00m \u001b[38;5;28;43mself\u001b[39;49m\u001b[38;5;241;43m.\u001b[39;49m\u001b[43mfunction\u001b[49m\u001b[43m(\u001b[49m\u001b[38;5;241;43m*\u001b[39;49m\u001b[43margs\u001b[49m\u001b[43m,\u001b[49m\u001b[43m \u001b[49m\u001b[38;5;241;43m*\u001b[39;49m\u001b[38;5;241;43m*\u001b[39;49m\u001b[43mkwargs\u001b[49m\u001b[43m)\u001b[49m\n",
      "File \u001b[1;32mc:\\Users\\victo\\Downloads\\00. Estudo Data Science\\aps_failure_truck_prediction\\venv\\Lib\\site-packages\\sklearn\\ensemble\\_forest.py:192\u001b[0m, in \u001b[0;36m_parallel_build_trees\u001b[1;34m(tree, bootstrap, X, y, sample_weight, tree_idx, n_trees, verbose, class_weight, n_samples_bootstrap, missing_values_in_feature_mask)\u001b[0m\n\u001b[0;32m    189\u001b[0m     \u001b[38;5;28;01melif\u001b[39;00m class_weight \u001b[38;5;241m==\u001b[39m \u001b[38;5;124m\"\u001b[39m\u001b[38;5;124mbalanced_subsample\u001b[39m\u001b[38;5;124m\"\u001b[39m:\n\u001b[0;32m    190\u001b[0m         curr_sample_weight \u001b[38;5;241m*\u001b[39m\u001b[38;5;241m=\u001b[39m compute_sample_weight(\u001b[38;5;124m\"\u001b[39m\u001b[38;5;124mbalanced\u001b[39m\u001b[38;5;124m\"\u001b[39m, y, indices\u001b[38;5;241m=\u001b[39mindices)\n\u001b[1;32m--> 192\u001b[0m     \u001b[43mtree\u001b[49m\u001b[38;5;241;43m.\u001b[39;49m\u001b[43m_fit\u001b[49m\u001b[43m(\u001b[49m\n\u001b[0;32m    193\u001b[0m \u001b[43m        \u001b[49m\u001b[43mX\u001b[49m\u001b[43m,\u001b[49m\n\u001b[0;32m    194\u001b[0m \u001b[43m        \u001b[49m\u001b[43my\u001b[49m\u001b[43m,\u001b[49m\n\u001b[0;32m    195\u001b[0m \u001b[43m        \u001b[49m\u001b[43msample_weight\u001b[49m\u001b[38;5;241;43m=\u001b[39;49m\u001b[43mcurr_sample_weight\u001b[49m\u001b[43m,\u001b[49m\n\u001b[0;32m    196\u001b[0m \u001b[43m        \u001b[49m\u001b[43mcheck_input\u001b[49m\u001b[38;5;241;43m=\u001b[39;49m\u001b[38;5;28;43;01mFalse\u001b[39;49;00m\u001b[43m,\u001b[49m\n\u001b[0;32m    197\u001b[0m \u001b[43m        \u001b[49m\u001b[43mmissing_values_in_feature_mask\u001b[49m\u001b[38;5;241;43m=\u001b[39;49m\u001b[43mmissing_values_in_feature_mask\u001b[49m\u001b[43m,\u001b[49m\n\u001b[0;32m    198\u001b[0m \u001b[43m    \u001b[49m\u001b[43m)\u001b[49m\n\u001b[0;32m    199\u001b[0m \u001b[38;5;28;01melse\u001b[39;00m:\n\u001b[0;32m    200\u001b[0m     tree\u001b[38;5;241m.\u001b[39m_fit(\n\u001b[0;32m    201\u001b[0m         X,\n\u001b[0;32m    202\u001b[0m         y,\n\u001b[1;32m   (...)\u001b[0m\n\u001b[0;32m    205\u001b[0m         missing_values_in_feature_mask\u001b[38;5;241m=\u001b[39mmissing_values_in_feature_mask,\n\u001b[0;32m    206\u001b[0m     )\n",
      "File \u001b[1;32mc:\\Users\\victo\\Downloads\\00. Estudo Data Science\\aps_failure_truck_prediction\\venv\\Lib\\site-packages\\sklearn\\tree\\_classes.py:472\u001b[0m, in \u001b[0;36mBaseDecisionTree._fit\u001b[1;34m(self, X, y, sample_weight, check_input, missing_values_in_feature_mask)\u001b[0m\n\u001b[0;32m    461\u001b[0m \u001b[38;5;28;01melse\u001b[39;00m:\n\u001b[0;32m    462\u001b[0m     builder \u001b[38;5;241m=\u001b[39m BestFirstTreeBuilder(\n\u001b[0;32m    463\u001b[0m         splitter,\n\u001b[0;32m    464\u001b[0m         min_samples_split,\n\u001b[1;32m   (...)\u001b[0m\n\u001b[0;32m    469\u001b[0m         \u001b[38;5;28mself\u001b[39m\u001b[38;5;241m.\u001b[39mmin_impurity_decrease,\n\u001b[0;32m    470\u001b[0m     )\n\u001b[1;32m--> 472\u001b[0m \u001b[43mbuilder\u001b[49m\u001b[38;5;241;43m.\u001b[39;49m\u001b[43mbuild\u001b[49m\u001b[43m(\u001b[49m\u001b[38;5;28;43mself\u001b[39;49m\u001b[38;5;241;43m.\u001b[39;49m\u001b[43mtree_\u001b[49m\u001b[43m,\u001b[49m\u001b[43m \u001b[49m\u001b[43mX\u001b[49m\u001b[43m,\u001b[49m\u001b[43m \u001b[49m\u001b[43my\u001b[49m\u001b[43m,\u001b[49m\u001b[43m \u001b[49m\u001b[43msample_weight\u001b[49m\u001b[43m,\u001b[49m\u001b[43m \u001b[49m\u001b[43mmissing_values_in_feature_mask\u001b[49m\u001b[43m)\u001b[49m\n\u001b[0;32m    474\u001b[0m \u001b[38;5;28;01mif\u001b[39;00m \u001b[38;5;28mself\u001b[39m\u001b[38;5;241m.\u001b[39mn_outputs_ \u001b[38;5;241m==\u001b[39m \u001b[38;5;241m1\u001b[39m \u001b[38;5;129;01mand\u001b[39;00m is_classifier(\u001b[38;5;28mself\u001b[39m):\n\u001b[0;32m    475\u001b[0m     \u001b[38;5;28mself\u001b[39m\u001b[38;5;241m.\u001b[39mn_classes_ \u001b[38;5;241m=\u001b[39m \u001b[38;5;28mself\u001b[39m\u001b[38;5;241m.\u001b[39mn_classes_[\u001b[38;5;241m0\u001b[39m]\n",
      "\u001b[1;31mKeyboardInterrupt\u001b[0m: "
     ]
    }
   ],
   "source": [
    "cv_results_rf_clf = cross_validate(estimator=rf_clf,\n",
    "                                   X=X_train_balanced,\n",
    "                                   y=y_train_balanced,\n",
    "                                   scoring=parameters_rf_clf.get('cross_validation')['scores'],\n",
    "                                   cv=parameters_rf_clf.get('cross_validation')['folders'],\n",
    "                                   verbose=0,\n",
    "                                   return_train_score=True,\n",
    "                                   error_score=np.nan\n",
    "                                   )\n",
    "\n",
    "# Calculate cross-validation scores\n",
    "for score in parameters_rf_clf.get('cross_validation')['scores']:\n",
    "    cv_train_mean = cv_results_rf_clf[f'train_{score}'].mean().round(4)\n",
    "    cv_test_mean  = cv_results_rf_clf[f'test_{score}'].mean().round(4)\n",
    "    plot_cross_validation_score(cv_results_rf_clf, score)\n",
    "    print(f'>>>>>>>>> CV {score} train mean: {cv_train_mean}')\n",
    "    print(f'>>>>>>>>> CV {score} test mean:  {cv_test_mean}')"
   ]
  },
  {
   "cell_type": "code",
   "execution_count": null,
   "metadata": {},
   "outputs": [],
   "source": [
    "y_pred_rf_clf       = rf_clf.predict(X_val_filled_nan)\n",
    "y_pred_proba_rf_clf = rf_clf.predict_proba(X_val_filled_nan)"
   ]
  },
  {
   "cell_type": "code",
   "execution_count": null,
   "metadata": {},
   "outputs": [],
   "source": [
    "metrics_rf_clf = calculate_metrics_standard_cutoff(y_val, y_pred_rf_clf)"
   ]
  },
  {
   "cell_type": "code",
   "execution_count": null,
   "metadata": {},
   "outputs": [],
   "source": [
    "df_pred_proba_rf_clf = pd.DataFrame(y_pred_proba_rf_clf,\n",
    "                                    columns=['proba_non_event', 'proba_event']\n",
    "                                    )\n",
    "df_pred_proba_rf_clf"
   ]
  },
  {
   "cell_type": "code",
   "execution_count": null,
   "metadata": {},
   "outputs": [],
   "source": [
    "df_metrics_rf_clf = calculate_metrics_range_cutoff(df_pred_proba_rf_clf, y_val)\n",
    "df_metrics_rf_clf"
   ]
  },
  {
   "cell_type": "code",
   "execution_count": null,
   "metadata": {},
   "outputs": [],
   "source": [
    "plot_metrics(df_metrics_rf_clf)"
   ]
  },
  {
   "cell_type": "markdown",
   "metadata": {},
   "source": [
    "### Tuning"
   ]
  },
  {
   "cell_type": "code",
   "execution_count": 32,
   "metadata": {},
   "outputs": [
    {
     "data": {
      "text/plain": [
       "{'n_estimators': array([ 5, 10, 15, 20, 25, 30, 35, 40, 45, 50, 55, 60, 65, 70, 75, 80, 85,\n",
       "        90, 95]),\n",
       " 'max_depth': array([ 2,  4,  6,  8, 10, 12]),\n",
       " 'min_samples_split': array([0.2, 0.3, 0.4, 0.5, 0.6, 0.7, 0.8, 0.9]),\n",
       " 'min_samples_leaf': array([1, 2, 3, 4, 5, 6])}"
      ]
     },
     "execution_count": 32,
     "metadata": {},
     "output_type": "execute_result"
    }
   ],
   "source": [
    "param_dist_rf_clf = create_hyper_parameters_rf_clf(parameters_rf_clf)\n",
    "param_dist_rf_clf"
   ]
  },
  {
   "cell_type": "code",
   "execution_count": 33,
   "metadata": {},
   "outputs": [
    {
     "name": "stdout",
     "output_type": "stream",
     "text": [
      "Fitting 5 folds for each of 5 candidates, totalling 25 fits\n",
      "[CV 1/5] END max_depth=4, min_samples_leaf=4, min_samples_split=0.30000000000000004, n_estimators=15;, score=0.952 total time=   2.0s\n",
      "[CV 2/5] END max_depth=4, min_samples_leaf=4, min_samples_split=0.30000000000000004, n_estimators=15;, score=0.949 total time=   2.0s\n",
      "[CV 3/5] END max_depth=4, min_samples_leaf=4, min_samples_split=0.30000000000000004, n_estimators=15;, score=0.955 total time=   2.0s\n",
      "[CV 4/5] END max_depth=4, min_samples_leaf=4, min_samples_split=0.30000000000000004, n_estimators=15;, score=0.955 total time=   1.8s\n",
      "[CV 5/5] END max_depth=4, min_samples_leaf=4, min_samples_split=0.30000000000000004, n_estimators=15;, score=0.949 total time=   1.8s\n",
      "[CV 1/5] END max_depth=6, min_samples_leaf=6, min_samples_split=0.7000000000000002, n_estimators=10;, score=0.000 total time=   0.1s\n",
      "[CV 2/5] END max_depth=6, min_samples_leaf=6, min_samples_split=0.7000000000000002, n_estimators=10;, score=0.000 total time=   0.1s\n",
      "[CV 3/5] END max_depth=6, min_samples_leaf=6, min_samples_split=0.7000000000000002, n_estimators=10;, score=0.000 total time=   0.1s\n",
      "[CV 4/5] END max_depth=6, min_samples_leaf=6, min_samples_split=0.7000000000000002, n_estimators=10;, score=0.667 total time=   0.2s\n",
      "[CV 5/5] END max_depth=6, min_samples_leaf=6, min_samples_split=0.7000000000000002, n_estimators=10;, score=0.667 total time=   0.2s\n",
      "[CV 1/5] END max_depth=6, min_samples_leaf=1, min_samples_split=0.5000000000000001, n_estimators=60;, score=0.930 total time=   3.7s\n",
      "[CV 2/5] END max_depth=6, min_samples_leaf=1, min_samples_split=0.5000000000000001, n_estimators=60;, score=0.933 total time=   3.6s\n",
      "[CV 3/5] END max_depth=6, min_samples_leaf=1, min_samples_split=0.5000000000000001, n_estimators=60;, score=0.920 total time=   3.7s\n",
      "[CV 4/5] END max_depth=6, min_samples_leaf=1, min_samples_split=0.5000000000000001, n_estimators=60;, score=0.931 total time=   3.6s\n",
      "[CV 5/5] END max_depth=6, min_samples_leaf=1, min_samples_split=0.5000000000000001, n_estimators=60;, score=0.932 total time=   3.6s\n",
      "[CV 1/5] END max_depth=2, min_samples_leaf=1, min_samples_split=0.8000000000000003, n_estimators=70;, score=0.667 total time=   0.4s\n",
      "[CV 2/5] END max_depth=2, min_samples_leaf=1, min_samples_split=0.8000000000000003, n_estimators=70;, score=0.000 total time=   0.4s\n",
      "[CV 3/5] END max_depth=2, min_samples_leaf=1, min_samples_split=0.8000000000000003, n_estimators=70;, score=0.000 total time=   0.4s\n",
      "[CV 4/5] END max_depth=2, min_samples_leaf=1, min_samples_split=0.8000000000000003, n_estimators=70;, score=0.667 total time=   0.5s\n",
      "[CV 5/5] END max_depth=2, min_samples_leaf=1, min_samples_split=0.8000000000000003, n_estimators=70;, score=0.667 total time=   0.4s\n",
      "[CV 1/5] END max_depth=12, min_samples_leaf=4, min_samples_split=0.5000000000000001, n_estimators=70;, score=0.931 total time=   4.4s\n",
      "[CV 2/5] END max_depth=12, min_samples_leaf=4, min_samples_split=0.5000000000000001, n_estimators=70;, score=0.918 total time=   4.3s\n",
      "[CV 3/5] END max_depth=12, min_samples_leaf=4, min_samples_split=0.5000000000000001, n_estimators=70;, score=0.936 total time=   4.1s\n",
      "[CV 4/5] END max_depth=12, min_samples_leaf=4, min_samples_split=0.5000000000000001, n_estimators=70;, score=0.929 total time=   4.2s\n",
      "[CV 5/5] END max_depth=12, min_samples_leaf=4, min_samples_split=0.5000000000000001, n_estimators=70;, score=0.936 total time=   4.2s\n",
      "\n",
      "Best parameters:\n",
      "{'n_estimators': np.int64(15), 'min_samples_split': np.float64(0.30000000000000004), 'min_samples_leaf': np.int64(4), 'max_depth': np.int64(4)}\n",
      "\n"
     ]
    }
   ],
   "source": [
    "random_search_rf_clf = RandomizedSearchCV(estimator=rf_clf,\n",
    "                                          param_distributions=param_dist_rf_clf,\n",
    "                                          verbose=3,\n",
    "                                          cv=parameters_rf_clf.get('cross_validation')['folders'],\n",
    "                                          n_iter=parameters_rf_clf.get('cross_validation')['n_iterations'],\n",
    "                                          random_state=RANDOM_SEED,\n",
    "                                          scoring=make_scorer(f1_score)\n",
    "                                          )\n",
    "random_search_rf_clf.fit(X_train_balanced, y_train_balanced)\n",
    "\n",
    "best_params_rf_clf = random_search_rf_clf.best_params_\n",
    "rf_clf_tuning = RandomForestClassifier(**best_params_rf_clf, random_state=RANDOM_SEED)\n",
    "rf_clf_tuning.fit(X_train_balanced, y_train_balanced)\n",
    "print(f'\\nBest parameters:\\n{best_params_rf_clf}\\n')"
   ]
  },
  {
   "cell_type": "markdown",
   "metadata": {},
   "source": [
    "#### Cross-validation scores"
   ]
  },
  {
   "cell_type": "code",
   "execution_count": null,
   "metadata": {},
   "outputs": [],
   "source": [
    "cv_results_rf_clf_tuning = cross_validate(estimator=rf_clf_tuning,\n",
    "                                          X=X_train_balanced,\n",
    "                                          y=y_train_balanced,\n",
    "                                          scoring=parameters_rf_clf.get('cross_validation')['scores'],\n",
    "                                          cv=parameters_rf_clf.get('cross_validation')['folders'],\n",
    "                                          verbose=0,\n",
    "                                          return_train_score=True,\n",
    "                                          error_score=np.nan\n",
    "                                          )\n",
    "\n",
    "# Calculate cross-validation scores\n",
    "for score in parameters_rf_clf.get('cross_validation')['scores']:\n",
    "    cv_train_mean = cv_results_rf_clf_tuning[f'train_{score}'].mean().round(4)\n",
    "    cv_test_mean  = cv_results_rf_clf_tuning[f'test_{score}'].mean().round(4)\n",
    "    plot_cross_validation_score(cv_results_rf_clf_tuning, score)\n",
    "    print(f'>>>>>>>>> CV {score} train mean: {cv_train_mean}')\n",
    "    print(f'>>>>>>>>> CV {score} test mean:  {cv_test_mean}')"
   ]
  },
  {
   "cell_type": "code",
   "execution_count": null,
   "metadata": {},
   "outputs": [],
   "source": [
    "y_pred_rf_clf_tuning       = rf_clf_tuning.predict(X_val_filled_nan)\n",
    "y_pred_proba_rf_clf_tuning = rf_clf_tuning.predict_proba(X_val_filled_nan)"
   ]
  },
  {
   "cell_type": "code",
   "execution_count": null,
   "metadata": {},
   "outputs": [],
   "source": [
    "metrics_rf_clf_tuning = calculate_metrics_standard_cutoff(y_val, y_pred_rf_clf_tuning)"
   ]
  },
  {
   "cell_type": "code",
   "execution_count": null,
   "metadata": {},
   "outputs": [],
   "source": [
    "df_pred_proba_rf_clf_tuning = pd.DataFrame(y_pred_proba_rf_clf_tuning,\n",
    "                                           columns=['proba_non_event', 'proba_event']\n",
    "                                           )\n",
    "df_metrics_rf_clf_tuning = calculate_metrics_range_cutoff(df_pred_proba_rf_clf_tuning, y_val)\n",
    "df_metrics_rf_clf_tuning\n",
    "plot_metrics(df_metrics_rf_clf_tuning)"
   ]
  },
  {
   "cell_type": "markdown",
   "metadata": {},
   "source": [
    "### Feature importance"
   ]
  },
  {
   "cell_type": "code",
   "execution_count": null,
   "metadata": {},
   "outputs": [],
   "source": [
    "df_feat_importance_rf_clf = calculate_feature_importance(rf_clf_tuning)\n",
    "df_feat_importance_rf_clf.head()"
   ]
  },
  {
   "cell_type": "code",
   "execution_count": null,
   "metadata": {},
   "outputs": [],
   "source": [
    "important_features_rf_clf         = df_feat_importance_rf_clf['feature'].to_list()\n",
    "X_train_important_features_rf_clf = X_train_balanced[important_features_rf_clf]\n",
    "X_val_important_features_rf_clf   = X_val_filled_nan[important_features_rf_clf]\n",
    "\n",
    "rf_clf_tuning.fit(X_train_important_features_rf_clf, y_train_balanced)"
   ]
  },
  {
   "cell_type": "markdown",
   "metadata": {},
   "source": [
    "#### Cross-validation scores"
   ]
  },
  {
   "cell_type": "code",
   "execution_count": null,
   "metadata": {},
   "outputs": [],
   "source": [
    "cv_results_rf_clf_important_features = cross_validate(estimator=rf_clf_tuning,\n",
    "                                                      X=X_train_important_features_rf_clf,\n",
    "                                                      y=y_train_balanced,\n",
    "                                                      scoring=parameters_rf_clf.get('cross_validation')['scores'],\n",
    "                                                      cv=parameters_rf_clf.get('cross_validation')['folders'],\n",
    "                                                      verbose=0,\n",
    "                                                      return_train_score=True,\n",
    "                                                      error_score=np.nan\n",
    "                                                      )\n",
    "\n",
    "# Calculate cross-validation scores\n",
    "for score in parameters_rf_clf.get('cross_validation')['scores']:\n",
    "    cv_train_mean = cv_results_rf_clf_important_features[f'train_{score}'].mean().round(4)\n",
    "    cv_test_mean  = cv_results_rf_clf_important_features[f'test_{score}'].mean().round(4)\n",
    "    plot_cross_validation_score(cv_results_rf_clf_important_features, score)\n",
    "    print(f'>>>>>>>>> CV {score} train mean: {cv_train_mean}')\n",
    "    print(f'>>>>>>>>> CV {score} test mean:  {cv_test_mean}')"
   ]
  },
  {
   "cell_type": "code",
   "execution_count": null,
   "metadata": {},
   "outputs": [],
   "source": [
    "y_pred_rf_clf_important_features       = rf_clf_tuning.predict(X_val_important_features_rf_clf)\n",
    "y_pred_proba_rf_clf_important_features = rf_clf_tuning.predict_proba(X_val_important_features_rf_clf)"
   ]
  },
  {
   "cell_type": "code",
   "execution_count": null,
   "metadata": {},
   "outputs": [],
   "source": [
    "metrics_rf_clf_important_features = calculate_metrics_standard_cutoff(y_val, y_pred_rf_clf_important_features)"
   ]
  },
  {
   "cell_type": "code",
   "execution_count": null,
   "metadata": {},
   "outputs": [],
   "source": [
    "df_pred_proba_rf_clf_important_features = pd.DataFrame(y_pred_proba_rf_clf_important_features,\n",
    "                                                       columns=['proba_non_event', 'proba_event']\n",
    "                                                       )\n",
    "df_metrics_rf_clf_important_features = calculate_metrics_range_cutoff(df_pred_proba_rf_clf_important_features, y_val)\n",
    "df_metrics_rf_clf_important_features\n",
    "plot_metrics(df_metrics_rf_clf_important_features)"
   ]
  },
  {
   "cell_type": "markdown",
   "metadata": {},
   "source": [
    "## XGBoost"
   ]
  },
  {
   "cell_type": "code",
   "execution_count": null,
   "metadata": {},
   "outputs": [],
   "source": [
    "parameters_xgb_clf = {\n",
    "    \"model_parameters\": {\n",
    "        \"n_estimators\": [60, 80],\n",
    "        \"max_depth\": [10, 13],\n",
    "        \"learning_rate\": [0.05, 0.1],\n",
    "        \"subsample\": [0.8, 1],\n",
    "        \"colsample_bytree\": [0.6, 1]\n",
    "    },\n",
    "    \"cross_validation\": {\n",
    "        \"n_iterations\": 10,\n",
    "        \"folders\": 5,\n",
    "        \"scores\": [\n",
    "            \"accuracy\",\n",
    "            \"f1_macro\",\n",
    "            \"roc_auc\",\n",
    "            \"precision_macro\"\n",
    "        ]\n",
    "    },\n",
    "    \"maintenance_cost\": {\n",
    "        \"no_defect_cost\": 10,\n",
    "        \"preventive_cost\": 25,\n",
    "        \"corrective_cost\": 500\n",
    "    },\n",
    "    \"target\": \"class\",\n",
    "    \"cutoff\": 0.3,\n",
    "    \"model_name\": \"xgb_clf\",\n",
    "    \"predict_method\": \"predict_proba\"\n",
    "}"
   ]
  },
  {
   "cell_type": "code",
   "execution_count": null,
   "metadata": {},
   "outputs": [],
   "source": [
    "def create_hyper_parameters_range_xgb(parameters: dict):\n",
    "    range_n_estimators = np.arange(start=round(parameters.get('model_parameters')['n_estimators'][0], 2),\n",
    "                                   stop=round(parameters.get('model_parameters')['n_estimators'][-1], 2),\n",
    "                                   step=2\n",
    "                                   )\n",
    "    range_max_depth = np.arange(start=round(parameters.get('model_parameters')['max_depth'][0], 2),\n",
    "                                stop=round(parameters.get('model_parameters')['max_depth'][-1], 2),\n",
    "                                step=1\n",
    "                                )\n",
    "    range_learning_rate = np.arange(start=round(parameters.get('model_parameters')['learning_rate'][0], 2),\n",
    "                                    stop=round(parameters.get('model_parameters')['learning_rate'][-1], 2),\n",
    "                                    step=0.01\n",
    "                                    )\n",
    "    range_subsample = np.arange(start=round(parameters.get('model_parameters')['subsample'][0], 2),\n",
    "                                stop=round(parameters.get('model_parameters')['subsample'][-1], 2),\n",
    "                                step=0.015\n",
    "                                )\n",
    "    range_colsample_bytree = np.arange(start=round(parameters.get('model_parameters')['colsample_bytree'][0], 2),\n",
    "                                       stop=round(parameters.get('model_parameters')['colsample_bytree'][-1], 2),\n",
    "                                       step=0.05\n",
    "                                       )\n",
    "    param_distributions = {'n_estimators'     : range_n_estimators,\n",
    "                           'max_depth'        : range_max_depth,\n",
    "                           'learning_rate'    : range_learning_rate,\n",
    "                           'subsample'        : range_subsample,\n",
    "                           'colsample_bytree' :range_colsample_bytree\n",
    "                          }\n",
    "    \n",
    "    return param_distributions"
   ]
  },
  {
   "cell_type": "markdown",
   "metadata": {},
   "source": [
    "### Simple model"
   ]
  },
  {
   "cell_type": "code",
   "execution_count": null,
   "metadata": {},
   "outputs": [],
   "source": [
    "xgb_clf = XGBClassifier(random_state=RANDOM_SEED, verbosity=0)\n",
    "xgb_clf.fit(X_train_balanced, y_train_balanced)"
   ]
  },
  {
   "cell_type": "markdown",
   "metadata": {},
   "source": [
    "#### Cross-validation scores"
   ]
  },
  {
   "cell_type": "code",
   "execution_count": null,
   "metadata": {},
   "outputs": [],
   "source": [
    "cv_results_xgb_clf = cross_validate(estimator=xgb_clf,\n",
    "                                    X=X_train_balanced,\n",
    "                                    y=y_train_balanced,\n",
    "                                    scoring=parameters_xgb_clf.get('cross_validation')['scores'],\n",
    "                                    cv=parameters_xgb_clf.get('cross_validation')['folders'],\n",
    "                                    verbose=0,\n",
    "                                    return_train_score=True,\n",
    "                                    error_score=np.nan\n",
    "                                    )\n",
    "\n",
    "# Calculate cross-validation scores\n",
    "for score in parameters_xgb_clf.get('cross_validation')['scores']:\n",
    "    cv_train_mean = cv_results_xgb_clf[f'train_{score}'].mean().round(4)\n",
    "    cv_test_mean  = cv_results_xgb_clf[f'test_{score}'].mean().round(4)\n",
    "    plot_cross_validation_score(cv_results_xgb_clf, score)\n",
    "    print(f'>>>>>>>>> CV {score} train mean: {cv_train_mean}')\n",
    "    print(f'>>>>>>>>> CV {score} test mean:  {cv_test_mean}')"
   ]
  },
  {
   "cell_type": "code",
   "execution_count": null,
   "metadata": {},
   "outputs": [],
   "source": [
    "y_pred_xgb_clf       = xgb_clf.predict(X_val_filled_nan)\n",
    "y_pred_proba_xgb_clf = xgb_clf.predict_proba(X_val_filled_nan)"
   ]
  },
  {
   "cell_type": "code",
   "execution_count": null,
   "metadata": {},
   "outputs": [],
   "source": [
    "metrics_xgb_clf = calculate_metrics_standard_cutoff(y_val, y_pred_xgb_clf)"
   ]
  },
  {
   "cell_type": "code",
   "execution_count": null,
   "metadata": {},
   "outputs": [],
   "source": [
    "df_pred_proba_xgb_clf = pd.DataFrame(y_pred_proba_xgb_clf,\n",
    "                                     columns=['proba_non_event', 'proba_event']\n",
    "                                     )\n",
    "df_metrics_xgb_clf = calculate_metrics_range_cutoff(df_pred_proba_xgb_clf, y_val)\n",
    "plot_metrics(df_metrics_xgb_clf)"
   ]
  },
  {
   "cell_type": "markdown",
   "metadata": {},
   "source": [
    "### Tuning"
   ]
  },
  {
   "cell_type": "code",
   "execution_count": null,
   "metadata": {},
   "outputs": [],
   "source": [
    "param_dist_xgb_clf = create_hyper_parameters_range_xgb(parameters_xgb_clf)\n",
    "param_dist_xgb_clf"
   ]
  },
  {
   "cell_type": "code",
   "execution_count": null,
   "metadata": {},
   "outputs": [],
   "source": [
    "random_search_xgb_clf = RandomizedSearchCV(estimator=xgb_clf,\n",
    "                                           param_distributions=param_dist_xgb_clf,\n",
    "                                           verbose=3,\n",
    "                                           cv=parameters_xgb_clf.get('cross_validation')['folders'],\n",
    "                                           n_iter=parameters_xgb_clf.get('cross_validation')['n_iterations'],\n",
    "                                           random_state=RANDOM_SEED,\n",
    "                                           scoring=make_scorer(f1_score)\n",
    "                                           )\n",
    "random_search_xgb_clf.fit(X_train_balanced, y_train_balanced)\n",
    "\n",
    "best_params_xgb_clf = random_search_xgb_clf.best_params_\n",
    "xgb_clf_tuning = XGBClassifier(**best_params_xgb_clf, random_state=RANDOM_SEED)\n",
    "xgb_clf_tuning.fit(X_train_balanced, y_train_balanced)\n",
    "print(f'\\nBest parameters:\\n{best_params_xgb_clf}')"
   ]
  },
  {
   "cell_type": "markdown",
   "metadata": {},
   "source": [
    "#### Cross-validation scores"
   ]
  },
  {
   "cell_type": "code",
   "execution_count": null,
   "metadata": {},
   "outputs": [],
   "source": [
    "cv_results_xgb_clf_tuning = cross_validate(estimator=xgb_clf_tuning,\n",
    "                                           X=X_train_balanced,\n",
    "                                           y=y_train_balanced,\n",
    "                                           scoring=parameters_xgb_clf.get('cross_validation')['scores'],\n",
    "                                           cv=parameters_xgb_clf.get('cross_validation')['folders'],\n",
    "                                           verbose=0,\n",
    "                                           return_train_score=True,\n",
    "                                           error_score=np.nan\n",
    "                                           )\n",
    "\n",
    "# Calculate cross-validation scores\n",
    "for score in parameters_xgb_clf.get('cross_validation')['scores']:\n",
    "    cv_train_mean = cv_results_xgb_clf_tuning[f'train_{score}'].mean().round(4)\n",
    "    cv_test_mean  = cv_results_xgb_clf_tuning[f'test_{score}'].mean().round(4)\n",
    "    plot_cross_validation_score(cv_results_xgb_clf_tuning, score)\n",
    "    print(f'>>>>>>>>> CV {score} train mean: {cv_train_mean}')\n",
    "    print(f'>>>>>>>>> CV {score} test mean:  {cv_test_mean}')"
   ]
  },
  {
   "cell_type": "code",
   "execution_count": null,
   "metadata": {},
   "outputs": [],
   "source": [
    "y_pred_xgb_clf_tuning       = xgb_clf.predict(X_val_filled_nan)\n",
    "y_pred_proba_xgb_clf_tuning = xgb_clf.predict_proba(X_val_filled_nan)"
   ]
  },
  {
   "cell_type": "code",
   "execution_count": null,
   "metadata": {},
   "outputs": [],
   "source": [
    "metrics_xgb_clf_tuning = calculate_metrics_standard_cutoff(y_val, y_pred_xgb_clf_tuning)"
   ]
  },
  {
   "cell_type": "code",
   "execution_count": null,
   "metadata": {},
   "outputs": [],
   "source": [
    "df_pred_proba_xgb_clf_tuning = pd.DataFrame(y_pred_proba_xgb_clf_tuning,\n",
    "                                            columns=['proba_non_event', 'proba_event']\n",
    "                                           )\n",
    "df_metrics_xgb_clf_tuning = calculate_metrics_range_cutoff(df_pred_proba_xgb_clf_tuning, y_val)\n",
    "df_metrics_xgb_clf_tuning\n",
    "plot_metrics(df_metrics_xgb_clf_tuning)"
   ]
  },
  {
   "cell_type": "markdown",
   "metadata": {},
   "source": [
    "### Feature importance"
   ]
  },
  {
   "cell_type": "code",
   "execution_count": null,
   "metadata": {},
   "outputs": [],
   "source": [
    "df_feat_importance_xgb_clf = calculate_feature_importance(xgb_clf)\n",
    "df_feat_importance_xgb_clf.head()"
   ]
  },
  {
   "cell_type": "code",
   "execution_count": null,
   "metadata": {},
   "outputs": [],
   "source": [
    "important_features_xgb_clf         = df_feat_importance_xgb_clf['feature'].to_list()\n",
    "X_train_important_features_xgb_clf = X_train_balanced[important_features_xgb_clf]\n",
    "X_val_important_features_xgb_clf   = X_val_filled_nan[important_features_xgb_clf]\n",
    "\n",
    "xgb_clf_tuning.fit(X_train_important_features_xgb_clf, y_train_balanced)"
   ]
  },
  {
   "cell_type": "markdown",
   "metadata": {},
   "source": [
    "#### Cross-validation scores"
   ]
  },
  {
   "cell_type": "code",
   "execution_count": null,
   "metadata": {},
   "outputs": [],
   "source": [
    "cv_results_xgb_clf_important_features = cross_validate(estimator=xgb_clf_tuning,\n",
    "                                                       X=X_train_important_features_xgb_clf,\n",
    "                                                       y=y_train_balanced,\n",
    "                                                       scoring=parameters_xgb_clf.get('cross_validation')['scores'],\n",
    "                                                       cv=parameters_xgb_clf.get('cross_validation')['folders'],\n",
    "                                                       verbose=0,\n",
    "                                                       return_train_score=True,\n",
    "                                                       error_score=np.nan\n",
    "                                                       )\n",
    "\n",
    "# Calculate cross-validation scores\n",
    "for score in parameters_xgb_clf.get('cross_validation')['scores']:\n",
    "    cv_train_mean = cv_results_xgb_clf_important_features[f'train_{score}'].mean().round(4)\n",
    "    cv_test_mean  = cv_results_xgb_clf_important_features[f'test_{score}'].mean().round(4)\n",
    "    plot_cross_validation_score(cv_results_xgb_clf_important_features, score)\n",
    "    print(f'>>>>>>>>> CV {score} train mean: {cv_train_mean}')\n",
    "    print(f'>>>>>>>>> CV {score} test mean:  {cv_test_mean}')"
   ]
  },
  {
   "cell_type": "code",
   "execution_count": null,
   "metadata": {},
   "outputs": [],
   "source": [
    "y_pred_xgb_clf_important_features       = xgb_clf_tuning.predict(X_val_important_features_xgb_clf)\n",
    "y_pred_proba_xgb_clf_important_features = xgb_clf_tuning.predict_proba(X_val_important_features_xgb_clf)"
   ]
  },
  {
   "cell_type": "code",
   "execution_count": null,
   "metadata": {},
   "outputs": [],
   "source": [
    "metrics_xgb_clf_important_features = calculate_metrics_standard_cutoff(y_val, y_pred_xgb_clf_important_features)"
   ]
  },
  {
   "cell_type": "code",
   "execution_count": null,
   "metadata": {},
   "outputs": [],
   "source": [
    "df_pred_proba_xgb_clf_important_features = pd.DataFrame(y_pred_proba_xgb_clf_important_features,\n",
    "                                                        columns=['proba_non_event', 'proba_event']\n",
    "                                                       )\n",
    "df_metrics_xgb_clf_important_features = calculate_metrics_range_cutoff(df_pred_proba_xgb_clf_important_features, y_val)\n",
    "df_metrics_xgb_clf_important_features\n",
    "plot_metrics(df_metrics_xgb_clf_important_features)"
   ]
  },
  {
   "cell_type": "markdown",
   "metadata": {},
   "source": [
    "## MLPClassifier"
   ]
  },
  {
   "cell_type": "code",
   "execution_count": null,
   "metadata": {},
   "outputs": [],
   "source": [
    "scaler = StandardScaler()\n",
    "scaler.fit(X_train_balanced)\n",
    "\n",
    "X_train_scaled = scaler.transform(X_train_balanced)\n",
    "X_train_scaled = pd.DataFrame(X_train_scaled, columns=X_train_balanced.columns)\n",
    "df_train_scaled = df_target.join(X_train_scaled)\n",
    "df_train_scaled.rename(columns={'class': 'target'}, inplace=True)\n",
    "\n",
    "X_val_scaled = scaler.transform(X_val_filled_nan)\n",
    "X_val_scaled = pd.DataFrame(X_val_scaled, columns=X_val_filled_nan.columns)"
   ]
  },
  {
   "cell_type": "code",
   "execution_count": null,
   "metadata": {},
   "outputs": [],
   "source": [
    "parameters_mlp_clf = {'hyper_parameters': {'hidden_layer_sizes': [(200), (100, 50), (200, 100, 50)],\n",
    "                                           'max_iter': [500, 1000],\n",
    "                                           'activation': ['relu'],\n",
    "                                           'solver': ['adam'],\n",
    "                                           'alpha': [0.0001, 0.001],\n",
    "                                           'learning_rate': ['adaptive']\n",
    "                                          },\n",
    "                      \"cross_validation\": {\"n_iterations\": 5,\n",
    "                                           \"folders\": 5,\n",
    "                                           \"scores\": [\n",
    "                                               \"recall\",\n",
    "                                               \"f1_macro\",\n",
    "                                               \"roc_auc\",\n",
    "                                               \"precision_macro\"]\n",
    "                                          }\n",
    "                      }"
   ]
  },
  {
   "cell_type": "markdown",
   "metadata": {},
   "source": [
    "### Simple model"
   ]
  },
  {
   "cell_type": "code",
   "execution_count": null,
   "metadata": {},
   "outputs": [],
   "source": [
    "mlp_clf = MLPClassifier()\n",
    "mlp_clf.fit(X_train_scaled, y_train_balanced)"
   ]
  },
  {
   "cell_type": "markdown",
   "metadata": {},
   "source": [
    "#### Cross-validation scores"
   ]
  },
  {
   "cell_type": "code",
   "execution_count": null,
   "metadata": {},
   "outputs": [],
   "source": [
    "cv_results_mlp_clf = cross_validate(estimator=mlp_clf,\n",
    "                                    X=X_train_scaled,\n",
    "                                    y=y_train_balanced,\n",
    "                                    scoring=parameters_mlp_clf.get('cross_validation')['scores'],\n",
    "                                    cv=parameters_mlp_clf.get('cross_validation')['folders'],\n",
    "                                    verbose=0,\n",
    "                                    return_train_score=True,\n",
    "                                    error_score=np.nan\n",
    "                                    )\n",
    "\n",
    "# Calculate cross-validation scores\n",
    "for score in parameters_mlp_clf.get('cross_validation')['scores']:\n",
    "    cv_train_mean = cv_results_mlp_clf[f'train_{score}'].mean().round(4)\n",
    "    cv_test_mean  = cv_results_mlp_clf[f'test_{score}'].mean().round(4)\n",
    "    plot_cross_validation_score(cv_results_mlp_clf, score)\n",
    "    print(f'>>>>>>>>> CV {score} train mean: {cv_train_mean}')\n",
    "    print(f'>>>>>>>>> CV {score} test mean:  {cv_test_mean}')"
   ]
  },
  {
   "cell_type": "code",
   "execution_count": null,
   "metadata": {},
   "outputs": [],
   "source": [
    "plt.plot(mlp_clf.loss_curve_)\n",
    "plt.title(\"Loss Curve\", fontsize=14)\n",
    "plt.xlabel('Iterations')\n",
    "plt.ylabel('Cost')\n",
    "plt.show()"
   ]
  },
  {
   "cell_type": "code",
   "execution_count": null,
   "metadata": {},
   "outputs": [],
   "source": [
    "y_pred_mlp_clf       = mlp_clf.predict(X_val_scaled)\n",
    "y_pred_proba_mlp_clf = mlp_clf.predict_proba(X_val_scaled)"
   ]
  },
  {
   "cell_type": "code",
   "execution_count": null,
   "metadata": {},
   "outputs": [],
   "source": [
    "metrics_mlp_clf = calculate_metrics_standard_cutoff(y_val, y_pred_mlp_clf)"
   ]
  },
  {
   "cell_type": "code",
   "execution_count": null,
   "metadata": {},
   "outputs": [],
   "source": [
    "df_pred_proba_mlp_clf = pd.DataFrame(y_pred_proba_mlp_clf,\n",
    "                                     columns=['proba_non_event', 'proba_event']\n",
    "                                     )\n",
    "df_metrics_mlp_clf = calculate_metrics_range_cutoff(df_pred_proba_mlp_clf, y_val)\n",
    "plot_metrics(df_metrics_mlp_clf)"
   ]
  },
  {
   "cell_type": "markdown",
   "metadata": {},
   "source": [
    "## AdaBoosting"
   ]
  },
  {
   "cell_type": "markdown",
   "metadata": {},
   "source": [
    "### Random forest"
   ]
  },
  {
   "cell_type": "code",
   "execution_count": null,
   "metadata": {},
   "outputs": [],
   "source": [
    "ada_rf_clf = AdaBoostClassifier(estimator=RandomForestClassifier(verbose=0, random_state=RANDOM_SEED),\n",
    "                                random_state=RANDOM_SEED,\n",
    "                                algorithm='SAMME'\n",
    "                               )\n",
    "ada_rf_clf.fit(X_train_scaled, y_train_balanced)"
   ]
  },
  {
   "cell_type": "markdown",
   "metadata": {},
   "source": [
    "#### Cross-validation scores"
   ]
  },
  {
   "cell_type": "code",
   "execution_count": null,
   "metadata": {},
   "outputs": [],
   "source": [
    "cv_results_ada_rf_clf = cross_validate(estimator=ada_rf_clf,\n",
    "                                       X=X_train_scaled,\n",
    "                                       y=y_train_balanced,\n",
    "                                       scoring=parameters_rf_clf.get('cross_validation')['scores'],\n",
    "                                       cv=parameters_rf_clf.get('cross_validation')['folders'],\n",
    "                                       verbose=0,\n",
    "                                       return_train_score=True,\n",
    "                                       error_score=np.nan\n",
    "                                       )\n",
    "\n",
    "# Calculate cross-validation scores\n",
    "for score in parameters_rf_clf.get('cross_validation')['scores']:\n",
    "    cv_train_mean = cv_results_ada_rf_clf[f'train_{score}'].mean().round(4)\n",
    "    cv_test_mean  = cv_results_ada_rf_clf[f'test_{score}'].mean().round(4)\n",
    "    plot_cross_validation_score(cv_results_ada_rf_clf, score)\n",
    "    print(f'>>>>>>>>> CV {score} train mean: {cv_train_mean}')\n",
    "    print(f'>>>>>>>>> CV {score} test mean:  {cv_test_mean}')"
   ]
  },
  {
   "cell_type": "code",
   "execution_count": null,
   "metadata": {},
   "outputs": [],
   "source": [
    "y_pred_ada_rf_clf       = ada_rf_clf.predict(X_val_scaled)\n",
    "y_pred_proba_ada_rf_clf = ada_rf_clf.predict_proba(X_val_scaled)"
   ]
  },
  {
   "cell_type": "code",
   "execution_count": null,
   "metadata": {},
   "outputs": [],
   "source": [
    "metrics_ada_rf_clf = calculate_metrics_standard_cutoff(y_val, y_pred_ada_rf_clf)"
   ]
  },
  {
   "cell_type": "code",
   "execution_count": null,
   "metadata": {},
   "outputs": [],
   "source": [
    "df_pred_proba_ada_rf_clf = pd.DataFrame(y_pred_proba_ada_rf_clf,\n",
    "                                        columns=['proba_non_event', 'proba_event']\n",
    "                                       )\n",
    "df_metrics_ada_rf_clf = calculate_metrics_range_cutoff(df_pred_proba_ada_rf_clf, y_val)\n",
    "plot_metrics(df_metrics_ada_rf_clf)"
   ]
  },
  {
   "cell_type": "markdown",
   "metadata": {},
   "source": [
    "### Decision tree"
   ]
  },
  {
   "cell_type": "code",
   "execution_count": null,
   "metadata": {},
   "outputs": [],
   "source": [
    "from    sklearn.tree import DecisionTreeClassifier"
   ]
  },
  {
   "cell_type": "code",
   "execution_count": null,
   "metadata": {},
   "outputs": [],
   "source": [
    "ada_dt_clf = AdaBoostClassifier(estimator=DecisionTreeClassifier(random_state=RANDOM_SEED),\n",
    "                                random_state=RANDOM_SEED,\n",
    "                                algorithm='SAMME'\n",
    "                                )\n",
    "ada_dt_clf.fit(X_train_scaled, y_train_balanced)"
   ]
  },
  {
   "cell_type": "markdown",
   "metadata": {},
   "source": [
    "#### Cross-validation scores"
   ]
  },
  {
   "cell_type": "code",
   "execution_count": null,
   "metadata": {},
   "outputs": [],
   "source": [
    "cv_results_ada_dt_clf = cross_validate(estimator=ada_dt_clf,\n",
    "                                       X=X_train_scaled,\n",
    "                                       y=y_train_balanced,\n",
    "                                       scoring=parameters_rf_clf.get('cross_validation')['scores'],\n",
    "                                       cv=parameters_rf_clf.get('cross_validation')['folders'],\n",
    "                                       verbose=0,\n",
    "                                       return_train_score=True,\n",
    "                                       error_score=np.nan\n",
    "                                       )\n",
    "\n",
    "# Calculate cross-validation scores\n",
    "for score in parameters_rf_clf.get('cross_validation')['scores']:\n",
    "    cv_train_mean = cv_results_ada_dt_clf[f'train_{score}'].mean().round(4)\n",
    "    cv_test_mean  = cv_results_ada_dt_clf[f'test_{score}'].mean().round(4)\n",
    "    plot_cross_validation_score(cv_results_ada_dt_clf, score)\n",
    "    print(f'>>>>>>>>> CV {score} train mean: {cv_train_mean}')\n",
    "    print(f'>>>>>>>>> CV {score} test mean:  {cv_test_mean}')"
   ]
  },
  {
   "cell_type": "code",
   "execution_count": null,
   "metadata": {},
   "outputs": [],
   "source": [
    "y_pred_ada_dt_clf       = ada_dt_clf.predict(X_val_scaled)\n",
    "y_pred_proba_ada_dt_clf = ada_dt_clf.predict_proba(X_val_scaled)"
   ]
  },
  {
   "cell_type": "code",
   "execution_count": null,
   "metadata": {},
   "outputs": [],
   "source": [
    "metrics_ada_dt_clf = calculate_metrics_standard_cutoff(y_val, y_pred_ada_dt_clf)"
   ]
  },
  {
   "cell_type": "code",
   "execution_count": null,
   "metadata": {},
   "outputs": [],
   "source": [
    "df_pred_proba_ada_dt_clf = pd.DataFrame(y_pred_proba_ada_dt_clf,\n",
    "                                        columns=['proba_non_event', 'proba_event']\n",
    "                                        )\n",
    "df_metrics_ada_dt_clf = calculate_metrics_range_cutoff(df_pred_proba_ada_dt_clf, y_val)\n",
    "plot_metrics(df_metrics_ada_dt_clf)"
   ]
  },
  {
   "cell_type": "markdown",
   "metadata": {},
   "source": [
    "# Compare models"
   ]
  },
  {
   "cell_type": "markdown",
   "metadata": {},
   "source": [
    "## Standard cutoff"
   ]
  },
  {
   "cell_type": "code",
   "execution_count": null,
   "metadata": {},
   "outputs": [],
   "source": [
    "columns = ['accuracy',\n",
    "           'precision',\n",
    "           'recall',\n",
    "           'f1score',\n",
    "           'auc_value',\n",
    "           'specificity',\n",
    "           'tn', 'fp', 'fn', 'tp',\n",
    "           'false_positive_rate',\n",
    "           'false_negative_rate',\n",
    "           'false_classification_rate',\n",
    "           'no_defect_maintenance_cost',\n",
    "           'preventive_maintenance_cost',\n",
    "           'corrective_maintenance_cost',\n",
    "           'total_maintenance_cost']\n",
    "\n",
    "df_metrics_standard_cutoff = pd.DataFrame(metrics_rf_clf,\n",
    "                                          columns=columns\n",
    "                                         )\n",
    "df_metrics_standard_cutoff = pd.concat([df_metrics_standard_cutoff,\n",
    "                                         pd.DataFrame(metrics_rf_clf_tuning, columns=columns)], axis=0)\n",
    "df_metrics_standard_cutoff = pd.concat([df_metrics_standard_cutoff,\n",
    "                                         pd.DataFrame(metrics_rf_clf_important_features, columns=columns)], axis=0)\n",
    "df_metrics_standard_cutoff = pd.concat([df_metrics_standard_cutoff,\n",
    "                                         pd.DataFrame(metrics_xgb_clf, columns=columns)], axis=0)\n",
    "df_metrics_standard_cutoff = pd.concat([df_metrics_standard_cutoff,\n",
    "                                         pd.DataFrame(metrics_xgb_clf_tuning, columns=columns)], axis=0)\n",
    "df_metrics_standard_cutoff = pd.concat([df_metrics_standard_cutoff,\n",
    "                                         pd.DataFrame(metrics_xgb_clf_important_features, columns=columns)], axis=0)\n",
    "df_metrics_standard_cutoff = pd.concat([df_metrics_standard_cutoff,\n",
    "                                         pd.DataFrame(metrics_mlp_clf, columns=columns)], axis=0)\n",
    "df_metrics_standard_cutoff = pd.concat([df_metrics_standard_cutoff,\n",
    "                                         pd.DataFrame(metrics_ada_rf_clf, columns=columns)], axis=0)\n",
    "df_metrics_standard_cutoff = pd.concat([df_metrics_standard_cutoff,\n",
    "                                         pd.DataFrame(metrics_ada_dt_clf, columns=columns)], axis=0)\n",
    "df_metrics_standard_cutoff['model'] = ['rf_clf',\n",
    "                                       'rf_clf_tuning',\n",
    "                                       'ada_rf_clf_tuning',\n",
    "                                       'xgb_clf',\n",
    "                                       'xgb_clf_tuning',\n",
    "                                       'xgb_clf_important_features',\n",
    "                                       'mlp_clf',\n",
    "                                       'ada_rf_clf',\n",
    "                                       'ada_dt_clf'\n",
    "                                       ]\n",
    "df_metrics_standard_cutoff"
   ]
  },
  {
   "cell_type": "code",
   "execution_count": null,
   "metadata": {},
   "outputs": [],
   "source": [
    "lower_total_cost = df_metrics_standard_cutoff['total_maintenance_cost'].min()\n",
    "select_model = df_metrics_standard_cutoff[df_metrics_standard_cutoff['total_maintenance_cost'] == lower_total_cost]\n",
    "select_model"
   ]
  },
  {
   "cell_type": "code",
   "execution_count": null,
   "metadata": {},
   "outputs": [],
   "source": [
    "for column in df_metrics_standard_cutoff.columns:\n",
    "    if column != 'model':\n",
    "        fig = px.bar(df_metrics_standard_cutoff,\n",
    "                x='model',\n",
    "                y=column,\n",
    "                text_auto=True,\n",
    "                text=column\n",
    "                )\n",
    "        fig.update_traces(texttemplate='%{text:.3f}')\n",
    "\n",
    "        fig.update_layout(height=400,\n",
    "                        width=800,\n",
    "                        showlegend=True,\n",
    "                        margin=dict(l=10, r=10, b=10, t=10),\n",
    "                        yaxis = dict(title=column.title()),\n",
    "                        xaxis = dict(title='Model')\n",
    "                        )\n",
    "        fig.show()"
   ]
  },
  {
   "cell_type": "markdown",
   "metadata": {},
   "source": [
    "## Various cutoffs"
   ]
  },
  {
   "cell_type": "code",
   "execution_count": null,
   "metadata": {},
   "outputs": [],
   "source": [
    "df_compare_metrics = df_metrics_rf_clf.copy()\n",
    "df_compare_metrics['model'] = 'rf_clf'"
   ]
  },
  {
   "cell_type": "code",
   "execution_count": null,
   "metadata": {},
   "outputs": [],
   "source": [
    "df_metrics_rf_clf_tuning['model']              = 'rf_clf_tuning'\n",
    "df_metrics_rf_clf_important_features['model']  = 'rf_clf_important_features'\n",
    "df_metrics_xgb_clf['model']                    = 'xgb_clf'\n",
    "df_metrics_xgb_clf_tuning['model']             = 'xgb_clf_tuning'\n",
    "df_metrics_xgb_clf_important_features['model'] = 'xgb_clf_important_features'\n",
    "df_metrics_mlp_clf['model']                    = 'mlp_clf'\n",
    "df_metrics_ada_rf_clf['model']                 = 'ada_rf_clf'\n",
    "df_metrics_ada_dt_clf['model']                 = 'ada_dt_clf'\n",
    "\n",
    "df_compare_metrics = pd.concat([df_compare_metrics, df_metrics_rf_clf_tuning], axis=0)\n",
    "df_compare_metrics = pd.concat([df_compare_metrics, df_metrics_rf_clf_important_features], axis=0)\n",
    "df_compare_metrics = pd.concat([df_compare_metrics, df_metrics_xgb_clf], axis=0)\n",
    "df_compare_metrics = pd.concat([df_compare_metrics, df_metrics_xgb_clf_tuning], axis=0)\n",
    "df_compare_metrics = pd.concat([df_compare_metrics, df_metrics_xgb_clf_important_features], axis=0)\n",
    "df_compare_metrics = pd.concat([df_compare_metrics, df_metrics_mlp_clf], axis=0)\n",
    "df_compare_metrics = pd.concat([df_compare_metrics, df_metrics_ada_rf_clf], axis=0)\n",
    "df_compare_metrics = pd.concat([df_compare_metrics, df_metrics_ada_dt_clf], axis=0)\n",
    "\n",
    "df_compare_metrics"
   ]
  },
  {
   "cell_type": "code",
   "execution_count": null,
   "metadata": {},
   "outputs": [],
   "source": [
    "df_compare_metrics.groupby(['cutoff', 'model']).mean()"
   ]
  },
  {
   "cell_type": "code",
   "execution_count": null,
   "metadata": {},
   "outputs": [],
   "source": [
    "min_total_cost = df_compare_metrics['total_maintenance_cost'].min()\n",
    "df_compare_metrics[df_compare_metrics['total_maintenance_cost'] == min_total_cost]"
   ]
  },
  {
   "cell_type": "code",
   "execution_count": null,
   "metadata": {},
   "outputs": [],
   "source": [
    "df_compare_metrics[df_compare_metrics['cutoff'] == 0.5]"
   ]
  },
  {
   "cell_type": "markdown",
   "metadata": {},
   "source": [
    "# Test"
   ]
  },
  {
   "cell_type": "code",
   "execution_count": null,
   "metadata": {},
   "outputs": [],
   "source": [
    "df_test = pd.read_csv('data\\\\original\\\\air_system_present_year.csv',\n",
    "                      encoding='utf-8',\n",
    "                      na_values=['na']\n",
    "                      )"
   ]
  },
  {
   "cell_type": "code",
   "execution_count": null,
   "metadata": {},
   "outputs": [],
   "source": [
    "df_test_target = df_test[['class']]\n",
    "# Change class to int dummies\n",
    "map_class = {'neg': 0, 'pos': 1}\n",
    "df_test_target.loc[:, 'class'] = df_test_target['class'].map(map_class)\n",
    "y_test = df_test_target['class'].astype(int)\n",
    "y_test"
   ]
  },
  {
   "cell_type": "code",
   "execution_count": null,
   "metadata": {},
   "outputs": [],
   "source": [
    "# Calculate events proportion\n",
    "total_test     = df_test_target.shape[0]\n",
    "non_event_test = df_test_target[df_test_target['class'] == 0].shape[0]\n",
    "event_test     = df_test_target[df_test_target['class'] == 1].shape[0]\n",
    "\n",
    "non_event_test_percent = round(non_event_test / total_test * 100, 2)\n",
    "event_test_percent     = round(event_test / total_test * 100, 2)\n",
    "\n",
    "non_event_test_percent, event_test_percent"
   ]
  },
  {
   "cell_type": "code",
   "execution_count": null,
   "metadata": {},
   "outputs": [],
   "source": [
    "df_test_features = df_test[X_train_balanced.columns]\n",
    "df_test_features = df_test_features.astype(float)\n",
    "df_test_features"
   ]
  },
  {
   "cell_type": "code",
   "execution_count": null,
   "metadata": {},
   "outputs": [],
   "source": [
    "df_test_features.isna().sum().sort_values(ascending=False)"
   ]
  },
  {
   "cell_type": "markdown",
   "metadata": {},
   "source": [
    "## Input data on NaN"
   ]
  },
  {
   "cell_type": "code",
   "execution_count": null,
   "metadata": {},
   "outputs": [],
   "source": [
    "X_test_filled_nan = imputer.transform(df_test_features)\n",
    "X_test_filled_nan = pd.DataFrame(X_test_filled_nan, columns=df_test_features.columns)\n",
    "X_test_filled_nan.isna().sum().sum()"
   ]
  },
  {
   "cell_type": "code",
   "execution_count": null,
   "metadata": {},
   "outputs": [],
   "source": [
    "X_test_filled_nan.head()"
   ]
  },
  {
   "cell_type": "markdown",
   "metadata": {},
   "source": [
    "# Predict"
   ]
  },
  {
   "cell_type": "code",
   "execution_count": null,
   "metadata": {},
   "outputs": [],
   "source": [
    "select_model"
   ]
  },
  {
   "cell_type": "code",
   "execution_count": null,
   "metadata": {},
   "outputs": [],
   "source": [
    "rf_clf_tuning.fit(X_train_balanced, y_train_balanced)"
   ]
  },
  {
   "cell_type": "code",
   "execution_count": null,
   "metadata": {},
   "outputs": [],
   "source": [
    "y_pred_test = rf_clf_tuning.predict(X_test_filled_nan)\n",
    "y_pred_proba_test = rf_clf_tuning.predict_proba(X_test_filled_nan)"
   ]
  },
  {
   "cell_type": "code",
   "execution_count": null,
   "metadata": {},
   "outputs": [],
   "source": [
    "metrics_test = calculate_metrics_standard_cutoff(y_test, y_pred_test)"
   ]
  },
  {
   "cell_type": "code",
   "execution_count": null,
   "metadata": {},
   "outputs": [],
   "source": [
    "df_pred_proba_rf_clf_tuning = pd.DataFrame(y_pred_proba_rf_clf_tuning,\n",
    "                                           columns=['proba_non_event', 'proba_event']\n",
    "                                           )\n",
    "df_metrics_rf_clf_tuning = calculate_metrics_range_cutoff(df_pred_proba_rf_clf_tuning, y_val)\n",
    "df_metrics_rf_clf_tuning\n",
    "plot_metrics(df_metrics_rf_clf_tuning)"
   ]
  },
  {
   "cell_type": "markdown",
   "metadata": {},
   "source": [
    "# Historical data"
   ]
  },
  {
   "cell_type": "code",
   "execution_count": null,
   "metadata": {},
   "outputs": [],
   "source": [
    "min_test_cost = df_metrics_rf_clf_tuning['total_maintenance_cost'].min()\n",
    "min_test_cost"
   ]
  },
  {
   "cell_type": "code",
   "execution_count": null,
   "metadata": {},
   "outputs": [],
   "source": [
    "historical_cost = pd.DataFrame(data=[[24000], [26000], [28999], [32000], [37000], [min_test_cost]],\n",
    "                               index=[2016, 2017, 2018, 2019, 2020, 2021],\n",
    "                               columns=['cost']\n",
    "                               )\n",
    "historical_cost['pct_change'] = historical_cost['cost'].pct_change(periods=1) * 100\n",
    "historical_cost['amount_change'] = historical_cost['cost'].diff()\n",
    "\n",
    "historical_cost"
   ]
  },
  {
   "cell_type": "code",
   "execution_count": null,
   "metadata": {},
   "outputs": [],
   "source": [
    "total_historical_cost = historical_cost.sum().values[0]\n",
    "total_historical_cost"
   ]
  },
  {
   "cell_type": "code",
   "execution_count": null,
   "metadata": {},
   "outputs": [],
   "source": [
    "fig = make_subplots()\n",
    "\n",
    "fig.add_trace(go.Bar(\n",
    "    x=historical_cost.index[:-1],\n",
    "    y=historical_cost['cost'][:-1],\n",
    "    name='Historical cost',\n",
    "    marker=dict(color='red'),\n",
    "    text=historical_cost['cost'][:-1])\n",
    "    )\n",
    "\n",
    "fig.add_trace(go.Bar(\n",
    "    x=historical_cost.index[-1:],\n",
    "    y=historical_cost['cost'][-1:],\n",
    "    name='Estimated cost',\n",
    "    marker=dict(color='Blue'),\n",
    "    text=historical_cost['cost'][-1:])\n",
    "    )\n",
    "\n",
    "fig.update_layout(height=400,\n",
    "                  width=800,\n",
    "                  showlegend=True,\n",
    "                  margin=dict(l=10, r=10, b=10, t=35, pad=0),\n",
    "                  xaxis=dict(title=None),\n",
    "                  yaxis=dict(title='US$', titlefont=dict(size=14)),\n",
    "                  title=f\"US$ {abs(historical_cost['amount_change'][-1:].values[0]):.2f} saved with machine learning\"\n",
    "                  )\n",
    "fig.show()"
   ]
  },
  {
   "cell_type": "code",
   "execution_count": null,
   "metadata": {},
   "outputs": [],
   "source": [
    "fig = make_subplots()\n",
    "\n",
    "fig.add_trace(go.Bar(\n",
    "    x=historical_cost.index[:-1],\n",
    "    y=historical_cost['pct_change'][:-1],\n",
    "    name='Historical cost',\n",
    "    marker=dict(color='red'),\n",
    "    text=historical_cost['pct_change'][:-1].round(2))\n",
    "    )\n",
    "\n",
    "fig.add_trace(go.Bar(\n",
    "    x=historical_cost.index[-1:],\n",
    "    y=historical_cost['pct_change'][-1:],\n",
    "    name='Estimated cost',\n",
    "    marker=dict(color='blue'),\n",
    "    text=historical_cost['pct_change'][-1:].round(2))\n",
    "    )\n",
    "\n",
    "fig.update_traces(texttemplate='%{text:.2f}%')\n",
    "\n",
    "fig.update_layout(height=400,\n",
    "                  width=800,\n",
    "                  showlegend=True,\n",
    "                  margin=dict(l=10, r=10, b=10, t=35, pad=0),\n",
    "                  xaxis=dict(title=None),\n",
    "                  yaxis=dict(title='%', titlefont=dict(size=14)),\n",
    "                  title='Percentage cost variation through years'\n",
    "                  )\n",
    "fig.show()"
   ]
  },
  {
   "cell_type": "code",
   "execution_count": null,
   "metadata": {},
   "outputs": [],
   "source": []
  }
 ],
 "metadata": {
  "kernelspec": {
   "display_name": "venv",
   "language": "python",
   "name": "python3"
  },
  "language_info": {
   "codemirror_mode": {
    "name": "ipython",
    "version": 3
   },
   "file_extension": ".py",
   "mimetype": "text/x-python",
   "name": "python",
   "nbconvert_exporter": "python",
   "pygments_lexer": "ipython3",
   "version": "3.11.9"
  }
 },
 "nbformat": 4,
 "nbformat_minor": 2
}
